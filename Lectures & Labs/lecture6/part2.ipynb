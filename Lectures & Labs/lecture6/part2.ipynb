{
 "cells": [
  {
   "cell_type": "code",
   "execution_count": 1,
   "metadata": {},
   "outputs": [
    {
     "name": "stdout",
     "output_type": "stream",
     "text": [
      "Duke Kunshan University is a Sino-American partnership of Duke University and Wuhan University to create a world-class liberal arts and research university offering a range of academic programs for students from China and throughout the world. A non-profit, joint-venture institution, Duke Kunshan University was granted accreditation approval by China鈥檚 Ministry of Education in September 2013 and welcomed its inaugural class of students in August 2014.\n",
      "With the goal of spearheading the future of higher education, Duke Kunshan University is influenced and informed by both Chinese and American traditions of higher education. The shared vision of Duke University and Wuhan University is that Duke Kunshan will help address the changing needs of global higher education. Their rich heritage inspires Duke Kunshan University to pursue academic excellence and integrity and to apply classroom knowledge in service to society. Duke Kunshan University delivers academic programs designed to address society鈥檚 future needs through a curriculum based in the liberal arts tradition and a commitment to problem-based learning that challenges students to apply their knowledge during the learning process.\n",
      "Duke Kunshan University is governed by an independent Board of Trustees and operates under a set of guiding principles that are consistent with those of world-leading universities. Administrative operations are in the charge of the university leadership team, headed by the Chancellor and the Executive Vice Chancellor. Liu Jingnan, Duke Kunshan鈥檚 Chancellor, is a distinguished scientist, the former president of Wuhan University and a member of the Chinese Academy of Engineering. Denis Simon, the Executive Vice Chancellor, is a long-time expert on U.S.-China bilateral science and technology relations and a member of the U.S. Experts Group within the U.S.-China Innovation Dialogue.\n"
     ]
    }
   ],
   "source": [
    "import re\n",
    "\n",
    "hand = open('dku_about.txt')\n",
    "for line in hand:\n",
    "    line = line.rstrip()\n",
    "    if re.search('Wuhan University', line) :\n",
    "        print(line)\n"
   ]
  },
  {
   "cell_type": "code",
   "execution_count": 3,
   "metadata": {},
   "outputs": [
    {
     "ename": "FileNotFoundError",
     "evalue": "[Errno 2] No such file or directory: 'ttt.txt'",
     "output_type": "error",
     "traceback": [
      "\u001b[1;31m---------------------------------------------------------------------------\u001b[0m",
      "\u001b[1;31mFileNotFoundError\u001b[0m                         Traceback (most recent call last)",
      "\u001b[1;32m<ipython-input-3-78dbae266b6f>\u001b[0m in \u001b[0;36m<module>\u001b[1;34m()\u001b[0m\n\u001b[1;32m----> 1\u001b[1;33m \u001b[0mhand1\u001b[0m \u001b[1;33m=\u001b[0m \u001b[0mopen\u001b[0m\u001b[1;33m(\u001b[0m\u001b[1;34m'ttt.txt'\u001b[0m\u001b[1;33m)\u001b[0m\u001b[1;33m\u001b[0m\u001b[0m\n\u001b[0m",
      "\u001b[1;31mFileNotFoundError\u001b[0m: [Errno 2] No such file or directory: 'ttt.txt'"
     ]
    }
   ],
   "source": [
    "hand1 = open('ttt.txt')"
   ]
  },
  {
   "cell_type": "code",
   "execution_count": 4,
   "metadata": {},
   "outputs": [
    {
     "data": {
      "text/plain": [
       "<_sre.SRE_Match object; span=(2, 18), match='Wuhan University'>"
      ]
     },
     "execution_count": 4,
     "metadata": {},
     "output_type": "execute_result"
    }
   ],
   "source": [
    "a=re.search('Wuhan University', 'aaWuhan UniversityaaWuhan Universityaa')\n",
    "a"
   ]
  },
  {
   "cell_type": "code",
   "execution_count": 53,
   "metadata": {},
   "outputs": [
    {
     "data": {
      "text/plain": [
       "['789']"
      ]
     },
     "execution_count": 53,
     "metadata": {},
     "output_type": "execute_result"
    }
   ],
   "source": [
    "import re\n",
    "line='456 ab-c 12+.3 cdf 789'\n",
    "re.findall('^\\d+\\s[\\-a-z]+\\s[\\d+.]+\\s[a-z]+\\s(\\d+)',line)"
   ]
  },
  {
   "cell_type": "markdown",
   "metadata": {},
   "source": [
    "# regular expression"
   ]
  },
  {
   "cell_type": "markdown",
   "metadata": {},
   "source": [
    "![](regularexpression.png)"
   ]
  },
  {
   "cell_type": "code",
   "execution_count": 8,
   "metadata": {},
   "outputs": [
    {
     "data": {
      "text/plain": [
       "['ml442', 'ue999']"
      ]
     },
     "execution_count": 8,
     "metadata": {},
     "output_type": "execute_result"
    }
   ],
   "source": [
    "import re\n",
    "line='ml442@duke.edu ue999@duke.edu'\n",
    "re.findall('([a-z0-9]+)@duke.edu',line)"
   ]
  },
  {
   "cell_type": "code",
   "execution_count": 1,
   "metadata": {},
   "outputs": [
    {
     "data": {
      "text/plain": [
       "['442']"
      ]
     },
     "execution_count": 1,
     "metadata": {},
     "output_type": "execute_result"
    }
   ],
   "source": [
    "import re\n",
    "line='ml442@duke.edu ml442@duke.edu'\n",
    "re.findall('^[a-z]+(\\d+)@duke.edu\\s',line)"
   ]
  },
  {
   "cell_type": "code",
   "execution_count": 16,
   "metadata": {},
   "outputs": [
    {
     "data": {
      "text/plain": [
       "['09']"
      ]
     },
     "execution_count": 16,
     "metadata": {},
     "output_type": "execute_result"
    }
   ],
   "source": [
    "line='From stephen.marquard @ uct.ac.za Sat Jan  5 09:14:16 2008'\n",
    "re.findall('^\\w+\\s+[\\w.]+\\s+@\\s+[\\w.]+\\s+[\\w.]+\\s+[\\w.]+\\s+\\d\\s+(\\d+):\\d+:\\d+\\s+\\d+',line)"
   ]
  },
  {
   "cell_type": "code",
   "execution_count": 2,
   "metadata": {},
   "outputs": [
    {
     "data": {
      "text/plain": [
       "['09']"
      ]
     },
     "execution_count": 2,
     "metadata": {},
     "output_type": "execute_result"
    }
   ],
   "source": [
    "line='From stephen.marquard @ uct.ac.za Sat Jan  5 09:14:16 2008'\n",
    "re.findall('(\\d+):\\d+:\\d+\\s+\\d+$',line)"
   ]
  },
  {
   "cell_type": "code",
   "execution_count": 3,
   "metadata": {},
   "outputs": [
    {
     "data": {
      "text/plain": [
       "['09']"
      ]
     },
     "execution_count": 3,
     "metadata": {},
     "output_type": "execute_result"
    }
   ],
   "source": [
    "line='From stephen.marquard @ uct.ac.za Sat Jan  5 09:14:16 2008'\n",
    "re.findall('.(\\d+):\\d+:\\d+.',line)"
   ]
  },
  {
   "cell_type": "code",
   "execution_count": 4,
   "metadata": {},
   "outputs": [
    {
     "data": {
      "text/plain": [
       "['@']"
      ]
     },
     "execution_count": 4,
     "metadata": {},
     "output_type": "execute_result"
    }
   ],
   "source": [
    "line='From stephen.marquard @ uct.ac.za Sat Jan  5 09:14:16 2008'\n",
    "re.findall('@',line)\n"
   ]
  },
  {
   "cell_type": "code",
   "execution_count": 4,
   "metadata": {},
   "outputs": [
    {
     "data": {
      "text/plain": [
       "['za']"
      ]
     },
     "execution_count": 4,
     "metadata": {},
     "output_type": "execute_result"
    }
   ],
   "source": [
    "import re\n",
    "line='From stephen.marquard@uct.ac.za Sat Jan  5 09:14:16 2008'\n",
    "re.findall('@[a-z]*\\.[a-z]*\\.([a-z]*)',line)"
   ]
  },
  {
   "cell_type": "code",
   "execution_count": 5,
   "metadata": {},
   "outputs": [
    {
     "data": {
      "text/plain": [
       "['abc']"
      ]
     },
     "execution_count": 5,
     "metadata": {},
     "output_type": "execute_result"
    }
   ],
   "source": [
    "import re\n",
    "line='abc@def@hij'\n",
    "re.findall('([a-z]+)@[a-z]+@',line)"
   ]
  },
  {
   "cell_type": "code",
   "execution_count": 7,
   "metadata": {},
   "outputs": [
    {
     "data": {
      "text/plain": [
       "['-0.393']"
      ]
     },
     "execution_count": 7,
     "metadata": {},
     "output_type": "execute_result"
    }
   ],
   "source": [
    "line='From stephen.marquard@uct.ac.za Sat Jan -0.393 5 09:14:16 2008'\n",
    "re.findall('(-*[0-9]\\.[0-9]*)',line)"
   ]
  },
  {
   "cell_type": "code",
   "execution_count": 8,
   "metadata": {},
   "outputs": [
    {
     "name": "stdout",
     "output_type": "stream",
     "text": [
      "ml442*@duke.edu\n",
      "['ml442']\n"
     ]
    }
   ],
   "source": [
    "line='ml442*@duke.edu          \\n'\n",
    "line=line.rstrip()\n",
    "print(line)\n",
    "print(re.findall('^(\\w+)\\*@duke.edu',line))"
   ]
  },
  {
   "cell_type": "code",
   "execution_count": 29,
   "metadata": {},
   "outputs": [
    {
     "name": "stdout",
     "output_type": "stream",
     "text": [
      "['ml442*']\n"
     ]
    }
   ],
   "source": [
    "line='ml442*@duke.edu\\n'\n",
    "#line='ml442@duke.edu\\n'\n",
    "\n",
    "print(re.findall('^([0-9a-z*]+)@duke.edu',line))"
   ]
  },
  {
   "cell_type": "code",
   "execution_count": 13,
   "metadata": {},
   "outputs": [
    {
     "name": "stdout",
     "output_type": "stream",
     "text": [
      "['ml442']\n"
     ]
    }
   ],
   "source": [
    "#line='ming.li369@duke.edu'\n",
    "line='ml442@duke.edu'\n",
    "print(re.findall('^([\\w.]+)@[duke.edu|dukekunshan.edu.cn]',line))"
   ]
  },
  {
   "cell_type": "code",
   "execution_count": null,
   "metadata": {},
   "outputs": [],
   "source": [
    "line='ml442@dukekunshan.edu.cn'\n",
    "print(re.findall('^(\\w+)@[duke.edu|dukekunshan.edu.cn]',line))"
   ]
  },
  {
   "cell_type": "code",
   "execution_count": 32,
   "metadata": {},
   "outputs": [
    {
     "name": "stdout",
     "output_type": "stream",
     "text": [
      "['ming.li369']\n"
     ]
    }
   ],
   "source": [
    "line='ming.li369@dukekunshan.edu.cn'\n",
    "#line='ml442@duke.edu'\n",
    "print(re.findall('^([.\\w]+)@[duke.edu|dukekunshan.edu.cn]',line))"
   ]
  },
  {
   "cell_type": "code",
   "execution_count": 40,
   "metadata": {},
   "outputs": [
    {
     "name": "stdout",
     "output_type": "stream",
     "text": [
      "['mingli369.']\n"
     ]
    }
   ],
   "source": [
    "line='mingli369.@duke.edu'\n",
    "print(re.findall('(^\\w*\\.*\\w*)@duke.edu',line))"
   ]
  },
  {
   "cell_type": "code",
   "execution_count": 9,
   "metadata": {},
   "outputs": [
    {
     "name": "stdout",
     "output_type": "stream",
     "text": [
      "['ml442']\n"
     ]
    }
   ],
   "source": [
    "#line='ming.li369@dukekunshan.edu.cn'\n",
    "line='ml442@duke.edu'\n",
    "print(re.findall('(\\S+)@\\S+',line))\n",
    "\n"
   ]
  },
  {
   "cell_type": "code",
   "execution_count": 12,
   "metadata": {},
   "outputs": [
    {
     "name": "stdout",
     "output_type": "stream",
     "text": [
      "<_sre.SRE_Match object; span=(0, 14), match='ml442@duke.edu'>\n"
     ]
    }
   ],
   "source": [
    "print(re.search('^([0-9a-z]+)@duke.edu',line))"
   ]
  },
  {
   "cell_type": "code",
   "execution_count": 14,
   "metadata": {},
   "outputs": [
    {
     "name": "stdout",
     "output_type": "stream",
     "text": [
      "this is an example: 1 is smaller than 2!\n"
     ]
    }
   ],
   "source": [
    "a=1\n",
    "b=2\n",
    "print(f'this is an example: {a} is smaller than {b}!')"
   ]
  },
  {
   "cell_type": "code",
   "execution_count": 15,
   "metadata": {},
   "outputs": [
    {
     "data": {
      "text/plain": [
       "'this is an example: 1 is smaller than 2!'"
      ]
     },
     "execution_count": 15,
     "metadata": {},
     "output_type": "execute_result"
    }
   ],
   "source": [
    "'this is an example: {} is smaller than {}!'.format(a,b)"
   ]
  },
  {
   "cell_type": "code",
   "execution_count": 16,
   "metadata": {},
   "outputs": [
    {
     "name": "stdout",
     "output_type": "stream",
     "text": [
      "this is an example: 1 is smaller than 2 and again 2!\n"
     ]
    }
   ],
   "source": [
    "print('this is an example: {0} is smaller than {1} and again {1}!'.format(a,b))"
   ]
  },
  {
   "cell_type": "code",
   "execution_count": 17,
   "metadata": {},
   "outputs": [
    {
     "ename": "IndexError",
     "evalue": "tuple index out of range",
     "output_type": "error",
     "traceback": [
      "\u001b[1;31m---------------------------------------------------------------------------\u001b[0m",
      "\u001b[1;31mIndexError\u001b[0m                                Traceback (most recent call last)",
      "\u001b[1;32m<ipython-input-17-f38abd5d2320>\u001b[0m in \u001b[0;36m<module>\u001b[1;34m()\u001b[0m\n\u001b[1;32m----> 1\u001b[1;33m \u001b[0mprint\u001b[0m\u001b[1;33m(\u001b[0m\u001b[1;34m'this is an example: {} is smaller than {} and again {}!'\u001b[0m\u001b[1;33m.\u001b[0m\u001b[0mformat\u001b[0m\u001b[1;33m(\u001b[0m\u001b[0ma\u001b[0m\u001b[1;33m,\u001b[0m\u001b[0mb\u001b[0m\u001b[1;33m)\u001b[0m\u001b[1;33m)\u001b[0m\u001b[1;33m\u001b[0m\u001b[0m\n\u001b[0m",
      "\u001b[1;31mIndexError\u001b[0m: tuple index out of range"
     ]
    }
   ],
   "source": [
    "print('this is an example: {} is smaller than {} and again {}!'.format(a,b))"
   ]
  },
  {
   "cell_type": "code",
   "execution_count": 18,
   "metadata": {},
   "outputs": [
    {
     "name": "stdout",
     "output_type": "stream",
     "text": [
      "hello world\n"
     ]
    }
   ],
   "source": [
    "print('{} {}'.format('hello', 'world'))   \n"
   ]
  },
  {
   "cell_type": "code",
   "execution_count": 19,
   "metadata": {},
   "outputs": [
    {
     "name": "stdout",
     "output_type": "stream",
     "text": [
      "world hello world\n"
     ]
    }
   ],
   "source": [
    "print(\"{1} {0} {1}\".format(\"hello\", \"world\") )\n"
   ]
  },
  {
   "cell_type": "code",
   "execution_count": 3,
   "metadata": {},
   "outputs": [
    {
     "name": "stdout",
     "output_type": "stream",
     "text": [
      "['32220']\n",
      "['7']\n",
      "['0']\n",
      "-2.2538533 -1.4272447 0.43364477 4.2950635 2.1900649 -5.2847853 -3.0632849 4.6206374 -8.3081121 -1.4154042 -2.3944628 3.8381803 4.2372179 -0.23023176 2.2159262 1.5186138 0.84348214 7.4780602 2.430887 -1.1428522 -4.7815895 1.2992382 -8.0675039 5.1682124 -0.65673733 0.94231182 -4.0852485 6.2266006 -3.4753854 -2.2140031 -2.2300382 2.4319735 1.844234 -5.9763317 2.3381665 -7.8287153 2.4047153 7.8721256 4.729455 4.3135877 4.6532187 -1.6893747 2.8952575 -0.068938732 7.3926363 1.4912562 0.68713975 3.59202 -1.4925687 -0.17997831 -5.5993733 -0.9931705 0.37709546 0.8507539 -6.34835 2.4508529 -5.3188705 1.0220883 -0.71459281 -2.579392 -5.1150661 -12.597942 2.7313561 7.5255985 -2.0759914 -6.5251312 -0.34362173 -1.9817109 -1.4431424 -1.2772293 6.837781 -0.33500415 -0.70084524 -2.5682073 3.5986257 0.9905467 4.5882726 -1.5845089 -3.9371426 -4.1413517 -4.5872836 -0.73176146 -4.8281794 2.1667354 -5.1170921 0.24299264 -2.2374439 3.0291681 0.37784106 1.3859311 -4.8376565 2.9392729 2.7477815 1.3574653 1.1133333 -1.774919 5.0880032 1.3252358 1.5674224 -0.77930665 6.4615602 -1.8709644 -1.7557809 5.1047668 -3.9662766 -5.7100477 -0.61864442 -9.7155991 -4.0428743 1.0392374 2.7031996 4.3735647 -1.7448936 -3.2899728 3.0849373 1.7323575 0.11234957 -3.451797 -1.3746626 -4.4270935 -2.8932438 -6.0564218 10.669924 4.6894445 -3.1512513 0.42259085 -3.3639746 -7.9266815 9.2551365 3.7803211 -8.469388 -3.1071925 1.6520281 -5.7080803 2.4717789 -5.0069265 6.0584059 2.2622654 2.5991969 1.3874888 -4.5220995 -2.86817 -0.46506047 -8.2079287 -6.4175792 0.47200966 3.2945158 -0.26205218 6.3110943 1.4106047 1.3664224 1.4603841 3.7403355 -1.2765561 1.3484449 4.1525145 -0.31023335 -5.1456943 2.9529314 1.1143949\n",
      "['32222']\n",
      "['3']\n",
      "['0']\n",
      "4.7234135 2.1498647 -4.8669534 -0.13290578 -3.7978387 3.18434 2.6439128 7.7964797 -4.1298347 6.362565 1.6520524 -1.6056228 0.15788144 -6.4503298 0.97254825 0.24880123 -0.52630329 -4.1253881 7.0548086 -0.91658151 -3.1536229 -4.216867 0.96100032 1.8793969 0.71080482 0.73831749 2.7027493 6.2829785 -5.2837286 -1.6573124 -2.811481 8.7205029 -0.97738647 -1.7461569 3.220418 2.1844521 2.8886774 12.498432 2.4033651 9.1289225 -0.096722364 3.469734 5.5625954 5.6049008 1.67651 1.0137244 0.94802493 -3.3544116 -4.3401217 5.1638045 -2.1818316 -0.030881524 1.2657772 4.8829966 -4.4455099 -4.1968136 -2.4415338 0.55971026 -2.4351048 6.5422077 -6.5205302 -0.6716696 3.3509355 2.9911668 -3.3146708 -0.81944448 -0.20959532 2.3269193 -1.2990401 5.1824751 0.14184749 -4.3386993 -2.0726871 -3.245482 3.1744332 -3.5459013 3.8645999 -8.6259432 0.17508125 -2.4667647 -3.9673362 -11.187722 -3.3519316 0.89620829 -2.1124649 -0.88674897 0.57456911 4.8459849 2.2295122 -3.4342573 1.9490086 -1.3454144 0.062118463 -3.637157 2.9307356 -0.72405046 -1.7046447 -1.8765159 -3.1001871 2.367805 11.256145 -7.7703071 4.2100315 -3.060724 6.3974581 -2.7536232 -6.3239689 -0.50496149 -9.2301445 -0.63698119 -1.16415 -0.53270793 3.4153161 2.0653572 -0.2733295 4.1335077 -2.2976258 -5.5389271 0.65439332 -0.22630559 -0.99052751 2.1688759 -3.8389862 -2.117214 -0.58819473 0.92768335 0.85618448 -8.5720339 -1.1883944 4.9219289 -1.8359486 -0.090306535 6.0920782 -0.34834528 4.6614084 -3.9452004 8.5811176 5.8151116 5.1059332 -4.7167044 -7.4350252 -3.843379 -6.1833353 1.0815949 -2.1505501 -2.0358918 1.8534142 5.2727337 -1.6012501 -0.057366848 2.7773876 -4.803936 4.5876756 -4.5504165 3.9005351 -8.87815 -2.2922921 6.4461842 3.663872 0.93050313\n",
      "['32223']\n",
      "['0']\n",
      "['0']\n",
      "5.1856842 5.3706923 1.8846877 5.8852658 -2.952332 0.62670612 2.1205993 -7.0491219 -4.8467565 -1.6711665 -7.6287184 1.4839972 0.99939668 0.9046216 3.5736139 0.48237589 4.9128251 3.0967209 1.6811955 -13.761946 2.4676278 3.6118913 2.5132911 7.0783343 -1.9636866 2.2952228 1.0145321 -2.133671 4.8325319 -0.75060213 -15.186132 1.3201742 3.33798 -2.8238831 5.0593095 2.1834972 -0.70496178 3.2778044 6.3380513 0.95823836 -0.50179887 7.664073 0.91932559 -2.147193 5.2066717 -4.1390839 -2.308111 -2.9269238 -2.942035 1.2252765 -1.3328259 -5.5238786 1.6015273 1.2395744 -6.3471026 2.2481079 -9.4301538 -1.540807 -0.097541332 1.1962038 -0.52260864 -9.0413389 0.52685398 4.6923771 0.78635764 -3.2620599 -1.3700391 -3.6863945 -3.8263597 4.5692401 -4.2048054 -2.5431304 1.9743094 -7.7859511 -0.78421342 1.0449611 1.7972028 -2.8047698 -0.87402344 -9.6519279 -5.5568027 -4.2002468 -6.8807278 5.8910542 -0.16609603 -3.9167645 -11.326312 -5.2634487 3.1019354 2.4139442 -4.5753636 2.7265081 -0.8926698 -3.923629 -6.3420534 -1.9873221 7.4595466 -0.051063776 0.75003672 5.9961548 3.6091077 -0.77732885 -5.0945272 -0.12425655 2.4693458 -0.66584539 -5.9619498 -2.6044312 -8.7764702 4.6887627 0.189695 5.4637427 -1.0076199 -6.9480205 7.0921316 -1.3477488 5.2850242 -9.0524273 -3.3959372 -7.8951917 6.5104432 -0.46229029 -1.4637431 2.3715358 -4.4543791 -0.50160372 2.1438222 -3.30532 4.8859577 6.4298582 -0.6479696 0.65149528 7.5171022 0.69264817 -1.7125188 -2.7266974 0.79929262 3.2464843 2.2606106 7.8994117 1.4173539 -4.4516897 -7.154675 -2.4205627 1.2245405 -5.8592095 -0.72635615 2.9084618 6.0491562 2.0560575 -8.8492851 1.259855 -1.8528496 0.31899118 -7.1831994 1.1970693 -1.1402694 -0.040738583 2.6207862 4.4658298\n"
     ]
    }
   ],
   "source": [
    "import re\n",
    "fid=open('joint_output.txt')\n",
    "file_object = open('joint_output_new.txt', 'wt')\n",
    "\n",
    "##./FER2013Test/fer0032220.png 7 0 [-0.23\n",
    "for line in fid:\n",
    "    fileid=re.findall('^\\./FER2013Test/fer00(\\d+).png',line)\n",
    "    print(fileid)\n",
    "    label=re.findall('^.*\\s([0-9])\\s[0-9]\\s.*',line)\n",
    "    print(label)\n",
    "    res=re.findall('^.*\\s[0-9]\\s([0-9])\\s.*',line)\n",
    "    print(res)\n",
    "    feat=re.findall('^.*\\[(.*)\\]',line)\n",
    "    feat1=feat[0].replace(',','')\n",
    "    print(feat1)\n",
    "    file_object.write(f'{fileid[0]} {label[0]} {res[0]} {feat1}\\n')\n",
    "file_object.close( )"
   ]
  },
  {
   "cell_type": "code",
   "execution_count": 5,
   "metadata": {},
   "outputs": [
    {
     "data": {
      "text/plain": [
       "'5.1856842, 5.3706923, 1.8846877, 5.8852658, -2.952332, 0.62670612, 2.1205993, -7.0491219, -4.8467565, -1.6711665, -7.6287184, 1.4839972, 0.99939668, 0.9046216, 3.5736139, 0.48237589, 4.9128251, 3.0967209, 1.6811955, -13.761946, 2.4676278, 3.6118913, 2.5132911, 7.0783343, -1.9636866, 2.2952228, 1.0145321, -2.133671, 4.8325319, -0.75060213, -15.186132, 1.3201742, 3.33798, -2.8238831, 5.0593095, 2.1834972, -0.70496178, 3.2778044, 6.3380513, 0.95823836, -0.50179887, 7.664073, 0.91932559, -2.147193, 5.2066717, -4.1390839, -2.308111, -2.9269238, -2.942035, 1.2252765, -1.3328259, -5.5238786, 1.6015273, 1.2395744, -6.3471026, 2.2481079, -9.4301538, -1.540807, -0.097541332, 1.1962038, -0.52260864, -9.0413389, 0.52685398, 4.6923771, 0.78635764, -3.2620599, -1.3700391, -3.6863945, -3.8263597, 4.5692401, -4.2048054, -2.5431304, 1.9743094, -7.7859511, -0.78421342, 1.0449611, 1.7972028, -2.8047698, -0.87402344, -9.6519279, -5.5568027, -4.2002468, -6.8807278, 5.8910542, -0.16609603, -3.9167645, -11.326312, -5.2634487, 3.1019354, 2.4139442, -4.5753636, 2.7265081, -0.8926698, -3.923629, -6.3420534, -1.9873221, 7.4595466, -0.051063776, 0.75003672, 5.9961548, 3.6091077, -0.77732885, -5.0945272, -0.12425655, 2.4693458, -0.66584539, -5.9619498, -2.6044312, -8.7764702, 4.6887627, 0.189695, 5.4637427, -1.0076199, -6.9480205, 7.0921316, -1.3477488, 5.2850242, -9.0524273, -3.3959372, -7.8951917, 6.5104432, -0.46229029, -1.4637431, 2.3715358, -4.4543791, -0.50160372, 2.1438222, -3.30532, 4.8859577, 6.4298582, -0.6479696, 0.65149528, 7.5171022, 0.69264817, -1.7125188, -2.7266974, 0.79929262, 3.2464843, 2.2606106, 7.8994117, 1.4173539, -4.4516897, -7.154675, -2.4205627, 1.2245405, -5.8592095, -0.72635615, 2.9084618, 6.0491562, 2.0560575, -8.8492851, 1.259855, -1.8528496, 0.31899118, -7.1831994, 1.1970693, -1.1402694, -0.040738583, 2.6207862, 4.4658298'"
      ]
     },
     "execution_count": 5,
     "metadata": {},
     "output_type": "execute_result"
    }
   ],
   "source": [
    "feat[0]"
   ]
  },
  {
   "cell_type": "code",
   "execution_count": 18,
   "metadata": {},
   "outputs": [
    {
     "data": {
      "text/plain": [
       "['abc', '123', 'def']"
      ]
     },
     "execution_count": 18,
     "metadata": {},
     "output_type": "execute_result"
    }
   ],
   "source": [
    "a='abc*123*def'\n",
    "a.split('*')"
   ]
  }
 ],
 "metadata": {
  "kernelspec": {
   "display_name": "Python 3",
   "language": "python",
   "name": "python3"
  },
  "language_info": {
   "codemirror_mode": {
    "name": "ipython",
    "version": 3
   },
   "file_extension": ".py",
   "mimetype": "text/x-python",
   "name": "python",
   "nbconvert_exporter": "python",
   "pygments_lexer": "ipython3",
   "version": "3.6.4"
  }
 },
 "nbformat": 4,
 "nbformat_minor": 2
}
