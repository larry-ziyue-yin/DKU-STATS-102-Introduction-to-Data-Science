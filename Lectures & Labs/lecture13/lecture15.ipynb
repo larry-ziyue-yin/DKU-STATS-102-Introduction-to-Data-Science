{
 "cells": [
  {
   "cell_type": "markdown",
   "metadata": {},
   "source": [
    "# Notes for STATS102, Session 1, Sep 15th, Lecture\n",
    "partial materials are from the text book \n",
    "Python Data Science Handbook: Essential Tools for Working with Data, by Jake VanderPlas, O'Reilly Media; 1 edition (December 10, 2016), ISBN-13: 978-1491912058, full text and code freely available at https://jakevdp.github.io/PythonDataScienceHandbook/."
   ]
  },
  {
   "cell_type": "code",
   "execution_count": null,
   "metadata": {},
   "outputs": [],
   "source": [
    "%matplotlib inline\n",
    "import matplotlib.pyplot as plt\n",
    "import seaborn; seaborn.set()\n",
    "import pandas as pd\n",
    "import numpy as np"
   ]
  },
  {
   "cell_type": "markdown",
   "metadata": {},
   "source": [
    "quiz: please draw the following figure"
   ]
  },
  {
   "cell_type": "markdown",
   "metadata": {},
   "source": [
    "![](quiz.png)"
   ]
  },
  {
   "cell_type": "code",
   "execution_count": null,
   "metadata": {
    "scrolled": true
   },
   "outputs": [],
   "source": [
    "for i in range(1, 7):\n",
    "    plt.subplot(2, 3, i)\n",
    "    plt.text(0.5, 0.5, str((2, 3, i)),\n",
    "             fontsize=10, ha='center')"
   ]
  },
  {
   "cell_type": "code",
   "execution_count": null,
   "metadata": {},
   "outputs": [],
   "source": [
    "fig, ax = plt.subplots(2, 3, sharex='col', sharey='row')"
   ]
  },
  {
   "cell_type": "code",
   "execution_count": null,
   "metadata": {},
   "outputs": [],
   "source": [
    "# axes are in a two-dimensional array, indexed by [row, col]\n",
    "for i in range(2):\n",
    "    for j in range(3):\n",
    "        ax[i, j].text(0.5, 0.5, str((i, j)),\n",
    "                      fontsize=18, ha='center')\n",
    "fig"
   ]
  },
  {
   "cell_type": "code",
   "execution_count": null,
   "metadata": {},
   "outputs": [],
   "source": [
    "grid = plt.GridSpec(2, 3, wspace=0.3, hspace=0.3)\n",
    "plt.subplot(grid[0:2, 0])\n",
    "plt.subplot(grid[0, 1:])\n",
    "plt.subplot(grid[1, 1])\n",
    "plt.subplot(grid[1, 2]);"
   ]
  },
  {
   "cell_type": "code",
   "execution_count": null,
   "metadata": {},
   "outputs": [],
   "source": [
    "# Create some normally distributed data\n",
    "mean = [0, 0]\n",
    "cov = [[1, 0], [0, 1]]\n",
    "x, y = np.random.multivariate_normal(mean, cov, 3000).T\n",
    "\n",
    "# Set up the axes with gridspec\n",
    "\n",
    "grid = plt.GridSpec(4, 4, hspace=0.4, wspace=0.4)\n",
    "main_ax = plt.subplot(grid[:3, 1:4])\n",
    "plt.scatter(x, y, alpha=0.2)\n",
    "plt.axis('equal')\n",
    "plt.text(2,-4,'scatter plot')\n",
    "y_hist = plt.subplot(grid[:3, 0],sharey=main_ax)\n",
    "plt.hist(y, 40, histtype='bar',\n",
    "            orientation='horizontal', color='gray');\n",
    "plt.text(100,2,'y hist')\n",
    "x_hist = plt.subplot(grid[3, 1:4],sharex=main_ax)\n",
    "plt.hist(x, 40, histtype='stepfilled',\n",
    "            orientation='vertical', color='gray');\n",
    "plt.text(2,100,'x hist')"
   ]
  },
  {
   "cell_type": "code",
   "execution_count": null,
   "metadata": {},
   "outputs": [],
   "source": [
    "plt.hist?"
   ]
  },
  {
   "cell_type": "code",
   "execution_count": null,
   "metadata": {},
   "outputs": [],
   "source": [
    "mean = [0, 0]\n",
    "cov = [[1, 1], [1, 4]]\n",
    "x, y = np.random.multivariate_normal(mean, cov, 3000).T\n",
    "plt.plot(x)"
   ]
  },
  {
   "cell_type": "code",
   "execution_count": null,
   "metadata": {},
   "outputs": [],
   "source": [
    "# Set up the axes with gridspec\n",
    "fig = plt.figure(figsize=(6, 6))\n",
    "grid = plt.GridSpec(4, 4, hspace=0.2, wspace=0.2)\n",
    "main_ax = fig.add_subplot(grid[:-1, 1:])\n",
    "y_hist = fig.add_subplot(grid[:-1, 0], xticklabels=[], sharey=main_ax)\n",
    "x_hist = fig.add_subplot(grid[-1, 1:], yticklabels=[], sharex=main_ax)\n",
    "\n",
    "# scatter points on the main axes\n",
    "main_ax.plot(x, y, 'ok', markersize=3, alpha=0.2)\n",
    "\n",
    "# histogram on the attached axes\n",
    "x_hist.hist(x, 40, histtype='stepfilled',\n",
    "            orientation='vertical', color='gray')\n",
    "x_hist.invert_yaxis()\n",
    "\n",
    "y_hist.hist(y, 40, histtype='stepfilled',\n",
    "            orientation='horizontal', color='gray')\n",
    "y_hist.invert_xaxis()\n",
    "y_hist.text(150, 3, \"y hist\")\n",
    "x_hist.text(3, 150, \"x hist\")\n",
    "main_ax.text(4.5,2.7, \"outlier\")"
   ]
  },
  {
   "cell_type": "code",
   "execution_count": null,
   "metadata": {},
   "outputs": [],
   "source": [
    "fig, ax = plt.subplots()\n",
    "\n",
    "x = np.linspace(0, 20, 1000)\n",
    "ax.plot(x, np.cos(x))\n",
    "ax.axis('equal')\n",
    "\n",
    "ax.annotate('local maximum', xy=(6.28, 1), xytext=(10, 4),\n",
    "            arrowprops=dict(facecolor='black', shrink=0.05))\n",
    "\n",
    "ax.annotate('local minimum', xy=(5 * np.pi, -1), xytext=(2, -6),\n",
    "            arrowprops=dict(arrowstyle=\"->\",\n",
    "                            connectionstyle=\"angle3,angleA=0,angleB=-90\"));"
   ]
  },
  {
   "cell_type": "code",
   "execution_count": null,
   "metadata": {},
   "outputs": [],
   "source": [
    "fig, ax = plt.subplots()\n",
    "\n",
    "x = np.linspace(0, 20, 1000)\n",
    "ax.plot(x, np.cos(x))\n",
    "ax.axis('equal')\n",
    "ax.annotate('local maximum', xy=(6.28, 1), xytext=(10, 4),\n",
    "            arrowprops=dict(arrowstyle=\"->\",\n",
    "                            connectionstyle=\"angle3,angleA=180,angleB=90\"))"
   ]
  },
  {
   "cell_type": "code",
   "execution_count": null,
   "metadata": {},
   "outputs": [],
   "source": [
    "from mpl_toolkits import mplot3d\n",
    "fig = plt.figure(figsize=(10, 10))\n",
    "ax = plt.axes(projection='3d')\n",
    "zline = np.linspace(0, 15, 1000)\n",
    "xline = np.sin(zline)\n",
    "yline = np.cos(zline)\n",
    "ax.plot3D(xline, yline, zline, 'gray')\n",
    "ax.set(xlabel='sin(x)', ylabel='cos(x)',title='A Simple Plot');"
   ]
  },
  {
   "cell_type": "markdown",
   "metadata": {},
   "source": [
    "Seaborn "
   ]
  },
  {
   "cell_type": "code",
   "execution_count": null,
   "metadata": {},
   "outputs": [],
   "source": [
    "import seaborn as sns\n",
    "sns.set()"
   ]
  },
  {
   "cell_type": "code",
   "execution_count": null,
   "metadata": {},
   "outputs": [],
   "source": [
    "data = np.random.multivariate_normal([0, 3], [[9, 2], [2, 1]], size=2000)\n",
    "data = pd.DataFrame(data, columns=['x', 'y'])\n",
    "\n",
    "for col in 'xy':\n",
    "    plt.hist(data[col],normed=True,  alpha=0.5)"
   ]
  },
  {
   "cell_type": "code",
   "execution_count": null,
   "metadata": {},
   "outputs": [],
   "source": [
    "data.shape"
   ]
  },
  {
   "cell_type": "code",
   "execution_count": null,
   "metadata": {},
   "outputs": [],
   "source": []
  },
  {
   "cell_type": "code",
   "execution_count": null,
   "metadata": {},
   "outputs": [],
   "source": [
    "for col in 'xy':\n",
    "    sns.kdeplot(data[col], shade=True)"
   ]
  },
  {
   "cell_type": "code",
   "execution_count": null,
   "metadata": {},
   "outputs": [],
   "source": [
    "sns.distplot(data['x'])\n",
    "sns.distplot(data['y']);"
   ]
  },
  {
   "cell_type": "code",
   "execution_count": null,
   "metadata": {},
   "outputs": [],
   "source": [
    "sns.jointplot(\"x\", \"y\", data, kind='kde');"
   ]
  },
  {
   "cell_type": "code",
   "execution_count": null,
   "metadata": {},
   "outputs": [],
   "source": [
    "%matplotlib inline\n",
    "import matplotlib.pyplot as plt\n",
    "import numpy as np\n",
    "fig=plt.figure()\n",
    "x = np.linspace(-3*np.pi, 3*np.pi, 1000)\n",
    "plt.subplot(1,2,1)\n",
    "plt.plot(x, np.sin(x))\n",
    "plt.xlabel(\"x\")\n",
    "plt.ylabel(\"sin(x)\");\n",
    "plt.title(\"A Sine Curve\")\n",
    "plt.axis([-20, 20, -2, 2]);\n",
    "plt.subplot(1,2,2)\n",
    "plt.plot(x, np.cos(x))\n",
    "plt.xlabel(\"x\")\n",
    "plt.ylabel(\"cos(x)\");\n",
    "plt.title(\"A Cosine Curve\")\n",
    "plt.subplots_adjust(wspace=0.5)\n",
    "plt.axis([-20, 20, -2, 2]);\n",
    "fig.savefig('quiz14.png')"
   ]
  }
 ],
 "metadata": {
  "kernelspec": {
   "display_name": "Python 3",
   "language": "python",
   "name": "python3"
  },
  "language_info": {
   "codemirror_mode": {
    "name": "ipython",
    "version": 3
   },
   "file_extension": ".py",
   "mimetype": "text/x-python",
   "name": "python",
   "nbconvert_exporter": "python",
   "pygments_lexer": "ipython3",
   "version": "3.6.4"
  }
 },
 "nbformat": 4,
 "nbformat_minor": 2
}
