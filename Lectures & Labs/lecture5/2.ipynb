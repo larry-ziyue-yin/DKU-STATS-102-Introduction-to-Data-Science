{
 "cells": [
  {
   "cell_type": "markdown",
   "metadata": {},
   "source": [
    "# Notes for STATS 102, Session 1, Week 2, Aug 29th, Lecture, part 2\n",
    "python for everybody lesson 8 & 10"
   ]
  },
  {
   "cell_type": "markdown",
   "metadata": {},
   "source": [
    "dictionary, supermarket wine, curly braces"
   ]
  },
  {
   "cell_type": "code",
   "execution_count": 14,
   "metadata": {},
   "outputs": [
    {
     "data": {
      "text/plain": [
       "[]"
      ]
     },
     "execution_count": 14,
     "metadata": {},
     "output_type": "execute_result"
    }
   ],
   "source": [
    "a=list()\n",
    "a"
   ]
  },
  {
   "cell_type": "code",
   "execution_count": 17,
   "metadata": {},
   "outputs": [
    {
     "name": "stdout",
     "output_type": "stream",
     "text": [
      "{'money': 12, 'candy': 3, 'tissues': 75}\n",
      "3\n",
      "{'money': 12, 'candy': 5, 'tissues': 75}\n"
     ]
    }
   ],
   "source": [
    "purse = dict()\n",
    "purse['money'] = 12\n",
    "purse['candy'] = 3\n",
    "purse['tissues'] = 75\n",
    "print(purse)\n",
    "print(purse['candy'])\n",
    "purse['candy'] = purse['candy'] + 2\n",
    "print(purse)\n",
    "\n"
   ]
  },
  {
   "cell_type": "code",
   "execution_count": 16,
   "metadata": {},
   "outputs": [
    {
     "data": {
      "text/plain": [
       "{'money': 12}"
      ]
     },
     "execution_count": 16,
     "metadata": {},
     "output_type": "execute_result"
    }
   ],
   "source": [
    "purse = dict()\n",
    "purse['money'] = 12\n",
    "purse\n"
   ]
  },
  {
   "cell_type": "code",
   "execution_count": 18,
   "metadata": {},
   "outputs": [
    {
     "name": "stdout",
     "output_type": "stream",
     "text": [
      "[21, 183]\n",
      "[23, 183]\n"
     ]
    }
   ],
   "source": [
    "lst = list()\n",
    "lst.append(21)\n",
    "lst.append(183)\n",
    "print(lst)\n",
    "lst[0] = 23\n",
    "print(lst)\n",
    "\n"
   ]
  },
  {
   "cell_type": "code",
   "execution_count": 19,
   "metadata": {},
   "outputs": [
    {
     "name": "stdout",
     "output_type": "stream",
     "text": [
      "{'age': 21, 'course': 182}\n",
      "{'age': 23, 'course': 182}\n"
     ]
    }
   ],
   "source": [
    "ddd = dict()\n",
    "ddd['age'] = 21\n",
    "ddd['course'] = 182\n",
    "print(ddd)\n",
    "ddd['age'] = 23\n",
    "print(ddd)\n"
   ]
  },
  {
   "cell_type": "code",
   "execution_count": 1,
   "metadata": {},
   "outputs": [
    {
     "data": {
      "text/plain": [
       "dict"
      ]
     },
     "execution_count": 1,
     "metadata": {},
     "output_type": "execute_result"
    }
   ],
   "source": [
    "a={}\n",
    "type(a)"
   ]
  },
  {
   "cell_type": "code",
   "execution_count": 21,
   "metadata": {},
   "outputs": [
    {
     "name": "stdout",
     "output_type": "stream",
     "text": [
      "{'csev': 2, 'cwen': 2, 'zqian': 1}\n"
     ]
    }
   ],
   "source": [
    "counts = dict()\n",
    "names = ['csev', 'cwen', 'csev', 'zqian', 'cwen']\n",
    "for name in names :\n",
    "    if name not in counts: \n",
    "        counts[name] = 1\n",
    "    else :\n",
    "        counts[name] = counts[name] + 1\n",
    "print(counts)\n"
   ]
  },
  {
   "cell_type": "code",
   "execution_count": 24,
   "metadata": {},
   "outputs": [
    {
     "name": "stdout",
     "output_type": "stream",
     "text": [
      "cwen 2\n",
      "{'csev': 2, 'cwen': 2, 'zqian': 1}\n"
     ]
    }
   ],
   "source": [
    "name='cwen'\n",
    "if name in counts:\n",
    "    x = counts[name]\n",
    "else :\n",
    "    x = 0\n",
    "print(name,x)\n",
    "print(counts)"
   ]
  },
  {
   "cell_type": "code",
   "execution_count": 5,
   "metadata": {},
   "outputs": [
    {
     "name": "stdout",
     "output_type": "stream",
     "text": [
      "derek 0\n"
     ]
    }
   ],
   "source": [
    "name='derek'\n",
    "x = counts.get(name, 0)\n",
    "print(name,x)"
   ]
  },
  {
   "cell_type": "code",
   "execution_count": 6,
   "metadata": {},
   "outputs": [
    {
     "name": "stdout",
     "output_type": "stream",
     "text": [
      "{'csev': 2, 'cwen': 2, 'zqian': 1}\n"
     ]
    }
   ],
   "source": [
    "counts = dict()\n",
    "names = ['csev', 'cwen', 'csev', 'zqian', 'cwen']\n",
    "for name in names :\n",
    "    counts[name] = counts.get(name, 0) + 1\n",
    "print(counts)\n"
   ]
  },
  {
   "cell_type": "code",
   "execution_count": 7,
   "metadata": {},
   "outputs": [
    {
     "name": "stdout",
     "output_type": "stream",
     "text": [
      "['chuck', 'fred', 'jan']\n",
      "dict_keys(['chuck', 'fred', 'jan'])\n",
      "dict_values([1, 42, 100])\n",
      "dict_items([('chuck', 1), ('fred', 42), ('jan', 100)])\n"
     ]
    }
   ],
   "source": [
    "jjj = { 'chuck' : 1 , 'fred' : 42, 'jan': 100}\n",
    "print(list(jjj))\n",
    "print(jjj.keys())\n",
    "print(jjj.values())\n",
    "print(jjj.items())\n"
   ]
  },
  {
   "cell_type": "code",
   "execution_count": null,
   "metadata": {},
   "outputs": [],
   "source": [
    "mydict = { 'chuck' : 1 , 'fred' : 42, 'jan': 100}\n",
    "for k,v in mydict.items() :\n",
    "    print(k, v)\n"
   ]
  },
  {
   "cell_type": "code",
   "execution_count": 8,
   "metadata": {},
   "outputs": [
    {
     "name": "stdout",
     "output_type": "stream",
     "text": [
      "1 chuck\n",
      "42 fred\n",
      "100 jan\n"
     ]
    }
   ],
   "source": [
    "mydict = { 'chuck' : 1 , 'fred' : 42, 'jan': 100}\n",
    "newdict=list()\n",
    "for k,v in mydict.items() :\n",
    "    print(v, k)\n",
    "    newdict.append([v,k])"
   ]
  },
  {
   "cell_type": "code",
   "execution_count": 9,
   "metadata": {},
   "outputs": [
    {
     "data": {
      "text/plain": [
       "[[1, 'chuck'], [42, 'fred'], [100, 'jan']]"
      ]
     },
     "execution_count": 9,
     "metadata": {},
     "output_type": "execute_result"
    }
   ],
   "source": [
    "newdict"
   ]
  },
  {
   "cell_type": "code",
   "execution_count": 10,
   "metadata": {},
   "outputs": [
    {
     "data": {
      "text/plain": [
       "[[100, 'jan'], [42, 'fred'], [1, 'chuck']]"
      ]
     },
     "execution_count": 10,
     "metadata": {},
     "output_type": "execute_result"
    }
   ],
   "source": [
    "sorted(newdict,reverse=True)"
   ]
  },
  {
   "cell_type": "code",
   "execution_count": 1,
   "metadata": {},
   "outputs": [],
   "source": [
    "open?"
   ]
  },
  {
   "cell_type": "code",
   "execution_count": 11,
   "metadata": {},
   "outputs": [
    {
     "name": "stdout",
     "output_type": "stream",
     "text": [
      "and 40\n"
     ]
    }
   ],
   "source": [
    "handle = open('dku_about.txt')\n",
    "\n",
    "counts = dict()\n",
    "for line in handle:\n",
    "    words = line.split()\n",
    "    for word in words:\n",
    "        counts[word] = counts.get(word,0) + 1\n",
    "\n",
    "bigcount = None\n",
    "bigword = None\n",
    "for word,count in counts.items():\n",
    "    #if count > bigcount or bigcount is None:\n",
    "    if bigcount is None or count > bigcount:\n",
    "        bigword = word\n",
    "        bigcount = count\n",
    "\n",
    "print(bigword, bigcount)\n"
   ]
  },
  {
   "cell_type": "code",
   "execution_count": null,
   "metadata": {},
   "outputs": [],
   "source": [
    "counts"
   ]
  },
  {
   "cell_type": "code",
   "execution_count": 1,
   "metadata": {},
   "outputs": [
    {
     "name": "stdout",
     "output_type": "stream",
     "text": [
      "<_io.TextIOWrapper name='dku_about.txt' mode='rt' encoding='cp936'>\n"
     ]
    }
   ],
   "source": [
    "fhand = open('dku_about.txt','rt')\n",
    "print(fhand)"
   ]
  },
  {
   "cell_type": "code",
   "execution_count": 2,
   "metadata": {},
   "outputs": [
    {
     "name": "stdout",
     "output_type": "stream",
     "text": [
      "eeee.txt does not exist!\n"
     ]
    }
   ],
   "source": [
    "try:\n",
    "    fhand = open('eeee.txt','rt')\n",
    "    print(fhand)\n",
    "except:\n",
    "    print('eeee.txt does not exist!')\n"
   ]
  },
  {
   "cell_type": "code",
   "execution_count": null,
   "metadata": {},
   "outputs": [],
   "source": [
    "stuff = 'Hello\\nWorld!'\n",
    "print(stuff)\n"
   ]
  },
  {
   "cell_type": "code",
   "execution_count": 3,
   "metadata": {},
   "outputs": [
    {
     "name": "stdout",
     "output_type": "stream",
     "text": [
      "Duke Kunshan University is a Sino-American partnership of Duke University and Wuhan University to create a world-class liberal arts and research university offering a range of academic programs for students from China and throughout the world. A non-profit, joint-venture institution, Duke Kunshan University was granted accreditation approval by China’s Ministry of Education in September 2013 and welcomed its inaugural class of students in August 2014.\n",
      "\n",
      "With the goal of spearheading the future of higher education, Duke Kunshan University is influenced and informed by both Chinese and American traditions of higher education. The shared vision of Duke University and Wuhan University is that Duke Kunshan will help address the changing needs of global higher education. Their rich heritage inspires Duke Kunshan University to pursue academic excellence and integrity and to apply classroom knowledge in service to society. Duke Kunshan University delivers academic programs designed to address society’s future needs through a curriculum based in the liberal arts tradition and a commitment to problem-based learning that challenges students to apply their knowledge during the learning process.\n",
      "\n",
      "As an international, intellectual community that encourages diversity, openness and creative learning, Duke Kunshan University welcomes outstanding students and faculty from around the world who contribute diverse perspectives and experiences to this global learning environment. The university’s innovative academic programs inspire students to master academically rigorous course work, generate new ideas and develop creative solutions to the world’s challenges, preparing them not just for careers in specific fields, but to become globally sophisticated leaders and citizens.\n",
      "\n",
      "Duke Kunshan University is governed by an independent Board of Trustees and operates under a set of guiding principles that are consistent with those of world-leading universities. Administrative operations are in the charge of the university leadership team, headed by the Chancellor and the Executive Vice Chancellor. Liu Jingnan, Duke Kunshan’s Chancellor, is a distinguished scientist, the former president of Wuhan University and a member of the Chinese Academy of Engineering. Denis Simon, the Executive Vice Chancellor, is a long-time expert on U.S.-China bilateral science and technology relations and a member of the U.S. Experts Group within the U.S.-China Innovation Dialogue.\n",
      "\n",
      "Duke Kunshan University is a place for learning, living and growing, in a setting that encourages the pursuit of knowledge within and beyond the classroom. The City of Kunshan is located in close proximity to both Shanghai and Suzhou, two of the largest and most developed metropolitan areas in China. Connected to both by high-speed rail and highways, the city of Kunshan is a center for business and high-tech research and manufacturing, and it has one of the fastest growing economies in China. The 200-acre campus site is within the Kunshan Yangcheng Lake Science Park and features state-of-the-art classroom and meeting facilities, library resources, student and faculty housing and dining space, and recreational facilities. Multi-purpose meeting spaces, breakout rooms, and study areas allow students to work individually or in groups to review course material, complete assignments, and participate in the vibrant, intellectual life of the campus.\n",
      "\n",
      "Duke Kunshan University is accredited by the Ministry of Education (MOE) of the People’s Republic of China. Duke University is accredited by the Southern Association of Colleges and Schools Commission on Colleges (SACSCOC) in the United States to award baccalaureate, master’s and doctorate degrees. Duke Kunshan University is not accredited by SACSCOC and the accreditation of Duke University does not extend to or include Duke Kunshan University or its students. Note that Duke Kunshan University students successfully completing the course of study required by Duke Kunshan University will be conferred both a Duke Kunshan University graduation certificate and diploma officially approved by the MOE as well as a diploma from Duke University (Duke University and its degrees are accredited by SACSCOC).\n",
      "\n",
      "Further, although Duke University agrees to accept certain course work from Duke Kunshan University to be applied toward an award from Duke University, that course work may not be accepted by other colleges or universities in transfer, even if it appears on a transcript from Duke University. The decision to accept course work in transfer from any institution is made by the institution considering the acceptance of credits or course work.\n"
     ]
    }
   ],
   "source": [
    "fid = open('dku_about.txt')\n",
    "for line in fid:\n",
    "    print(line)\n"
   ]
  },
  {
   "cell_type": "code",
   "execution_count": null,
   "metadata": {},
   "outputs": [],
   "source": [
    "fid = open('dku_about.txt')\n",
    "for line in fid:\n",
    "    print(line.rstrip())\n"
   ]
  },
  {
   "cell_type": "code",
   "execution_count": null,
   "metadata": {},
   "outputs": [],
   "source": [
    "fhand = open('dku_about.txt')\n",
    "count = 0\n",
    "for line in fhand:\n",
    "    count = count + 1\n",
    "print('Line Count:', count)\n"
   ]
  },
  {
   "cell_type": "code",
   "execution_count": 4,
   "metadata": {},
   "outputs": [
    {
     "data": {
      "text/plain": [
       "4671"
      ]
     },
     "execution_count": 4,
     "metadata": {},
     "output_type": "execute_result"
    }
   ],
   "source": [
    "fhand = open('dku_about.txt')\n",
    "allwords=fhand.read()\n",
    "len(allwords)\n"
   ]
  },
  {
   "cell_type": "code",
   "execution_count": null,
   "metadata": {},
   "outputs": [],
   "source": [
    "type(allwords)"
   ]
  },
  {
   "cell_type": "code",
   "execution_count": null,
   "metadata": {},
   "outputs": [],
   "source": [
    "allwords.count('\\n')"
   ]
  },
  {
   "cell_type": "code",
   "execution_count": null,
   "metadata": {},
   "outputs": [],
   "source": [
    "fhand = open('dku_about.txt')\n",
    "for line in fhand:\n",
    "    if line.startswith('Duke') :\n",
    "        print(line)\n"
   ]
  },
  {
   "cell_type": "code",
   "execution_count": null,
   "metadata": {
    "scrolled": true
   },
   "outputs": [],
   "source": [
    "fhand = open('dku_about.txt')\n",
    "for line in fhand:\n",
    "    line = line.rstrip()\n",
    "    if line.startswith('Duke') :\n",
    "        print(line)\n",
    "\n"
   ]
  },
  {
   "cell_type": "code",
   "execution_count": null,
   "metadata": {},
   "outputs": [],
   "source": [
    "fhand = open('dku_about.txt')\n",
    "for line in fhand:\n",
    "    line = line.rstrip()\n",
    "    if not line.startswith('As an international') :\n",
    "        continue\n",
    "    print(line)\n"
   ]
  }
 ],
 "metadata": {
  "kernelspec": {
   "display_name": "Python 3",
   "language": "python",
   "name": "python3"
  },
  "language_info": {
   "codemirror_mode": {
    "name": "ipython",
    "version": 3
   },
   "file_extension": ".py",
   "mimetype": "text/x-python",
   "name": "python",
   "nbconvert_exporter": "python",
   "pygments_lexer": "ipython3",
   "version": "3.6.4"
  }
 },
 "nbformat": 4,
 "nbformat_minor": 2
}
