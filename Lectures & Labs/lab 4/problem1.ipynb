{
 "cells": [
  {
   "cell_type": "markdown",
   "metadata": {},
   "source": [
    "Before you turn this problem in, make sure everything runs as expected. First, **restart the kernel** (in the menubar, select Kernel$\\rightarrow$Restart) and then **run all cells** (in the menubar, select Cell$\\rightarrow$Run All).\n",
    "\n",
    "Make sure you fill in any place that says `YOUR CODE HERE` or \"YOUR ANSWER HERE\", as well as your name and collaborators below:"
   ]
  },
  {
   "cell_type": "code",
   "execution_count": null,
   "metadata": {},
   "outputs": [],
   "source": [
    "NAME = \"Ziyue Yin\"\n",
    "COLLABORATORS = \"\""
   ]
  },
  {
   "cell_type": "markdown",
   "metadata": {},
   "source": [
    "---"
   ]
  },
  {
   "cell_type": "markdown",
   "metadata": {
    "deletable": false,
    "editable": false,
    "nbgrader": {
     "cell_type": "markdown",
     "checksum": "22c74a6b9b7797c518834e6eca25e657",
     "grade": false,
     "grade_id": "cell-9f1f9ac6cd7b8166",
     "locked": true,
     "schema_version": 3,
     "solution": false
    }
   },
   "source": [
    "Lab 4, STATS102 Fall2022 Session 1, Duke Kunshan University, Sep 15th\n",
    "![](dku.jpg)\n",
    "For this problem set, we'll be using the Jupyter notebook:\n",
    "![](jupyter.png) "
   ]
  },
  {
   "cell_type": "markdown",
   "metadata": {
    "deletable": false,
    "editable": false,
    "nbgrader": {
     "cell_type": "markdown",
     "checksum": "bec0d6c9331fb0750ffff42ba7ea7515",
     "grade": false,
     "grade_id": "cell-269160bc4fc6e4c3",
     "locked": true,
     "schema_version": 3,
     "solution": false,
     "task": false
    }
   },
   "source": [
    "Data reference: https://www.kaggle.com/ramamet4/app-store-apple-data-set-10k-apps\n",
    "\n",
    "Matplotlib reference: https://matplotlib.org/gallery/index.html"
   ]
  },
  {
   "cell_type": "markdown",
   "metadata": {
    "deletable": false,
    "editable": false,
    "nbgrader": {
     "cell_type": "markdown",
     "checksum": "e74a137bbef057d97c8242865a1ce607",
     "grade": false,
     "grade_id": "cell-5449c5dd23252508",
     "locked": true,
     "schema_version": 3,
     "solution": false
    }
   },
   "source": [
    "# Problem 1\n",
    "\n",
    "How do you visualize price distribution of all apps?\n",
    "\n",
    "![](Fig_1.jpg) "
   ]
  },
  {
   "cell_type": "code",
   "execution_count": 25,
   "metadata": {
    "deletable": false,
    "nbgrader": {
     "cell_type": "code",
     "checksum": "1f412c116699b3483fd028623c59c1b9",
     "grade": false,
     "grade_id": "strictly_ascending_list",
     "locked": false,
     "schema_version": 3,
     "solution": true
    }
   },
   "outputs": [],
   "source": [
    "%matplotlib inline\n",
    "import numpy as np\n",
    "import pandas as pd\n",
    "from matplotlib import pyplot as plt\n",
    "import seaborn as sns\n",
    "\n",
    "def myfunction():\n",
    "    df = pd.read_csv('AppleStoreData.csv')\n",
    "    # YOUR CODE HERE\n",
    "    df = pd.read_csv('AppleStoreData.csv')\n",
    "    plt.hist(df['price'],bins=1000);\n",
    "    plt.xlim(0,30)\n",
    "    plt.title('Price distribution of all apps')\n",
    "    plt.xlabel('Price Distributions in ($)');"
   ]
  },
  {
   "cell_type": "code",
   "execution_count": 26,
   "metadata": {
    "deletable": false,
    "editable": false,
    "nbgrader": {
     "cell_type": "code",
     "checksum": "f0e8f406dd5cc4972119ec9e3b70c003",
     "grade": true,
     "grade_id": "strictly_ascending_list1",
     "locked": true,
     "points": 0,
     "schema_version": 3,
     "solution": false,
     "task": false
    }
   },
   "outputs": [
    {
     "data": {
      "image/png": "[encoded data removed]",
      "text/plain": [
       "<Figure size 432x288 with 1 Axes>"
      ]
     },
     "metadata": {
      "needs_background": "light"
     },
     "output_type": "display_data"
    }
   ],
   "source": [
    "myfunction()"
   ]
  },
  {
   "cell_type": "markdown",
   "metadata": {
    "deletable": false,
    "editable": false,
    "nbgrader": {
     "cell_type": "markdown",
     "checksum": "0d109abee08ebba2f54114d202b45420",
     "grade": false,
     "grade_id": "cell-56fc2811967417ab",
     "locked": true,
     "schema_version": 3,
     "solution": false,
     "task": false
    }
   },
   "source": [
    "# Problem 2\n",
    "\n",
    "What about Paid apps VS Free apps (for Games, Education, Entertainment, Photo & Video, Utilities categories)?\n",
    "\n",
    "![](Fig_2.jpg) "
   ]
  },
  {
   "cell_type": "code",
   "execution_count": 55,
   "metadata": {
    "deletable": false,
    "nbgrader": {
     "cell_type": "code",
     "checksum": "49601f440ad8960175252ec60654e91f",
     "grade": false,
     "grade_id": "cell-e0009896e4596007",
     "locked": false,
     "schema_version": 3,
     "solution": true,
     "task": false
    }
   },
   "outputs": [],
   "source": [
    "%matplotlib inline\n",
    "import numpy as np\n",
    "import pandas as pd\n",
    "from matplotlib import pyplot as plt\n",
    "import seaborn as sns\n",
    "\n",
    "def myfunction():\n",
    "    df = pd.read_csv('AppleStoreData.csv')\n",
    "    # YOUR CODE HERE\n",
    "    genre_group = df.groupby(by='prime_genre').count().sort_values(by='id')\n",
    "    data_array = []\n",
    "    labels = ['Games', 'Education', 'Entertainment', 'Photo & Video', 'Utilities']\n",
    "    for l in labels:\n",
    "        each_genre = df[df['prime_genre']==1]\n",
    "        free_cnt = (np.subtract(each_genre['price'], 0.0) < 0.0001).sum()\n",
    "        paid_cnt = each_genre.shape[0] - free_cnt\n",
    "        data_array.append([free_cnt, paid_cnt, each_genre.shape[0]])\n",
    "    data_array = np.asarray(data_array).T\n",
    "    new_df = pd.DataFrame(data_array, columns=labels, index=['Free', 'Paid', 'All'])\n",
    "    N = 5\n",
    "    ind = np.arange(N)\n",
    "    width = 0.35\n",
    "    p1 = plt.bar(ind, new_df.loc['Free'], width, color='green')\n",
    "    p2 = plt.bar(ind, new_df.loc['Paid'], width, bottom=new_df.loc['Free'], color='yellow')\n",
    "    plt.xticks(ind, labels, rotation=20)\n",
    "    plt.legend((p1[0], p2[0]), ('free', 'paid'))\n",
    "    plt.title('Paid apps VS Free apps')\n",
    "    plt.show()"
   ]
  },
  {
   "cell_type": "code",
   "execution_count": 48,
   "metadata": {},
   "outputs": [
    {
     "data": {
      "text/plain": [
       "73"
      ]
     },
     "execution_count": 48,
     "metadata": {},
     "output_type": "execute_result"
    }
   ],
   "source": [
    "%matplotlib inline\n",
    "import numpy as np\n",
    "import pandas as pd\n",
    "from matplotlib import pyplot as plt\n",
    "import seaborn as sns\n",
    "df=pd.read_csv('AppleStoreData.csv')\n",
    "df['free']=df['price']<0.01\n",
    "df2=df.groupby(by=['prime_genre','free']).count()\n",
    "df2.loc['Education',True]['id']"
   ]
  },
  {
   "cell_type": "code",
   "execution_count": 56,
   "metadata": {
    "deletable": false,
    "editable": false,
    "nbgrader": {
     "cell_type": "code",
     "checksum": "67675f770e0800014ec5c02ed75d79e3",
     "grade": true,
     "grade_id": "cell-7debb17a223463d1",
     "locked": true,
     "points": 0,
     "schema_version": 3,
     "solution": false,
     "task": false
    }
   },
   "outputs": [
    {
     "data": {
      "image/png": "[encoded data removed]",
      "text/plain": [
       "<Figure size 432x288 with 1 Axes>"
      ]
     },
     "metadata": {
      "needs_background": "light"
     },
     "output_type": "display_data"
    }
   ],
   "source": [
    "myfunction()"
   ]
  },
  {
   "cell_type": "markdown",
   "metadata": {
    "deletable": false,
    "editable": false,
    "nbgrader": {
     "cell_type": "markdown",
     "checksum": "becadec4cb793177ebd805946e22f0fa",
     "grade": false,
     "grade_id": "cell-be58148f417cc60b",
     "locked": true,
     "schema_version": 3,
     "solution": false,
     "task": false
    }
   },
   "source": [
    "# Problem 3.1\n",
    "\n",
    "How are the apps distributed category wise?\n",
    "\n",
    "![](Fig_3.jpg) "
   ]
  },
  {
   "cell_type": "code",
   "execution_count": 75,
   "metadata": {
    "deletable": false,
    "nbgrader": {
     "cell_type": "code",
     "checksum": "e0a8f91be0bc3e559d531235fcd154dd",
     "grade": false,
     "grade_id": "cell-be2566487c305f77",
     "locked": false,
     "schema_version": 3,
     "solution": true,
     "task": false
    }
   },
   "outputs": [],
   "source": [
    "%matplotlib inline\n",
    "import numpy as np\n",
    "import pandas as pd\n",
    "from matplotlib import pyplot as plt\n",
    "import seaborn as sns\n",
    "\n",
    "def myfunction():\n",
    "    df = pd.read_csv('AppleStoreData.csv')\n",
    "    # YOUR CODE HERE\n",
    "    genre_group = df.groupby(by='prime_genre').count().sort_values(by='id')\n",
    "    data_array = []\n",
    "    labels = ['Games', 'Education', 'Entertainment', 'Photo & Video', 'Utilities']\n",
    "    for l in labels:\n",
    "        each_genre = df[df['prime_genre']==1]\n",
    "        free_cnt = (np.subtract(each_genre['price'], 0.0) < 0.0001).sum()\n",
    "        paid_cnt = each_genre.shape[0] - free_cnt\n",
    "        data_array.append([free_cnt, paid_cnt, each_genre.shape[0]])\n",
    "    data_array = np.asarray(data_array).T\n",
    "    new_df = pd.DataFrame(data_array, columns=labels, index=['Free', 'Paid', 'All'])\n",
    "    \n",
    "    size = new_df.loc['All']\n",
    "    plt.pie(size, labels=labels)\n",
    "    plt.title('App category distribution')\n",
    "    plt.show()"
   ]
  },
  {
   "cell_type": "code",
   "execution_count": 78,
   "metadata": {
    "deletable": false,
    "editable": false,
    "nbgrader": {
     "cell_type": "code",
     "checksum": "0b8db8349437921f942ddbce32dd9422",
     "grade": true,
     "grade_id": "cell-f8b6f3af9b05ae45",
     "locked": true,
     "points": 0,
     "schema_version": 3,
     "solution": false,
     "task": false
    }
   },
   "outputs": [
    {
     "data": {
      "image/png": "[encoded data removed]",
      "text/plain": [
       "<Figure size 432x288 with 1 Axes>"
      ]
     },
     "metadata": {},
     "output_type": "display_data"
    }
   ],
   "source": [
    "myfunction()"
   ]
  },
  {
   "cell_type": "markdown",
   "metadata": {
    "deletable": false,
    "editable": false,
    "nbgrader": {
     "cell_type": "markdown",
     "checksum": "59c0fed496c510534235cd1ec00ceddc",
     "grade": false,
     "grade_id": "cell-66bb9183e069f9e0",
     "locked": true,
     "schema_version": 3,
     "solution": false,
     "task": false
    }
   },
   "source": [
    "# Problem 3.2\n",
    "\n",
    "![](Fig_4.jpg) "
   ]
  },
  {
   "cell_type": "code",
   "execution_count": null,
   "metadata": {
    "deletable": false,
    "nbgrader": {
     "cell_type": "code",
     "checksum": "23731f0cdec7335c9ce902e9bef58619",
     "grade": false,
     "grade_id": "cell-2dd857483e104c7d",
     "locked": false,
     "schema_version": 3,
     "solution": true,
     "task": false
    }
   },
   "outputs": [],
   "source": [
    "%matplotlib inline\n",
    "import numpy as np\n",
    "import pandas as pd\n",
    "from matplotlib import pyplot as plt\n",
    "import seaborn as sns\n",
    "\n",
    "def myfunction():\n",
    "    df = pd.read_csv('AppleStoreData.csv')\n",
    "    # YOUR CODE HERE\n",
    "    "
   ]
  },
  {
   "cell_type": "code",
   "execution_count": null,
   "metadata": {
    "deletable": false,
    "editable": false,
    "nbgrader": {
     "cell_type": "code",
     "checksum": "333bc75b12fdd37148903144899fc156",
     "grade": true,
     "grade_id": "cell-751309db16b03a89",
     "locked": true,
     "points": 0,
     "schema_version": 3,
     "solution": false,
     "task": false
    }
   },
   "outputs": [],
   "source": [
    "myfunction()"
   ]
  }
 ],
 "metadata": {
  "kernelspec": {
   "display_name": "Python 3",
   "language": "python",
   "name": "python3"
  },
  "language_info": {
   "codemirror_mode": {
    "name": "ipython",
    "version": 3
   },
   "file_extension": ".py",
   "mimetype": "text/x-python",
   "name": "python",
   "nbconvert_exporter": "python",
   "pygments_lexer": "ipython3",
   "version": "3.6.9"
  }
 },
 "nbformat": 4,
 "nbformat_minor": 2
}
