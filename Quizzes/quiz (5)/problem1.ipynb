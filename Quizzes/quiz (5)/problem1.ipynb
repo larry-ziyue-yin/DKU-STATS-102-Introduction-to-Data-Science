{
 "cells": [
  {
   "cell_type": "markdown",
   "metadata": {},
   "source": [
    "Before you turn this problem in, make sure everything runs as expected. First, **restart the kernel** (in the menubar, select Kernel$\\rightarrow$Restart) and then **run all cells** (in the menubar, select Cell$\\rightarrow$Run All).\n",
    "\n",
    "Make sure you fill in any place that says `YOUR CODE HERE` or \"YOUR ANSWER HERE\", as well as your name and collaborators below:"
   ]
  },
  {
   "cell_type": "code",
   "execution_count": null,
   "metadata": {},
   "outputs": [],
   "source": [
    "NAME = \"Ziyue Yin\"\n",
    "COLLABORATORS = \"\""
   ]
  },
  {
   "cell_type": "markdown",
   "metadata": {},
   "source": [
    "---"
   ]
  },
  {
   "cell_type": "markdown",
   "metadata": {
    "deletable": false,
    "editable": false,
    "nbgrader": {
     "cell_type": "markdown",
     "checksum": "f4abe39294fadf777a6e482bf488620f",
     "grade": false,
     "grade_id": "cell-9f1f9ac6cd7b8166",
     "locked": true,
     "schema_version": 3,
     "solution": false
    }
   },
   "source": [
    "##### quiz 5, STATS102 Fall 2022 Session 1, Duke Kunshan University, Aug 31th\n",
    "![](dku.jpg)\n",
    "For this problem set, we'll be using the Jupyter notebook:\n",
    "![](jupyter.png) "
   ]
  },
  {
   "cell_type": "markdown",
   "metadata": {
    "deletable": false,
    "editable": false,
    "nbgrader": {
     "cell_type": "markdown",
     "checksum": "f32a9fe7019f4951c318e66be814997f",
     "grade": false,
     "grade_id": "cell-5449c5dd23252508",
     "locked": true,
     "schema_version": 3,
     "solution": false
    }
   },
   "source": [
    "# Problem 1\n",
    "For an input numpy array x, return a string in the following format:\n",
    "\n",
    "'the input numpy array has xxx rows, xxx columns!'\n",
    "\n",
    "xxx should be replaced by the real integer number.\n",
    "\n",
    "For example:\n",
    "\n",
    "\n",
    "the input \n",
    "\n",
    "array([[0, 1, 2],\n",
    "       [3, 4, 5],\n",
    "       [6, 7, 8]])\n",
    "       \n",
    "the output\n",
    "\n",
    "'the input numpy array has 3 rows, 3 columns!'"
   ]
  },
  {
   "cell_type": "code",
   "execution_count": 15,
   "metadata": {
    "deletable": false,
    "nbgrader": {
     "cell_type": "code",
     "checksum": "eed230bacb0fac50780b2bf40d8ddd39",
     "grade": false,
     "grade_id": "strictly_ascending_list",
     "locked": false,
     "schema_version": 3,
     "solution": true
    }
   },
   "outputs": [],
   "source": [
    "import numpy as np\n",
    "def tell_the_shape(x):\n",
    "    # YOUR CODE HERE\n",
    "    a=x.shape\n",
    "    row=int(a[0])\n",
    "    column=int(a[1])\n",
    "    return 'the input numpy array has '+str(row)+' rows, '+str(column)+' columns!'\n",
    "\n",
    "#{'the input numpy array has %d rows, %d columns!'}.format()"
   ]
  },
  {
   "cell_type": "code",
   "execution_count": 16,
   "metadata": {},
   "outputs": [
    {
     "data": {
      "text/plain": [
       "'the input numpy array has 3 rows, 4 columns!'"
      ]
     },
     "execution_count": 16,
     "metadata": {},
     "output_type": "execute_result"
    }
   ],
   "source": [
    "data=np.arange(12).reshape(3,4)\n",
    "tell_the_shape(data)"
   ]
  },
  {
   "cell_type": "code",
   "execution_count": 17,
   "metadata": {
    "deletable": false,
    "editable": false,
    "nbgrader": {
     "cell_type": "code",
     "checksum": "40b7a6881ead57d6ce4772ad21fe24e0",
     "grade": true,
     "grade_id": "strictly_ascending_list1",
     "locked": true,
     "points": 0.5,
     "schema_version": 3,
     "solution": false
    }
   },
   "outputs": [],
   "source": [
    "import numpy as np\n",
    "data=np.arange(12).reshape(3,4)\n",
    "assert tell_the_shape(data)=='the input numpy array has 3 rows, 4 columns!'\n",
    "data=np.arange(15).reshape(3,5)\n",
    "assert tell_the_shape(data)=='the input numpy array has 3 rows, 5 columns!'\n",
    "data=np.empty((4,4))\n",
    "assert tell_the_shape(data)=='the input numpy array has 4 rows, 4 columns!'"
   ]
  },
  {
   "cell_type": "markdown",
   "metadata": {
    "deletable": false,
    "editable": false,
    "nbgrader": {
     "cell_type": "markdown",
     "checksum": "b684f7c863a4391cfa8be95e0b35a381",
     "grade": false,
     "grade_id": "cell-c8d9106f84aa0488",
     "locked": true,
     "schema_version": 3,
     "solution": false,
     "task": false
    }
   },
   "source": [
    "# Problem2\n",
    "for an input scalar variable x (\\\\( x \\in (-1,1)\\\\)) and positive integer N, calculate and return \\\\( \\Sigma_{n=0}^{N} (-x)^{n}\\\\), we will compare the results with \\\\( \\frac{1}{1+x}\\\\) according to different N. Hint: np.arange np.sum"
   ]
  },
  {
   "cell_type": "code",
   "execution_count": 2,
   "metadata": {
    "deletable": false,
    "nbgrader": {
     "cell_type": "code",
     "checksum": "2e2a415cc946eafe74305fe055547414",
     "grade": false,
     "grade_id": "cell-93b6d6060132db94",
     "locked": false,
     "schema_version": 3,
     "solution": true,
     "task": false
    }
   },
   "outputs": [],
   "source": [
    "import numpy as np\n",
    "def myfunction(x,N):\n",
    "    # YOUR CODE HERE\n",
    "    n=np.arange(N+1)\n",
    "    data1=(-x)**n\n",
    "    return data1.sum()"
   ]
  },
  {
   "cell_type": "code",
   "execution_count": 3,
   "metadata": {
    "deletable": false,
    "editable": false,
    "nbgrader": {
     "cell_type": "code",
     "checksum": "4b69aa3845d23565b3d7f90a7207435f",
     "grade": true,
     "grade_id": "cell-57a0cf34b31278ec",
     "locked": true,
     "points": 0.5,
     "schema_version": 3,
     "solution": false,
     "task": false
    }
   },
   "outputs": [],
   "source": [
    "import numpy as np\n",
    "assert(abs(myfunction(0.5,10)-1/(1+0.5))>1e-5)\n",
    "assert(abs(myfunction(0.5,50)-1/(1+0.5))<1e-5)\n",
    "assert(abs(myfunction(0.5,100)-1/(1+0.5))<1e-10)\n",
    "assert(abs(myfunction(0.4,5)-1/(1+0.4))>1e-5)\n",
    "assert(abs(myfunction(0.4,20)-1/(1+0.4))<1e-5)"
   ]
  }
 ],
 "metadata": {
  "kernelspec": {
   "display_name": "Python 3",
   "language": "python",
   "name": "python3"
  },
  "language_info": {
   "codemirror_mode": {
    "name": "ipython",
    "version": 3
   },
   "file_extension": ".py",
   "mimetype": "text/x-python",
   "name": "python",
   "nbconvert_exporter": "python",
   "pygments_lexer": "ipython3",
   "version": "3.6.9"
  }
 },
 "nbformat": 4,
 "nbformat_minor": 2
}
