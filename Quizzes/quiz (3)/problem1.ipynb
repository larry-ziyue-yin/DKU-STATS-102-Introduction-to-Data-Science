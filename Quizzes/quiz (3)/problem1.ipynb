{
 "cells": [
  {
   "cell_type": "markdown",
   "metadata": {},
   "source": [
    "Before you turn this problem in, make sure everything runs as expected. First, **restart the kernel** (in the menubar, select Kernel$\\rightarrow$Restart) and then **run all cells** (in the menubar, select Cell$\\rightarrow$Run All).\n",
    "\n",
    "Make sure you fill in any place that says `YOUR CODE HERE` or \"YOUR ANSWER HERE\", as well as your name and collaborators below:"
   ]
  },
  {
   "cell_type": "code",
   "execution_count": null,
   "metadata": {},
   "outputs": [],
   "source": [
    "NAME = \"Ziyue Yin\"\n",
    "COLLABORATORS = \"\""
   ]
  },
  {
   "cell_type": "markdown",
   "metadata": {},
   "source": [
    "---"
   ]
  },
  {
   "cell_type": "markdown",
   "metadata": {
    "deletable": false,
    "editable": false,
    "nbgrader": {
     "cell_type": "markdown",
     "checksum": "b80b3cd4ed3ebf196adc1821ab7f7cb0",
     "grade": false,
     "grade_id": "cell-9f1f9ac6cd7b8166",
     "locked": true,
     "schema_version": 3,
     "solution": false
    }
   },
   "source": [
    "quiz3 (not counted towards the final grade), STATS102 2022 Fall session 1, Duke Kunshan University, Aug 29th 2022\n",
    "![](dku.jpg)\n",
    "For this problem set, we'll be using the Jupyter notebook:\n",
    "![](jupyter.png) "
   ]
  },
  {
   "cell_type": "markdown",
   "metadata": {
    "deletable": false,
    "editable": false,
    "nbgrader": {
     "cell_type": "markdown",
     "checksum": "b6c505609dcff92ed38dd107f33ed24a",
     "grade": false,
     "grade_id": "cell-f875e74087b9e037",
     "locked": true,
     "schema_version": 3,
     "solution": false
    }
   },
   "source": [
    "## Problem1\n",
    "\n",
    "One apple is 5 dollars, one pear is 3 dollars, and 3 bananas are 1 dollar. How to buy 100 fruits using 100 dollars?\n",
    "\n",
    "Input: no input\n",
    "\n",
    "Output: all possible combonation of `[#apples, #pears, #bananas]`, the output should be a list of list, e.g. `[[#apples, #pears, #bananas], [#apples, #pears, #bananas], [#apples, #pears, #bananas]]`\n"
   ]
  },
  {
   "cell_type": "code",
   "execution_count": null,
   "metadata": {
    "deletable": false,
    "nbgrader": {
     "cell_type": "code",
     "checksum": "87e41ec18c58bd5517e78eec1c7025f2",
     "grade": false,
     "grade_id": "cell-f95bfce2ff17397a",
     "locked": false,
     "schema_version": 3,
     "solution": true
    }
   },
   "outputs": [],
   "source": [
    "def fun():\n",
    "    for x in range(101):\n",
    "        for y in range (101):\n",
    "            for z in range (101):\n",
    "                pay=x*5+y*3+z*(1/3)\n",
    "                alist=[]\n",
    "                if x+y+z==100 and pay==100:\n",
    "                    aresult=[x,'apples',',',y,'pears',',',z,'bananas']\n",
    "                    alist.append(aresult)\n",
    "                else:\n",
    "                    continue\n",
    "    return alist"
   ]
  },
  {
   "cell_type": "code",
   "execution_count": null,
   "metadata": {},
   "outputs": [],
   "source": [
    "fun()"
   ]
  },
  {
   "cell_type": "code",
   "execution_count": null,
   "metadata": {
    "deletable": false,
    "editable": false,
    "nbgrader": {
     "cell_type": "code",
     "checksum": "6a548f49a9e24df67635b1e1b30bedd3",
     "grade": true,
     "grade_id": "cell-770318cc3f2e6430",
     "locked": true,
     "points": 0.5,
     "schema_version": 3,
     "solution": false
    }
   },
   "outputs": [],
   "source": [
    "def my_test(results):\n",
    "    for num_fruits in results:\n",
    "        if len(num_fruits) != 3 or sum([a*b for a, b in zip(num_fruits, [5, 3, 1/3])]) != 100 or sum(num_fruits) != 100:\n",
    "            return False\n",
    "    return True\n",
    "        \n",
    "assert my_test(fun()) == True"
   ]
  }
 ],
 "metadata": {
  "kernelspec": {
   "display_name": "Python 3",
   "language": "python",
   "name": "python3"
  },
  "language_info": {
   "codemirror_mode": {
    "name": "ipython",
    "version": 3
   },
   "file_extension": ".py",
   "mimetype": "text/x-python",
   "name": "python",
   "nbconvert_exporter": "python",
   "pygments_lexer": "ipython3",
   "version": "3.6.9"
  }
 },
 "nbformat": 4,
 "nbformat_minor": 2
}
