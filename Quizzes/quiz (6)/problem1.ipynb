{
 "cells": [
  {
   "cell_type": "markdown",
   "metadata": {},
   "source": [
    "Before you turn this problem in, make sure everything runs as expected. First, **restart the kernel** (in the menubar, select Kernel$\\rightarrow$Restart) and then **run all cells** (in the menubar, select Cell$\\rightarrow$Run All).\n",
    "\n",
    "Make sure you fill in any place that says `YOUR CODE HERE` or \"YOUR ANSWER HERE\", as well as your name and collaborators below:"
   ]
  },
  {
   "cell_type": "code",
   "execution_count": null,
   "metadata": {},
   "outputs": [],
   "source": [
    "NAME = \"Ziyue Yin\"\n",
    "COLLABORATORS = \"\""
   ]
  },
  {
   "cell_type": "markdown",
   "metadata": {},
   "source": [
    "---"
   ]
  },
  {
   "cell_type": "markdown",
   "metadata": {
    "deletable": false,
    "editable": false,
    "nbgrader": {
     "cell_type": "markdown",
     "checksum": "522fa6049f2f572aad4d68946da233de",
     "grade": false,
     "grade_id": "cell-9f1f9ac6cd7b8166",
     "locked": true,
     "schema_version": 3,
     "solution": false
    }
   },
   "source": [
    "quiz 6, STATS102 Fall 2022 Session 1, Duke Kunshan University, Sep 1st\n",
    "![](dku.jpg)\n",
    "For this problem set, we'll be using the Jupyter notebook:\n",
    "![](jupyter.png) "
   ]
  },
  {
   "cell_type": "markdown",
   "metadata": {
    "deletable": false,
    "editable": false,
    "nbgrader": {
     "cell_type": "markdown",
     "checksum": "c7c19d0846e8a4d93466e54bc12c53da",
     "grade": false,
     "grade_id": "cell-5449c5dd23252508",
     "locked": true,
     "schema_version": 3,
     "solution": false
    }
   },
   "source": [
    "Given a numpy array with dtype as int, calculate how many even numbers between 5 and 15 are there. \n",
    "\n",
    "for example:\n",
    "\n",
    "input:\n",
    "array([[ 2,  5,  1,  4,  9],\n",
    "       [ 5,  2,  1, 17, 14],\n",
    "       [ 9, 16, 18,  9, 11],\n",
    "       [13, 10, 17, 18,  6],\n",
    "       [ 7, 11,  7,  1,  4]])\n",
    "\n",
    "\n",
    "output: 3\n",
    "\n",
    "Hint: you could solve this problem with one line code."
   ]
  },
  {
   "cell_type": "code",
   "execution_count": 13,
   "metadata": {
    "deletable": false,
    "nbgrader": {
     "cell_type": "code",
     "checksum": "db248a47926a457da4fedc4e499a048f",
     "grade": false,
     "grade_id": "myfunction",
     "locked": false,
     "schema_version": 3,
     "solution": true
    }
   },
   "outputs": [],
   "source": [
    "import numpy as np\n",
    "def myfunction(A):\n",
    "    # YOUR CODE HERE\n",
    "    return np.sum((A>5) & (A<15) &(A%2==0))"
   ]
  },
  {
   "cell_type": "code",
   "execution_count": 14,
   "metadata": {
    "deletable": false,
    "editable": false,
    "nbgrader": {
     "cell_type": "code",
     "checksum": "8659797310c80ec82d53e1c3e9fe22c1",
     "grade": true,
     "grade_id": "myfunction_test",
     "locked": true,
     "points": 0.5,
     "schema_version": 3,
     "solution": false
    }
   },
   "outputs": [],
   "source": [
    "import numpy as np\n",
    "rng = np.random.RandomState(12345)\n",
    "assert myfunction(rng.randint(0,20,(5,5)))==3\n",
    "rng = np.random.RandomState(12345)\n",
    "assert myfunction(rng.randint(0,20,(1,5)))==0\n",
    "rng = np.random.RandomState(12345)\n",
    "assert myfunction(rng.randint(0,20,(5,1)))==0\n",
    "rng = np.random.RandomState(12345)\n",
    "assert myfunction(rng.randint(0,20,(6,3)))==2\n",
    "rng = np.random.RandomState(12345)\n",
    "assert myfunction(rng.randint(0,20,(2,4)))==0\n",
    "rng = np.random.RandomState(12345)\n",
    "assert myfunction(rng.randint(0,20,(10,10)))==25\n"
   ]
  }
 ],
 "metadata": {
  "kernelspec": {
   "display_name": "Python 3",
   "language": "python",
   "name": "python3"
  },
  "language_info": {
   "codemirror_mode": {
    "name": "ipython",
    "version": 3
   },
   "file_extension": ".py",
   "mimetype": "text/x-python",
   "name": "python",
   "nbconvert_exporter": "python",
   "pygments_lexer": "ipython3",
   "version": "3.6.9"
  }
 },
 "nbformat": 4,
 "nbformat_minor": 2
}
