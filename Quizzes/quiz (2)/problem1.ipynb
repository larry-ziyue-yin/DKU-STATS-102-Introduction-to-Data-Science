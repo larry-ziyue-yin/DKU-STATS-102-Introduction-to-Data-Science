{
 "cells": [
  {
   "cell_type": "markdown",
   "metadata": {},
   "source": [
    "Before you turn this problem in, make sure everything runs as expected. First, **restart the kernel** (in the menubar, select Kernel$\\rightarrow$Restart) and then **run all cells** (in the menubar, select Cell$\\rightarrow$Run All).\n",
    "\n",
    "Make sure you fill in any place that says `YOUR CODE HERE` or \"YOUR ANSWER HERE\", as well as your name and collaborators below:"
   ]
  },
  {
   "cell_type": "code",
   "execution_count": null,
   "metadata": {},
   "outputs": [],
   "source": [
    "NAME = \"Ziyue Yin\"\n",
    "COLLABORATORS = \"\""
   ]
  },
  {
   "cell_type": "markdown",
   "metadata": {},
   "source": [
    "---"
   ]
  },
  {
   "cell_type": "markdown",
   "metadata": {
    "deletable": false,
    "editable": false,
    "nbgrader": {
     "cell_type": "markdown",
     "checksum": "ccd511ec6cf77b7e7ef59d90e9f9ee77",
     "grade": false,
     "grade_id": "cell-9f1f9ac6cd7b8166",
     "locked": true,
     "schema_version": 3,
     "solution": false
    }
   },
   "source": [
    "Problem 1 of quiz 2 (not counted towards the final grade), STATS102 Spring 2021 Session 3, Duke Kunshan University,  Jan 13th\n",
    "\n",
    "![](dku.jpg)\n",
    "For this problem set, we'll be using the Jupyter notebook:\n",
    "![](jupyter.png) "
   ]
  },
  {
   "cell_type": "markdown",
   "metadata": {
    "deletable": false,
    "editable": false,
    "nbgrader": {
     "cell_type": "markdown",
     "checksum": "b9b37faebdcb9b5668201488ec5265b4",
     "grade": false,
     "grade_id": "cell-5449c5dd23252508",
     "locked": true,
     "schema_version": 3,
     "solution": false
    }
   },
   "source": [
    "Test whether the elements in input the list are in a strictly ascending order, return bool type decision."
   ]
  },
  {
   "cell_type": "code",
   "execution_count": 2,
   "metadata": {
    "deletable": false,
    "nbgrader": {
     "cell_type": "code",
     "checksum": "e42faa657478833383e2a20fd3a76b31",
     "grade": false,
     "grade_id": "strictly_ascending_list",
     "locked": false,
     "schema_version": 3,
     "solution": true
    }
   },
   "outputs": [],
   "source": [
    "def strictly_ascending_list(mylist):\n",
    "    # YOUR CODE HERE\n",
    "    if mylist\n",
    "    elif mylist==sorted(mylist):\n",
    "        return(True)\n",
    "    else:\n",
    "        return(False)"
   ]
  },
  {
   "cell_type": "code",
   "execution_count": 14,
   "metadata": {
    "nbgrader": {
     "cell_type": "code",
     "checksum": "e42faa657478833383e2a20fd3a76b31",
     "grade": false,
     "grade_id": "strictly_ascending_list",
     "locked": false,
     "schema_version": 3,
     "solution": true
    }
   },
   "outputs": [],
   "source": [
    "def strictly_ascending_list(mylist):\n",
    "    # YOUR CODE HERE\n",
    "    if(len(mylist)==1):\n",
    "        return True\n",
    "\n",
    "    for i in range(1,len(mylist)):\n",
    "        if(mylist[i])<=(mylist[i-1]):\n",
    "            return False\n",
    "\n",
    "    return True"
   ]
  },
  {
   "cell_type": "code",
   "execution_count": 11,
   "metadata": {},
   "outputs": [
    {
     "data": {
      "text/plain": [
       "range(1, 9)"
      ]
     },
     "execution_count": 11,
     "metadata": {},
     "output_type": "execute_result"
    }
   ],
   "source": [
    "range(1,9)"
   ]
  },
  {
   "cell_type": "code",
   "execution_count": null,
   "metadata": {
    "deletable": false,
    "editable": false,
    "nbgrader": {
     "cell_type": "code",
     "checksum": "fe90d0403c2c9d59f8cbc6aad5781508",
     "grade": true,
     "grade_id": "strictly_ascending_list1",
     "locked": true,
     "points": 0.5,
     "schema_version": 3,
     "solution": false
    }
   },
   "outputs": [],
   "source": [
    "\n",
    "assert strictly_ascending_list([3, 6, 8, 9])==True\n",
    "assert strictly_ascending_list([-1, 3, 11, 17, 19])==True\n",
    "assert strictly_ascending_list([-1, 0, 1, 2])==True\n",
    "assert strictly_ascending_list([9, 8, 7, 6])==False\n",
    "assert strictly_ascending_list([-1, -2, -3, -4])==False\n",
    "assert strictly_ascending_list([1, 1, 4, 5])==False\n"
   ]
  }
 ],
 "metadata": {
  "kernelspec": {
   "display_name": "Python 3",
   "language": "python",
   "name": "python3"
  },
  "language_info": {
   "codemirror_mode": {
    "name": "ipython",
    "version": 3
   },
   "file_extension": ".py",
   "mimetype": "text/x-python",
   "name": "python",
   "nbconvert_exporter": "python",
   "pygments_lexer": "ipython3",
   "version": "3.6.9"
  }
 },
 "nbformat": 4,
 "nbformat_minor": 2
}
