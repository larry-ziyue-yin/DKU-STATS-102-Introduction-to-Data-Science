{
 "cells": [
  {
   "cell_type": "markdown",
   "metadata": {},
   "source": [
    "Before you turn this problem in, make sure everything runs as expected. First, **restart the kernel** (in the menubar, select Kernel$\\rightarrow$Restart) and then **run all cells** (in the menubar, select Cell$\\rightarrow$Run All).\n",
    "\n",
    "Make sure you fill in any place that says `YOUR CODE HERE` or \"YOUR ANSWER HERE\", as well as your name and collaborators below:"
   ]
  },
  {
   "cell_type": "code",
   "execution_count": null,
   "metadata": {},
   "outputs": [],
   "source": [
    "NAME = \"Ziyue Yin\"\n",
    "COLLABORATORS = \"\""
   ]
  },
  {
   "cell_type": "markdown",
   "metadata": {},
   "source": [
    "---"
   ]
  },
  {
   "cell_type": "markdown",
   "metadata": {
    "deletable": false,
    "editable": false,
    "nbgrader": {
     "cell_type": "markdown",
     "checksum": "f07fc5f46cbeba26713e0822b4ba629b",
     "grade": false,
     "grade_id": "cell-9f1f9ac6cd7b8166",
     "locked": true,
     "schema_version": 3,
     "solution": false
    }
   },
   "source": [
    "Problem 1 of quiz 4, STATS102 Fall 2022 Session 1, Duke Kunshan University, Aug 30th (not counted towards the final grade)\n",
    "![](dku.jpg)\n",
    "For this problem set, we'll be using the Jupyter notebook:\n",
    "![](jupyter.png) "
   ]
  },
  {
   "cell_type": "markdown",
   "metadata": {
    "deletable": false,
    "editable": false,
    "nbgrader": {
     "cell_type": "markdown",
     "checksum": "20aaa8c2fc83cfcad010d2cb47cc9b54",
     "grade": false,
     "grade_id": "cell-5449c5dd23252508",
     "locked": true,
     "schema_version": 3,
     "solution": false
    }
   },
   "source": [
    "Write a function to perform regular expression on the input string and return the converted float number that denotes the number right after the $ sign"
   ]
  },
  {
   "cell_type": "code",
   "execution_count": 15,
   "metadata": {
    "deletable": false,
    "nbgrader": {
     "cell_type": "code",
     "checksum": "a9c1b66811a708013b1e57b87498ccb6",
     "grade": false,
     "grade_id": "strictly_ascending_list",
     "locked": false,
     "schema_version": 3,
     "solution": true
    }
   },
   "outputs": [],
   "source": [
    "import re\n",
    "def myfunction(input_string):\n",
    "    # YOUR CODE HERE\n",
    "    a=re.findall('\\$(-*\\d+\\.*\\d*)\\D',input_string)\n",
    "    return float(a[0])"
   ]
  },
  {
   "cell_type": "code",
   "execution_count": 16,
   "metadata": {
    "deletable": false,
    "editable": false,
    "nbgrader": {
     "cell_type": "code",
     "checksum": "57548574823aa60df3e3e3358bd7a26b",
     "grade": true,
     "grade_id": "strictly_ascending_list1",
     "locked": true,
     "points": 0.5,
     "schema_version": 3,
     "solution": false
    }
   },
   "outputs": [],
   "source": [
    "a='./FER2013Test/fer0032220.png $7 0 [-0.23853336, -1.2332222, -1.2634475]'\n",
    "b='./FER2013Test/fer0032223.png 0 0 [0.46080494, $-0.63641989, -0.29608598]'\n",
    "c='./FER2013Test/fer0032223.png 0 $0 [0.46080494, -0.63641989, -0.29608598]'\n",
    "d='./FER2013Test/fer0032222.png 3 0 [$-0.56577992, -1.3372835, 0.04990942]'\n",
    "e='./FER2013Test/fer0032227.png 1 1 [0.0084493794, 0.36375782, $1.2771677]'\n",
    "\n",
    "assert myfunction(a)==7.0\n",
    "assert myfunction(b)==-0.63641989\n",
    "assert myfunction(c)==0.0\n",
    "assert myfunction(d)==-0.56577992\n",
    "assert myfunction(e)==1.2771677"
   ]
  }
 ],
 "metadata": {
  "kernelspec": {
   "display_name": "Python 3",
   "language": "python",
   "name": "python3"
  },
  "language_info": {
   "codemirror_mode": {
    "name": "ipython",
    "version": 3
   },
   "file_extension": ".py",
   "mimetype": "text/x-python",
   "name": "python",
   "nbconvert_exporter": "python",
   "pygments_lexer": "ipython3",
   "version": "3.6.9"
  }
 },
 "nbformat": 4,
 "nbformat_minor": 2
}
