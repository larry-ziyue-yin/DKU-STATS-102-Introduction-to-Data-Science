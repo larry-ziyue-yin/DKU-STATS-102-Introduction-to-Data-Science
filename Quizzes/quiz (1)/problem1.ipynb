{
 "cells": [
  {
   "cell_type": "markdown",
   "metadata": {},
   "source": [
    "Before you turn this problem in, make sure everything runs as expected. First, **restart the kernel** (in the menubar, select Kernel$\\rightarrow$Restart) and then **run all cells** (in the menubar, select Cell$\\rightarrow$Run All).\n",
    "\n",
    "Make sure you fill in any place that says `YOUR CODE HERE` or \"YOUR ANSWER HERE\", as well as your name and collaborators below:"
   ]
  },
  {
   "cell_type": "code",
   "execution_count": null,
   "metadata": {},
   "outputs": [],
   "source": [
    "NAME = \"Ziyue Yin\"\n",
    "COLLABORATORS = \"\""
   ]
  },
  {
   "cell_type": "markdown",
   "metadata": {},
   "source": [
    "---"
   ]
  },
  {
   "cell_type": "markdown",
   "metadata": {
    "deletable": false,
    "editable": false,
    "nbgrader": {
     "cell_type": "markdown",
     "checksum": "88fa4418017a3dcd7209cde7e0096add",
     "grade": false,
     "grade_id": "cell-9f1f9ac6cd7b8166",
     "locked": true,
     "schema_version": 3,
     "solution": false
    }
   },
   "source": [
    "Problem 1 of quiz 1 (free exercise, not counted towards to the final grade), STATS102 Fall 2022 Session 1, Duke Kunshan University, Aug 25th\n",
    "![](dku.jpg)\n",
    "For this problem set, we'll be using the Jupyter notebook:\n",
    "![](jupyter.png) "
   ]
  },
  {
   "cell_type": "code",
   "execution_count": 15,
   "metadata": {
    "deletable": false,
    "nbgrader": {
     "cell_type": "code",
     "checksum": "7394ac488110b3821d0f2602918f0642",
     "grade": false,
     "grade_id": "calculate_myfactorial",
     "locked": false,
     "schema_version": 3,
     "solution": true
    }
   },
   "outputs": [],
   "source": [
    "def myfactorial(num):\n",
    "    '''Calculate the Factorial of the input num\n",
    "    the output is an int, the check part is already provided to you, please just focus on the calculation of the factorial\n",
    "    '''\n",
    "    if(type(num)!=int):\n",
    "        raise VauleError('input is not an integer')\n",
    "    if(num<=0):\n",
    "        raise VauleError('input is not an integer')\n",
    "    '''start your code here, num is a positive integer here'''\n",
    "    # YOUR CODE HERE\n",
    "    for i in range(1,num):\n",
    "        if num=1\n",
    "    '''end your code'''"
   ]
  },
  {
   "cell_type": "code",
   "execution_count": 18,
   "metadata": {
    "nbgrader": {
     "cell_type": "code",
     "checksum": "7394ac488110b3821d0f2602918f0642",
     "grade": false,
     "grade_id": "calculate_myfactorial",
     "locked": false,
     "schema_version": 3,
     "solution": true
    }
   },
   "outputs": [],
   "source": [
    "def myfactorial(num):\n",
    "    '''Calculate the Factorial of the input num\n",
    "    the output is an int, the check part is already provided to you, please just focus on the calculation of the factorial\n",
    "    '''\n",
    "    if(type(num)!=int):\n",
    "        raise VauleError('input is not an integer')\n",
    "    if(num<=0):\n",
    "        raise VauleError('input is not an integer')\n",
    "    '''start your code here, num is a positive integer here'''\n",
    "    # YOUR CODE HERE\n",
    "    fac=1\n",
    "    while num>1:\n",
    "        fac=fac*num\n",
    "        num=num-1\n",
    "        \n",
    "    '''end your code'''"
   ]
  },
  {
   "cell_type": "code",
   "execution_count": 16,
   "metadata": {},
   "outputs": [
    {
     "data": {
      "text/plain": [
       "range(1, 9)"
      ]
     },
     "execution_count": 16,
     "metadata": {},
     "output_type": "execute_result"
    }
   ],
   "source": [
    "range(1,9)"
   ]
  },
  {
   "cell_type": "code",
   "execution_count": null,
   "metadata": {
    "deletable": false,
    "editable": false,
    "nbgrader": {
     "cell_type": "code",
     "checksum": "ebb831c31df7996861289fa7ead9ad62",
     "grade": true,
     "grade_id": "myfactorial_correct_input",
     "locked": true,
     "points": 0.5,
     "schema_version": 3,
     "solution": false
    }
   },
   "outputs": [],
   "source": [
    "\"\"\"Check that calculate_income function returns the correct output for several inputs\"\"\"\n",
    "assert myfactorial(7) == 5040\n",
    "assert myfactorial(9) == 362880"
   ]
  }
 ],
 "metadata": {
  "kernelspec": {
   "display_name": "Python 3",
   "language": "python",
   "name": "python3"
  },
  "language_info": {
   "codemirror_mode": {
    "name": "ipython",
    "version": 3
   },
   "file_extension": ".py",
   "mimetype": "text/x-python",
   "name": "python",
   "nbconvert_exporter": "python",
   "pygments_lexer": "ipython3",
   "version": "3.6.9"
  }
 },
 "nbformat": 4,
 "nbformat_minor": 2
}
