{
 "cells": [
  {
   "cell_type": "markdown",
   "metadata": {},
   "source": [
    "Before you turn this problem in, make sure everything runs as expected. First, **restart the kernel** (in the menubar, select Kernel$\\rightarrow$Restart) and then **run all cells** (in the menubar, select Cell$\\rightarrow$Run All).\n",
    "\n",
    "Make sure you fill in any place that says `YOUR CODE HERE` or \"YOUR ANSWER HERE\", as well as your name and collaborators below:"
   ]
  },
  {
   "cell_type": "code",
   "execution_count": null,
   "metadata": {},
   "outputs": [],
   "source": [
    "NAME = \"Ziyue Yin\"\n",
    "COLLABORATORS = \"\""
   ]
  },
  {
   "cell_type": "markdown",
   "metadata": {},
   "source": [
    "---"
   ]
  },
  {
   "cell_type": "markdown",
   "metadata": {
    "deletable": false,
    "editable": false,
    "nbgrader": {
     "cell_type": "markdown",
     "checksum": "cd957103b67b02866450db695977f3d4",
     "grade": false,
     "grade_id": "cell-9f1f9ac6cd7b8166",
     "locked": true,
     "schema_version": 3,
     "solution": false
    }
   },
   "source": [
    "Mid-term, STATS102 Fall Session 1, Duke Kunshan University, Feb 19th 8pm-10pm beijing time\n",
    "![](dku.jpg)\n",
    "For this problem set, we'll be using the Jupyter notebook:\n",
    "![](jupyter.png) "
   ]
  },
  {
   "cell_type": "markdown",
   "metadata": {},
   "source": [
    "# for autograding questions, there is no partial grades if the auto-testing (assertion) is failed. TA will manually look at each solution, so please do not abuse the auto-grading system, e.g. return ['what', 'who', 'when'] for Problem 4"
   ]
  },
  {
   "cell_type": "markdown",
   "metadata": {
    "deletable": false,
    "editable": false,
    "nbgrader": {
     "cell_type": "markdown",
     "checksum": "d9ebe0c41fcf66097fc9942ad53e52c8",
     "grade": false,
     "grade_id": "cell-fa319a620540d237",
     "locked": true,
     "schema_version": 3,
     "solution": false,
     "task": false
    }
   },
   "source": [
    "# Problem 1: (12 points)\n",
    "Implement your own function to find the median of an integer list. (you need to implement the median function by yourself, using existing median function is not allowed)\n",
    "\n",
    "\n",
    "The median is the middle number in a sorted, ascending or descending, list of numbers and can be more descriptive of that data set than the average. If there is an odd amount of numbers, the median value is the number that is in the middle, with the same amount of numbers below and above.\n",
    "If there is an even amount of numbers in the list, the middle pair must be determined, added together, and divided by two to find the median value."
   ]
  },
  {
   "cell_type": "code",
   "execution_count": 164,
   "metadata": {
    "deletable": false,
    "nbgrader": {
     "cell_type": "code",
     "checksum": "eba641e1231909bea3f1f876204703c1",
     "grade": false,
     "grade_id": "myMedian",
     "locked": false,
     "schema_version": 3,
     "solution": true
    }
   },
   "outputs": [],
   "source": [
    "def myMedian(int_list):\n",
    "    \"\"\"\n",
    "    :input  type int_list: List[int]\n",
    "    :return type: float\n",
    "    \"\"\"\n",
    "    # YOUR CODE HERE\n",
    "    if len(int_list)%2==0:\n",
    "        a=sorted(int_list)\n",
    "        half_length=len(int_list)//2\n",
    "        return (a[half_length-1]+a[half_length])/2\n",
    "    else:\n",
    "        a=sorted(int_list)\n",
    "        return a[len(int_list)//2]"
   ]
  },
  {
   "cell_type": "code",
   "execution_count": 165,
   "metadata": {
    "deletable": false,
    "editable": false,
    "nbgrader": {
     "cell_type": "code",
     "checksum": "57fe81550e67023fbae7bc9c8b0b7670",
     "grade": true,
     "grade_id": "myMedian_test",
     "locked": true,
     "points": 12,
     "schema_version": 3,
     "solution": false
    }
   },
   "outputs": [],
   "source": [
    "assert myMedian([1,2,3,4]) == 2.5\n",
    "assert myMedian([9,7,8]) == 8\n",
    "assert myMedian([10]) == 10\n",
    "assert myMedian([-1,2,-3,4]) == 0.5\n",
    "#no hidden test here"
   ]
  },
  {
   "cell_type": "markdown",
   "metadata": {
    "deletable": false,
    "editable": false,
    "nbgrader": {
     "cell_type": "markdown",
     "checksum": "0a428a9549e18f9e96d52e5857e18810",
     "grade": false,
     "grade_id": "cell-3ece20b67d2aff63",
     "locked": true,
     "schema_version": 3,
     "solution": false,
     "task": false
    }
   },
   "source": [
    "# Problem 2:  (13 points)\n",
    "Given a list of characters letters containing only lowercase letters and a target letter, write a function to find the smallest element in the list that is larger than the given target. if there is no element in the list that is larger than the given target, return None\n"
   ]
  },
  {
   "cell_type": "code",
   "execution_count": 38,
   "metadata": {
    "deletable": false,
    "nbgrader": {
     "cell_type": "code",
     "checksum": "eab1328ff907d65ade4a13f8d2b6c2cb",
     "grade": false,
     "grade_id": "cell-5ed38e5f0a8a8433",
     "locked": false,
     "schema_version": 3,
     "solution": true,
     "task": false
    }
   },
   "outputs": [],
   "source": [
    "def findLetter(letters, target):\n",
    "    \"\"\"\n",
    "    :type letters: List[str]\n",
    "    :type target: str\n",
    "    :rtype: str or None\n",
    "    \"\"\"\n",
    "    # YOUR CODE HERE\n",
    "    m=[]\n",
    "    for i in letters:\n",
    "        if i > target:\n",
    "            m.append(i)\n",
    "        else:\n",
    "            continue\n",
    "    n=sorted(m)\n",
    "    if len(n)==0:\n",
    "        return None\n",
    "    else:\n",
    "        return n[0]"
   ]
  },
  {
   "cell_type": "code",
   "execution_count": 39,
   "metadata": {
    "deletable": false,
    "editable": false,
    "nbgrader": {
     "cell_type": "code",
     "checksum": "40d0e33664449f279e086ceff3ea0b3a",
     "grade": true,
     "grade_id": "cell-943322dfb58d72d3",
     "locked": true,
     "points": 13,
     "schema_version": 3,
     "solution": false,
     "task": false
    }
   },
   "outputs": [],
   "source": [
    "'''this findLetter function should pass the following tests'''\n",
    "assert (findLetter(['a', 'b', 'c', 'd'],'a')=='b')\n",
    "assert (findLetter(['g','i','h'],'j')==None)\n",
    "assert (findLetter(['c','c','p','o'],'c')=='o')\n",
    "assert (findLetter(['d','c','f','k','g'],'a')=='c')\n",
    "assert(findLetter( ['c', 'e', 'd'],'g')==None)\n",
    "#no hidden test here"
   ]
  },
  {
   "cell_type": "markdown",
   "metadata": {
    "deletable": false,
    "editable": false,
    "nbgrader": {
     "cell_type": "markdown",
     "checksum": "1f5396d54b530ffd9d0df9824d8efbfd",
     "grade": false,
     "grade_id": "cell-87eb4c7406dff78f",
     "locked": true,
     "schema_version": 3,
     "solution": false,
     "task": false
    }
   },
   "source": [
    "# Problem 3:  (15 points)\n",
    "Write a program to calculate the square of Euclidean distance between two RGB colors:\n",
    "\n",
    "$$distance^2=(R_2-R_1)^2 + (G_2-G_1)^2 + (B_2-B_1)^2$$\n",
    "  \n",
    "where both R, G and B values are integer numbers between 0-255 (closed interval [0,255]).\n",
    "\n",
    "Make sure it handles the case where R, G and B values are not in 0-255 by raising a `ValueError`."
   ]
  },
  {
   "cell_type": "code",
   "execution_count": 201,
   "metadata": {
    "deletable": false,
    "nbgrader": {
     "cell_type": "code",
     "checksum": "f81769afcbde829688ee5e582d3e77a4",
     "grade": false,
     "grade_id": "cell-d1b57c91046ae247",
     "locked": false,
     "schema_version": 3,
     "solution": true,
     "task": false
    }
   },
   "outputs": [],
   "source": [
    "def distance_square(R1, G1, B1, R2, G2, B2):\n",
    "    \"\"\"Calculate the square of Euclidean distance between two RGB colors.\n",
    "    \"\"\"   \n",
    "    # YOUR CODE HERE\n",
    "    if (R1<0 or R1>255):\n",
    "        raise ValueError\n",
    "    elif (R2<0 or R2>255):\n",
    "        raise ValueError\n",
    "    elif (G1<0 or G1 >255):\n",
    "        raise ValueError\n",
    "    elif (G2<0 or G2 >255):\n",
    "        raise ValueError\n",
    "    elif (B1<0 or B1 >255):\n",
    "        raise ValueError\n",
    "    elif (B2<0 or B2 >255):\n",
    "        raise ValueError\n",
    "    else:\n",
    "        return (R2-R1)**2+(G2-G1)**2+(B2-B1)**2"
   ]
  },
  {
   "cell_type": "code",
   "execution_count": 202,
   "metadata": {
    "deletable": false,
    "editable": false,
    "nbgrader": {
     "cell_type": "code",
     "checksum": "3c51c605c8bd9227b8a5f1544f5f260b",
     "grade": true,
     "grade_id": "cell-c9ec8ff72d658591",
     "locked": true,
     "points": 5,
     "schema_version": 3,
     "solution": false,
     "task": false
    }
   },
   "outputs": [],
   "source": [
    "\"\"\"Check that distance returns the correct output for several inputs\"\"\"\n",
    "# for valid testing intputs, 5 points\n",
    "assert distance_square(0,128,0,255,0,0) == 81409\n",
    "assert distance_square(128,0,128,0,0,255) == 32513\n",
    "#no hidden test here"
   ]
  },
  {
   "cell_type": "code",
   "execution_count": 203,
   "metadata": {
    "deletable": false,
    "editable": false,
    "nbgrader": {
     "cell_type": "code",
     "checksum": "1f485e1f07433e702936c49d6350679c",
     "grade": true,
     "grade_id": "cell-564c152a3b0c8f3b",
     "locked": true,
     "points": 10,
     "schema_version": 3,
     "solution": false,
     "task": false
    }
   },
   "outputs": [],
   "source": [
    "\"\"\"Check that distance raises an error for invalid inputs\"\"\"\n",
    "# for invalid testing intputs, 10 points\n",
    "try:\n",
    "    distance_square(-1,1,2,3,4,6)\n",
    "except ValueError:\n",
    "    pass\n",
    "else:\n",
    "    raise AssertionError(\"Error input\")\n",
    "\n",
    "try:\n",
    "    distance_square(0,1,2,3,4,256)\n",
    "except ValueError:\n",
    "    pass\n",
    "else:\n",
    "    raise AssertionError(\"Error input\")\n",
    "#no hidden test here"
   ]
  },
  {
   "cell_type": "markdown",
   "metadata": {
    "deletable": false,
    "editable": false,
    "nbgrader": {
     "cell_type": "markdown",
     "checksum": "6c3b14ba3377be485bc2cc0640cf3304",
     "grade": false,
     "grade_id": "cell-bae57055a0e2a664",
     "locked": true,
     "schema_version": 3,
     "solution": false,
     "task": false
    }
   },
   "source": [
    "# Problem 4: (15 points)\n",
    "\n",
    "In the file `questions.txt`, there are 9095 questions from the Stanford Question Answering Dataset, whose question words are in the list `['what', 'who', 'when', 'where', 'how', 'how_many', 'how_much', 'how_old']`. \n",
    "\n",
    "Now, please write a program to calculate the frequency of each question word and output a list containing the top 3 question words with high frequency in the occurance decending order.\n",
    "\n",
    "Notice: For question like \"How old are you?\", we consider its question word is \"how_old\" rather than \"how\"."
   ]
  },
  {
   "cell_type": "code",
   "execution_count": 4,
   "metadata": {
    "deletable": false,
    "nbgrader": {
     "cell_type": "code",
     "checksum": "a74cf4661e59dbbd1a14c25728dce8ce",
     "grade": false,
     "grade_id": "cell-b413f6f29108a8f0",
     "locked": false,
     "schema_version": 3,
     "solution": true,
     "task": false
    }
   },
   "outputs": [],
   "source": [
    "def sort_list_question_words():\n",
    "    '''output a list of strs'''\n",
    "    question_words = ['what', 'who', 'when', 'where', 'how', 'how_many', 'how_much', 'how_old']\n",
    "    handle = open('questions.txt', 'r', encoding='UTF-8')\n",
    "    #for line in handle:\n",
    "\n",
    "    # YOUR CODE HERE\n",
    "    words=[]\n",
    "    for line in handle:\n",
    "        if line.startswith('What') :\n",
    "            words.append('what')\n",
    "        if line.startswith('Who') :\n",
    "            words.append('who')\n",
    "        if line.startswith('When') :\n",
    "            words.append('when')\n",
    "        if line.startswith('Where') :\n",
    "            words.append('where')\n",
    "        if line.startswith('How') :\n",
    "            t=line.split(' ')\n",
    "            if t[1]=='many':\n",
    "                words.append('how_many')\n",
    "            elif t[1]=='much':\n",
    "                words.append('how_much')\n",
    "            elif t[1]=='old':\n",
    "                words.append('how_old')\n",
    "            else:\n",
    "                words.append('how')\n",
    "    counts = dict()\n",
    "    question_words = ['what', 'who', 'when', 'where', 'how', 'how_many', 'how_much', 'how_old']\n",
    "    for word in words :\n",
    "        if word not in counts: \n",
    "            counts[word] = 1\n",
    "        else :\n",
    "            counts[word] = counts[word] + 1\n",
    "    #print(counts)\n",
    "    #counts.items()\n",
    "    alist=[]\n",
    "    for i in [0,1,2]:\n",
    "        alist.append(sorted(counts.items(),key=lambda x: x[1])[i][0])\n",
    "    return alist"
   ]
  },
  {
   "cell_type": "code",
   "execution_count": 5,
   "metadata": {},
   "outputs": [
    {
     "name": "stdout",
     "output_type": "stream",
     "text": [
      "['how_old', 'how_much', 'where']\n"
     ]
    }
   ],
   "source": [
    "'''output a list of strs'''\n",
    "question_words = ['what', 'who', 'when', 'where', 'how', 'how_many', 'how_much', 'how_old']\n",
    "handle = open('questions.txt', 'r', encoding='UTF-8')\n",
    "#for line in handle:\n",
    "\n",
    "# YOUR CODE HERE\n",
    "words=[]\n",
    "for line in handle:\n",
    "    if line.startswith('What') :\n",
    "        words.append('what')\n",
    "    if line.startswith('Who') :\n",
    "        words.append('who')\n",
    "    if line.startswith('When') :\n",
    "        words.append('when')\n",
    "    if line.startswith('Where') :\n",
    "        words.append('where')\n",
    "    if line.startswith('How') :\n",
    "        t=line.split(' ')\n",
    "        if t[1]=='many':\n",
    "            words.append('how_many')\n",
    "        elif t[1]=='much':\n",
    "            words.append('how_much')\n",
    "        elif t[1]=='old':\n",
    "            words.append('how_old')\n",
    "        else:\n",
    "            words.append('how')\n",
    "counts = dict()\n",
    "question_words = ['what', 'who', 'when', 'where', 'how', 'how_many', 'how_much', 'how_old']\n",
    "for word in words :\n",
    "    if word not in counts: \n",
    "        counts[word] = 1\n",
    "    else :\n",
    "        counts[word] = counts[word] + 1\n",
    "#print(counts)\n",
    "#counts.items()\n",
    "alist=[]\n",
    "for i in [0,1,2]:\n",
    "    alist.append(sorted(counts.items(),key=lambda x: x[1])[i][0])\n",
    "print (alist)"
   ]
  },
  {
   "cell_type": "code",
   "execution_count": 6,
   "metadata": {},
   "outputs": [
    {
     "ename": "AssertionError",
     "evalue": "",
     "output_type": "error",
     "traceback": [
      "\u001b[0;31m---------------------------------------------------------------------------\u001b[0m",
      "\u001b[0;31mAssertionError\u001b[0m                            Traceback (most recent call last)",
      "\u001b[0;32m<ipython-input-6-97c1a58f618b>\u001b[0m in \u001b[0;36m<module>\u001b[0;34m\u001b[0m\n\u001b[0;32m----> 1\u001b[0;31m \u001b[0;32massert\u001b[0m \u001b[0msort_list_question_words\u001b[0m\u001b[0;34m(\u001b[0m\u001b[0;34m)\u001b[0m\u001b[0;34m==\u001b[0m\u001b[0;34m[\u001b[0m\u001b[0;34m'what'\u001b[0m\u001b[0;34m,\u001b[0m \u001b[0;34m'who'\u001b[0m\u001b[0;34m,\u001b[0m \u001b[0;34m'when'\u001b[0m\u001b[0;34m]\u001b[0m\u001b[0;34m\u001b[0m\u001b[0;34m\u001b[0m\u001b[0m\n\u001b[0m",
      "\u001b[0;31mAssertionError\u001b[0m: "
     ]
    }
   ],
   "source": [
    "assert sort_list_question_words()==['what', 'who', 'when']"
   ]
  },
  {
   "cell_type": "code",
   "execution_count": null,
   "metadata": {
    "deletable": false,
    "editable": false,
    "nbgrader": {
     "cell_type": "code",
     "checksum": "e6e0746930781d0a40d0ca22efb1a573",
     "grade": true,
     "grade_id": "cell-4610db83f2fa2344",
     "locked": true,
     "points": 15,
     "schema_version": 3,
     "solution": false,
     "task": false
    }
   },
   "outputs": [],
   "source": [
    "#hidden test here (you need to return a python list with three strings, the answer is not shown to you)\n"
   ]
  },
  {
   "cell_type": "markdown",
   "metadata": {
    "deletable": false,
    "editable": false,
    "nbgrader": {
     "cell_type": "markdown",
     "checksum": "1dd7f4f5066ea0d39a7f5e3ecc28b168",
     "grade": false,
     "grade_id": "cell-ef20de6ec255a1a4",
     "locked": true,
     "schema_version": 3,
     "solution": false,
     "task": false
    }
   },
   "source": [
    "# Problem 5: (10 points)\n",
    "\n",
    "For an input scalar variable x and positive integer N, use numpy to calculate and return \\\\( \\Sigma_{n=0}^{N}\\frac{x^{n}}{n!}\\\\), we will compare the results with \\\\(e^{x}\\\\) according to different N. \n",
    "\n"
   ]
  },
  {
   "cell_type": "code",
   "execution_count": 78,
   "metadata": {
    "deletable": false,
    "nbgrader": {
     "cell_type": "code",
     "checksum": "d012bcbdfc894dc1cf738e310245dcd5",
     "grade": false,
     "grade_id": "cell-b847b4cb8448fda8",
     "locked": false,
     "schema_version": 3,
     "solution": true,
     "task": false
    }
   },
   "outputs": [],
   "source": [
    "import numpy as np\n",
    "\n",
    "def myfunction(x, N):\n",
    "    # YOUR CODE HERE\n",
    "    k=np.arange(0,N+1)\n",
    "    n=0\n",
    "    for k in range(0,N+1):\n",
    "        m=x**k/np.math.factorial(k)\n",
    "        n=n+m\n",
    "    return n"
   ]
  },
  {
   "cell_type": "code",
   "execution_count": 79,
   "metadata": {
    "deletable": false,
    "editable": false,
    "nbgrader": {
     "cell_type": "code",
     "checksum": "152d52185de24cdc06da6e89e4ce9710",
     "grade": true,
     "grade_id": "cell-1e2cf9a87af56dc9",
     "locked": true,
     "points": 10,
     "schema_version": 3,
     "solution": false,
     "task": false
    }
   },
   "outputs": [],
   "source": [
    "import numpy as np\n",
    "\n",
    "assert np.abs(myfunction(1,10)-np.exp(1))<0.02*np.exp(1)\n",
    "assert np.abs(myfunction(0.5,10) -np.exp(0.5))<0.02*np.exp(0.5)\n",
    "assert np.abs(myfunction(5,20)-np.exp(5))<0.02*np.exp(5)\n",
    "#no hidden test here"
   ]
  },
  {
   "cell_type": "markdown",
   "metadata": {
    "deletable": false,
    "editable": false,
    "nbgrader": {
     "cell_type": "markdown",
     "checksum": "718e5f18153b3366622d9b1ba3a1fb81",
     "grade": false,
     "grade_id": "cell-91891bdc8fd58929",
     "locked": true,
     "schema_version": 3,
     "solution": false,
     "task": false
    }
   },
   "source": [
    "# Problem 6: (15 points)\n",
    "Find the product of the maximum and minimum integer numbers occuring in `regex_sum_320982.txt` and `regex_sum_42.txt`.\n",
    "\n",
    "the integer number may be negative\n"
   ]
  },
  {
   "cell_type": "code",
   "execution_count": 7,
   "metadata": {
    "deletable": false,
    "nbgrader": {
     "cell_type": "code",
     "checksum": "6db74261924c2cd1687d6cabcfd4d507",
     "grade": false,
     "grade_id": "cell-c49a97195af86cda",
     "locked": false,
     "schema_version": 3,
     "solution": true,
     "task": false
    }
   },
   "outputs": [],
   "source": [
    "import re\n",
    "\n",
    "def find_product(file):\n",
    "    # YOUR CODE HERE\n",
    "   # if file=='regex_sum_320982.txt':\n",
    "    fhand1=open(file, 'r', encoding='UTF-8')\n",
    "    list1=[]\n",
    "    for line in fhand1:\n",
    "        number=re.findall('([-a]*\\d+)',line)\n",
    "        if number==[]:\n",
    "            continue\n",
    "        else:\n",
    "            list1=list1+number\n",
    "    list1=list(map(int,list1))\n",
    "    list1=sorted(list1)\n",
    "    return list1[0]*list1[::-1][0]\n",
    "    \n",
    "  #  elif file=='regex_sum_42.txt':\n",
    "#        fhand2=open('regex_sum_42.txt', 'r', encoding='UTF-8')\n",
    "#        list2=[]\n",
    "#        for line in fhand2:\n",
    "#            number=re.findall('([-a]*\\d+)',line)\n",
    "#            if number==[]:\n",
    "#                continue\n",
    "#            else:\n",
    "#                list2=list2+number\n",
    "#        list2=list(map(int,list2))\n",
    "#        list2=sorted(list2)\n",
    "#    return list2[0]*list2[::-1][0]"
   ]
  },
  {
   "cell_type": "code",
   "execution_count": 8,
   "metadata": {},
   "outputs": [],
   "source": [
    "assert find_product('regex_sum_42.txt') == -313440\n",
    "assert find_product('regex_sum_320982.txt') == -415548\n"
   ]
  },
  {
   "cell_type": "code",
   "execution_count": null,
   "metadata": {
    "deletable": false,
    "editable": false,
    "nbgrader": {
     "cell_type": "code",
     "checksum": "3d10140b73fefcbd9732630d2264f01f",
     "grade": true,
     "grade_id": "cell-e2316df645b4435b",
     "locked": true,
     "points": 15,
     "schema_version": 3,
     "solution": false,
     "task": false
    }
   },
   "outputs": [],
   "source": [
    "#hidden test here\n"
   ]
  },
  {
   "cell_type": "markdown",
   "metadata": {},
   "source": [
    "# Problem 7: (10 points)\n",
    "given one dataframe as follows:\n",
    "\n",
    "full_monte = pd.DataFrame(data=['Graham Chapman', 'John Cleese', 'Terry Gilliam'],columns=['Name'])\n",
    "\n",
    "![](72.png)\n",
    "\n",
    "please return one new dataframe that has an additioal column of last name, calculated from the Name column as follows\n",
    "\n",
    "![](71.png)"
   ]
  },
  {
   "cell_type": "code",
   "execution_count": 146,
   "metadata": {
    "deletable": false,
    "nbgrader": {
     "cell_type": "code",
     "checksum": "895c3a3ed59f0abeb15475fae34de714",
     "grade": false,
     "grade_id": "cell-18d02e30d1f76a70",
     "locked": false,
     "schema_version": 3,
     "solution": true,
     "task": false
    }
   },
   "outputs": [],
   "source": [
    "import numpy as np\n",
    "import pandas as pd\n",
    "def myfunction():\n",
    "    full_monte = pd.DataFrame(data=['Graham Chapman', 'John Cleese', 'Terry Gilliam'],columns=['Name'])\n",
    "    # YOUR CODE HERE\n",
    "    alist=[]\n",
    "    for i in range(len(full_monte)):\n",
    "        last=full_monte[\"Name\"][i].split(' ')[::-1][0]\n",
    "        alist.append(last)\n",
    "    full_monte[\"Last Name\"]=alist\n",
    "    return full_monte"
   ]
  },
  {
   "cell_type": "code",
   "execution_count": 147,
   "metadata": {
    "deletable": false,
    "editable": false,
    "nbgrader": {
     "cell_type": "code",
     "checksum": "a8bd3c295e53fe157797e8ff9c0bf3e3",
     "grade": true,
     "grade_id": "cell-14f5cfc9c7cdd63e",
     "locked": true,
     "points": 10,
     "schema_version": 3,
     "solution": false,
     "task": false
    }
   },
   "outputs": [],
   "source": [
    "import numpy as np\n",
    "import pandas as pd\n",
    "full_monte2=myfunction()\n",
    "assert full_monte2['Last Name'].iloc[0]=='Chapman'\n",
    "assert full_monte2['Last Name'].iloc[1]=='Cleese'\n",
    "assert full_monte2['Last Name'].iloc[2]=='Gilliam'\n",
    "#no hidden test here"
   ]
  },
  {
   "cell_type": "markdown",
   "metadata": {
    "deletable": false,
    "editable": false,
    "nbgrader": {
     "cell_type": "markdown",
     "checksum": "41cf7038c9049ed2abd08aff1e9a94db",
     "grade": false,
     "grade_id": "cell-0ebc17d74dc4e6ec",
     "locked": true,
     "schema_version": 3,
     "solution": false,
     "task": false
    }
   },
   "source": [
    "# Problem 8 (10 point)\n",
    "\n",
    "Write a program to determine which day of the year. \n",
    "\n",
    "Input: the date of the year, with the format `year-month-day`, e.g. `2018-9-4`.\n",
    "\n",
    "Output: which day of the year.\n",
    "\n",
    "\n",
    "\n",
    "Hint:\n",
    "2 criteria must be taken into account to identify leap years:\n",
    "1. The year is evenly divisible by 4, and can NOT be evenly divided by 100;\n",
    "2. The year is evenly divisible by 400."
   ]
  },
  {
   "cell_type": "code",
   "execution_count": 193,
   "metadata": {
    "deletable": false,
    "nbgrader": {
     "cell_type": "code",
     "checksum": "079b21a7b66788de0114dd594d44ea1f",
     "grade": false,
     "grade_id": "cell-d786e1ebf0fe1058",
     "locked": false,
     "schema_version": 3,
     "solution": true,
     "task": false
    }
   },
   "outputs": [],
   "source": [
    "def dayOfYear(date):\n",
    "    # YOUR CODE HERE\n",
    "    year=int(re.findall('(\\d+)[a-]',date)[0])\n",
    "    month=int(re.findall('[a-](\\d+)[a-]',date)[0])\n",
    "    day=int(re.findall('[a-](\\d+)',date)[-1])\n",
    "    if (year%4==0 and year%100!=0):\n",
    "        if month>2:\n",
    "            if month%2!=0:\n",
    "                days=(month-1)//2*31+(month-1)//2*30-1+day\n",
    "            else:\n",
    "                days=month//2*31+(month//2-1)*30-1+day\n",
    "        if month==2:\n",
    "            days=31+day\n",
    "        if month==1:\n",
    "            days=day\n",
    "    elif (year%400==0):\n",
    "        if month>2:\n",
    "            if month%2!=0:\n",
    "                days=(month-1)//2*31+(month-1)//2*30-1+day\n",
    "            else:\n",
    "                days=month//2*31+(month//2-1)*30-1+day\n",
    "        if month==2:\n",
    "            days=31+day\n",
    "        if month==1:\n",
    "            days=day\n",
    "    else:\n",
    "        if month>2:\n",
    "            if month%2!=0:\n",
    "                days=(month-1)//2*31+(month-1)//2*30-2+day\n",
    "            else:\n",
    "                days=month//2*31+(month//2-1)*30-2+day\n",
    "        if month==2:\n",
    "            days=31+day\n",
    "        if month==1:\n",
    "            days=day\n",
    "    return days"
   ]
  },
  {
   "cell_type": "code",
   "execution_count": 196,
   "metadata": {
    "deletable": false,
    "editable": false,
    "nbgrader": {
     "cell_type": "code",
     "checksum": "6a08fe40e6c52ef80cfb1f79f20a01e7",
     "grade": true,
     "grade_id": "cell-fa2968e3acd0be8d",
     "locked": true,
     "points": 5,
     "schema_version": 3,
     "solution": false,
     "task": false
    }
   },
   "outputs": [],
   "source": [
    "assert dayOfYear('2012-10-1') == 275\n",
    "assert dayOfYear('2000-1-1') == 1\n",
    "assert dayOfYear('1900-2-28') == 59\n",
    "assert dayOfYear('1900-3-1') == 60\n",
    "assert dayOfYear('1904-3-1') == 61\n",
    "assert dayOfYear('2012-10-11') == 285"
   ]
  },
  {
   "cell_type": "code",
   "execution_count": 197,
   "metadata": {
    "deletable": false,
    "editable": false,
    "nbgrader": {
     "cell_type": "code",
     "checksum": "d726158e706a8a0cdfea94b6e402424b",
     "grade": true,
     "grade_id": "cell-0f40e390ff2f85ad",
     "locked": true,
     "points": 5,
     "schema_version": 3,
     "solution": false,
     "task": false
    }
   },
   "outputs": [
    {
     "ename": "IndexError",
     "evalue": "list index out of range",
     "output_type": "error",
     "traceback": [
      "\u001b[0;31m---------------------------------------------------------------------------\u001b[0m",
      "\u001b[0;31mIndexError\u001b[0m                                Traceback (most recent call last)",
      "\u001b[0;32m<ipython-input-197-97b5be46dfbc>\u001b[0m in \u001b[0;36m<module>\u001b[0;34m\u001b[0m\n\u001b[1;32m      1\u001b[0m \u001b[0;32mtry\u001b[0m\u001b[0;34m:\u001b[0m\u001b[0;34m\u001b[0m\u001b[0;34m\u001b[0m\u001b[0m\n\u001b[0;32m----> 2\u001b[0;31m     \u001b[0mdayOfYear\u001b[0m\u001b[0;34m(\u001b[0m\u001b[0;34m'year-month-day'\u001b[0m\u001b[0;34m)\u001b[0m \u001b[0;31m# error input formate\u001b[0m\u001b[0;34m\u001b[0m\u001b[0;34m\u001b[0m\u001b[0m\n\u001b[0m\u001b[1;32m      3\u001b[0m     \u001b[0mdayOfYear\u001b[0m\u001b[0;34m(\u001b[0m\u001b[0;34m'2019_8_9'\u001b[0m\u001b[0;34m)\u001b[0m \u001b[0;31m# error input format\u001b[0m\u001b[0;34m\u001b[0m\u001b[0;34m\u001b[0m\u001b[0m\n\u001b[1;32m      4\u001b[0m     \u001b[0mdayOfYear\u001b[0m\u001b[0;34m(\u001b[0m\u001b[0;34m'2019-8'\u001b[0m\u001b[0;34m)\u001b[0m \u001b[0;31m# incompleted input\u001b[0m\u001b[0;34m\u001b[0m\u001b[0;34m\u001b[0m\u001b[0m\n\u001b[1;32m      5\u001b[0m     \u001b[0mdayOfYear\u001b[0m\u001b[0;34m(\u001b[0m\u001b[0;34m'2016-2-30'\u001b[0m\u001b[0;34m)\u001b[0m \u001b[0;31m# no 30 days in the Feb. of a leap year\u001b[0m\u001b[0;34m\u001b[0m\u001b[0;34m\u001b[0m\u001b[0m\n",
      "\u001b[0;32m<ipython-input-193-a12b169f134f>\u001b[0m in \u001b[0;36mdayOfYear\u001b[0;34m(date)\u001b[0m\n\u001b[1;32m      1\u001b[0m \u001b[0;32mdef\u001b[0m \u001b[0mdayOfYear\u001b[0m\u001b[0;34m(\u001b[0m\u001b[0mdate\u001b[0m\u001b[0;34m)\u001b[0m\u001b[0;34m:\u001b[0m\u001b[0;34m\u001b[0m\u001b[0;34m\u001b[0m\u001b[0m\n\u001b[1;32m      2\u001b[0m     \u001b[0;31m# YOUR CODE HERE\u001b[0m\u001b[0;34m\u001b[0m\u001b[0;34m\u001b[0m\u001b[0;34m\u001b[0m\u001b[0m\n\u001b[0;32m----> 3\u001b[0;31m     \u001b[0myear\u001b[0m\u001b[0;34m=\u001b[0m\u001b[0mint\u001b[0m\u001b[0;34m(\u001b[0m\u001b[0mre\u001b[0m\u001b[0;34m.\u001b[0m\u001b[0mfindall\u001b[0m\u001b[0;34m(\u001b[0m\u001b[0;34m'(\\d+)[a-]'\u001b[0m\u001b[0;34m,\u001b[0m\u001b[0mdate\u001b[0m\u001b[0;34m)\u001b[0m\u001b[0;34m[\u001b[0m\u001b[0;36m0\u001b[0m\u001b[0;34m]\u001b[0m\u001b[0;34m)\u001b[0m\u001b[0;34m\u001b[0m\u001b[0;34m\u001b[0m\u001b[0m\n\u001b[0m\u001b[1;32m      4\u001b[0m     \u001b[0mmonth\u001b[0m\u001b[0;34m=\u001b[0m\u001b[0mint\u001b[0m\u001b[0;34m(\u001b[0m\u001b[0mre\u001b[0m\u001b[0;34m.\u001b[0m\u001b[0mfindall\u001b[0m\u001b[0;34m(\u001b[0m\u001b[0;34m'[a-](\\d+)[a-]'\u001b[0m\u001b[0;34m,\u001b[0m\u001b[0mdate\u001b[0m\u001b[0;34m)\u001b[0m\u001b[0;34m[\u001b[0m\u001b[0;36m0\u001b[0m\u001b[0;34m]\u001b[0m\u001b[0;34m)\u001b[0m\u001b[0;34m\u001b[0m\u001b[0;34m\u001b[0m\u001b[0m\n\u001b[1;32m      5\u001b[0m     \u001b[0mday\u001b[0m\u001b[0;34m=\u001b[0m\u001b[0mint\u001b[0m\u001b[0;34m(\u001b[0m\u001b[0mre\u001b[0m\u001b[0;34m.\u001b[0m\u001b[0mfindall\u001b[0m\u001b[0;34m(\u001b[0m\u001b[0;34m'[a-](\\d+)'\u001b[0m\u001b[0;34m,\u001b[0m\u001b[0mdate\u001b[0m\u001b[0;34m)\u001b[0m\u001b[0;34m[\u001b[0m\u001b[0;34m-\u001b[0m\u001b[0;36m1\u001b[0m\u001b[0;34m]\u001b[0m\u001b[0;34m)\u001b[0m\u001b[0;34m\u001b[0m\u001b[0;34m\u001b[0m\u001b[0m\n",
      "\u001b[0;31mIndexError\u001b[0m: list index out of range"
     ]
    }
   ],
   "source": [
    "try:\n",
    "    dayOfYear('year-month-day') # error input formate\n",
    "    dayOfYear('2019_8_9') # error input format\n",
    "    dayOfYear('2019-8') # incompleted input\n",
    "    dayOfYear('2016-2-30') # no 30 days in the Feb. of a leap year\n",
    "    dayOfYear('2018-2-29') # no 29 days in the Feb. of a normal year\n",
    "    dayOfYear('2016-22-30') # no 22 months in a year\n",
    "    dayOfYear('2016-10-36') # no 36 days in a month\n",
    "except ValueError:\n",
    "    pass\n",
    "else:\n",
    "    raise AssertionError(\"Error input\")"
   ]
  },
  {
   "cell_type": "code",
   "execution_count": null,
   "metadata": {},
   "outputs": [],
   "source": []
  }
 ],
 "metadata": {
  "kernelspec": {
   "display_name": "Python 3",
   "language": "python",
   "name": "python3"
  },
  "language_info": {
   "codemirror_mode": {
    "name": "ipython",
    "version": 3
   },
   "file_extension": ".py",
   "mimetype": "text/x-python",
   "name": "python",
   "nbconvert_exporter": "python",
   "pygments_lexer": "ipython3",
   "version": "3.6.9"
  }
 },
 "nbformat": 4,
 "nbformat_minor": 2
}
