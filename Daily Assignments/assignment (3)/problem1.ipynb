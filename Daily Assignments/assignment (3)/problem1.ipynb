{
 "cells": [
  {
   "cell_type": "markdown",
   "metadata": {},
   "source": [
    "Before you turn this problem in, make sure everything runs as expected. First, **restart the kernel** (in the menubar, select Kernel$\\rightarrow$Restart) and then **run all cells** (in the menubar, select Cell$\\rightarrow$Run All).\n",
    "\n",
    "Make sure you fill in any place that says `YOUR CODE HERE` or \"YOUR ANSWER HERE\", as well as your name and collaborators below:"
   ]
  },
  {
   "cell_type": "code",
   "execution_count": 1,
   "metadata": {},
   "outputs": [],
   "source": [
    "NAME = \"Ziyue Yin\"\n",
    "COLLABORATORS = \"\""
   ]
  },
  {
   "cell_type": "markdown",
   "metadata": {},
   "source": [
    "---"
   ]
  },
  {
   "cell_type": "markdown",
   "metadata": {
    "deletable": false,
    "editable": false,
    "nbgrader": {
     "cell_type": "markdown",
     "checksum": "76e3c6307ff94463d6db1255a23662cd",
     "grade": false,
     "grade_id": "jupyter",
     "locked": true,
     "schema_version": 3,
     "solution": false
    }
   },
   "source": [
    "Problem 1 of Assignment 3, STATS102 Fall 2022 Session 1, Duke Kunshan University, Due at Aug 30th 1:15pm beijing time\n",
    "![](dku.jpg)\n",
    "For this problem set, we'll be using the Jupyter notebook and nbgrader:\n",
    "\n",
    "![](jupyter.png)"
   ]
  },
  {
   "cell_type": "markdown",
   "metadata": {},
   "source": [
    "---\n",
    "## Part A (1 points)\n",
    "\n",
    "Write a function that returns a list of numbers, that form a Collatz conjecture sequence. Make sure the input is an int and it handles the case where $n<=0$ by raising a `ValueError`.\n",
    "https://en.wikipedia.org/wiki/Collatz_conjecture"
   ]
  },
  {
   "cell_type": "code",
   "execution_count": 2,
   "metadata": {
    "deletable": false,
    "nbgrader": {
     "cell_type": "code",
     "checksum": "d56174b22e7ee51287a9eb8413b02a0f",
     "grade": false,
     "grade_id": "Collatz",
     "locked": false,
     "schema_version": 3,
     "solution": true
    }
   },
   "outputs": [],
   "source": [
    "def Collatz(n):\n",
    "    \"\"\"For input n (must be a positive integer), compute a list of numbers in reverse order, that form a Collatz conjecture sequence.\n",
    "    \"\"\"\n",
    "    # YOUR CODE HERE\n",
    "    if type(n)!=int:\n",
    "        raise ValueError\n",
    "    if n<=0:\n",
    "        raise ValueError\n",
    "    if n==1:\n",
    "        return [1]\n",
    "    else:\n",
    "        alist=[n]\n",
    "        while n!=1:\n",
    "            if n%2==0:\n",
    "                n=n//2\n",
    "                alist.append(n)\n",
    "            elif n%2!=0:\n",
    "                n=int(3*n+1)\n",
    "                alist.append(n)\n",
    "        return alist"
   ]
  },
  {
   "cell_type": "markdown",
   "metadata": {},
   "source": [
    "Your function should print `[12, 6, 3, 10, 5, 16, 8, 4, 2, 1]` for $n=12$. Check that it does:"
   ]
  },
  {
   "cell_type": "code",
   "execution_count": 4,
   "metadata": {
    "deletable": false,
    "editable": false,
    "nbgrader": {
     "cell_type": "code",
     "checksum": "890079533b2ffdb9123fa15270c5389c",
     "grade": true,
     "grade_id": "correct_Collatz",
     "locked": false,
     "points": 0.5,
     "schema_version": 3,
     "solution": false
    }
   },
   "outputs": [],
   "source": [
    "\"\"\"Check that cubics returns the correct output for several inputs\"\"\"\n",
    "assert Collatz(1) == [1]\n",
    "assert Collatz(2) == [2, 1]\n",
    "assert Collatz(10) == [10, 5, 16, 8, 4, 2, 1]\n",
    "assert Collatz(11) == [11, 34, 17, 52, 26, 13, 40, 20, 10, 5, 16, 8, 4, 2, 1]"
   ]
  },
  {
   "cell_type": "code",
   "execution_count": 5,
   "metadata": {
    "deletable": false,
    "editable": false,
    "nbgrader": {
     "cell_type": "code",
     "checksum": "156b530e5770f51a56763b7c98f7bb26",
     "grade": true,
     "grade_id": "Collatz_invalid_input",
     "locked": false,
     "points": 0.5,
     "schema_version": 3,
     "solution": false
    }
   },
   "outputs": [],
   "source": [
    "\"\"\"Check that cubics raises an error for invalid inputs\"\"\"\n",
    "try:\n",
    "    Collatz(0)\n",
    "except ValueError:\n",
    "    pass\n",
    "else:\n",
    "    raise AssertionError(\"did not raise\")\n",
    "\n",
    "try:\n",
    "    Collatz(-4)\n",
    "except ValueError:\n",
    "    pass\n",
    "else:\n",
    "    raise AssertionError(\"did not raise\")\n",
    "    \n",
    "try:\n",
    "    Collatz(10.0)\n",
    "except ValueError:\n",
    "    pass\n",
    "else:\n",
    "    raise AssertionError(\"did not raise\")"
   ]
  },
  {
   "cell_type": "markdown",
   "metadata": {},
   "source": [
    "# Part B (1 point)\n",
    "\n",
    "Write a function to construct a Fibonacci suquence, where the input is a positive number representing the sequence length and output is the list with that length. \n",
    "\n",
    "Make sure it handles the case where n is not a positive number by raising a `ValueError`.\n",
    "\n",
    "Reference: https://en.wikipedia.org/wiki/Fibonacci_number"
   ]
  },
  {
   "cell_type": "code",
   "execution_count": 6,
   "metadata": {
    "deletable": false,
    "nbgrader": {
     "cell_type": "code",
     "checksum": "2e27a6c25aa990f5b1327a43aa651d96",
     "grade": false,
     "grade_id": "cell-b7bacc27f96f199c",
     "locked": false,
     "schema_version": 3,
     "solution": true,
     "task": false
    }
   },
   "outputs": [],
   "source": [
    "def Fibonacci(n):\n",
    "    \"\"\"For input n (must be a positive integer), compute a list of numbers, that form a Fibonacci sequence.\n",
    "    \"\"\"\n",
    "    # YOUR CODE HERE\n",
    "    if n<=0:\n",
    "        raise ValueError\n",
    "    elif type(n)!=int:\n",
    "        raise ValueError\n",
    "    elif n==1:\n",
    "        return [1]\n",
    "    else:\n",
    "        n1=1\n",
    "        n2=1\n",
    "        count=2\n",
    "        alist=[1,1]\n",
    "        while count<n:\n",
    "            n3=alist[count-2]+alist[count-1]\n",
    "            alist.append(n3)\n",
    "            count=count+1\n",
    "        return alist"
   ]
  },
  {
   "cell_type": "markdown",
   "metadata": {},
   "source": [
    "Your function should print `[1, 1, 2, 3, 5, 8, 13, 21, 34, 55]` for $n=10$. Check that it does:"
   ]
  },
  {
   "cell_type": "code",
   "execution_count": 7,
   "metadata": {
    "deletable": false,
    "editable": false,
    "nbgrader": {
     "cell_type": "code",
     "checksum": "4a99936d2dcbb3b37fe9684fa9e9d1d7",
     "grade": true,
     "grade_id": "cell-6224cc3d64c1bfd3",
     "locked": true,
     "points": 0.5,
     "schema_version": 3,
     "solution": false,
     "task": false
    }
   },
   "outputs": [],
   "source": [
    "\"\"\"Check that Fibonacci returns the correct output for several inputs\"\"\"\n",
    "assert Fibonacci(1) == [1]\n",
    "assert Fibonacci(3) == [1,1,2]\n",
    "assert Fibonacci(7) == [1, 1, 2, 3, 5, 8, 13]\n",
    "assert Fibonacci(15) == [1, 1, 2, 3, 5, 8, 13, 21, 34, 55, 89, 144, 233, 377, 610]"
   ]
  },
  {
   "cell_type": "code",
   "execution_count": 8,
   "metadata": {
    "deletable": false,
    "editable": false,
    "nbgrader": {
     "cell_type": "code",
     "checksum": "37d1b19ba47d17f66391ff65572a1ebf",
     "grade": true,
     "grade_id": "cell-65bc9effcb936260",
     "locked": true,
     "points": 0.5,
     "schema_version": 3,
     "solution": false,
     "task": false
    }
   },
   "outputs": [],
   "source": [
    "\"\"\"Check that Fibonacci raises an error for invalid inputs\"\"\"\n",
    "try:\n",
    "    Fibonacci(0)\n",
    "except ValueError:\n",
    "    pass\n",
    "else:\n",
    "    raise AssertionError(\"did not raise ValueError\")\n",
    "\n",
    "try:\n",
    "    Fibonacci(-4)\n",
    "except ValueError:\n",
    "    pass\n",
    "else:\n",
    "    raise AssertionError(\"did not raise ValueError\")\n",
    "    \n",
    "try:\n",
    "    Fibonacci(10.0)\n",
    "except ValueError:\n",
    "    pass\n",
    "else:\n",
    "    raise AssertionError(\"did not raise ValueError\")"
   ]
  }
 ],
 "metadata": {
  "kernelspec": {
   "display_name": "Python 3",
   "language": "python",
   "name": "python3"
  },
  "language_info": {
   "codemirror_mode": {
    "name": "ipython",
    "version": 3
   },
   "file_extension": ".py",
   "mimetype": "text/x-python",
   "name": "python",
   "nbconvert_exporter": "python",
   "pygments_lexer": "ipython3",
   "version": "3.6.9"
  }
 },
 "nbformat": 4,
 "nbformat_minor": 1
}
