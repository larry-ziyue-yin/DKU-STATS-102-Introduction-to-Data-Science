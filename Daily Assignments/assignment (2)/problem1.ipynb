{
 "cells": [
  {
   "cell_type": "markdown",
   "metadata": {},
   "source": [
    "Before you turn this problem in, make sure everything runs as expected. First, **restart the kernel** (in the menubar, select Kernel$\\rightarrow$Restart) and then **run all cells** (in the menubar, select Cell$\\rightarrow$Run All).\n",
    "\n",
    "Make sure you fill in any place that says `YOUR CODE HERE` or \"YOUR ANSWER HERE\", as well as your name and collaborators below:"
   ]
  },
  {
   "cell_type": "code",
   "execution_count": 1,
   "metadata": {},
   "outputs": [],
   "source": [
    "NAME = \"Ziyue Yin\"\n",
    "COLLABORATORS = \"\""
   ]
  },
  {
   "cell_type": "markdown",
   "metadata": {},
   "source": [
    "---"
   ]
  },
  {
   "cell_type": "markdown",
   "metadata": {
    "deletable": false,
    "editable": false,
    "nbgrader": {
     "cell_type": "markdown",
     "checksum": "dd695f8305a79932601342e60a5cc94e",
     "grade": false,
     "grade_id": "jupyter",
     "locked": true,
     "schema_version": 3,
     "solution": false
    }
   },
   "source": [
    "Problem 1 of Assignment 2, STATS102 2022 Fall Session 1, Duke Kunshan University, Due at Aug 26th 1:15PM beijing time\n",
    "![](dku.jpg)\n",
    "For this problem set, we'll be using the Jupyter notebook and nbgrader:\n",
    "\n",
    "![](jupyter.png)"
   ]
  },
  {
   "cell_type": "markdown",
   "metadata": {
    "deletable": false,
    "editable": false,
    "nbgrader": {
     "cell_type": "markdown",
     "checksum": "1374415079940b97951f0a9e06918e80",
     "grade": false,
     "grade_id": "cell-6ebe4b28ab25fc62",
     "locked": true,
     "schema_version": 3,
     "solution": false,
     "task": false
    }
   },
   "source": [
    "# ---\n",
    "## Part A (1 points)\n",
    "\n",
    "Write a function that returns a list of numbers, such that $x_i=(i-2)^2-4$, for $1\\leq i \\leq n$. Make sure it handles the case where $n<1$ or $n$ is not an integer by raising a `ValueError`."
   ]
  },
  {
   "cell_type": "code",
   "execution_count": 11,
   "metadata": {
    "deletable": false,
    "nbgrader": {
     "cell_type": "code",
     "checksum": "bddbf0b1af7b749734666cde55b83b46",
     "grade": false,
     "grade_id": "cubics",
     "locked": false,
     "schema_version": 3,
     "solution": true
    }
   },
   "outputs": [],
   "source": [
    "def parabola(n):\n",
    "    \"\"\"Compute each Xi from 1 to n, such that the ith element of the returned list equals (i-2)^2-4.\n",
    "    \"\"\"\n",
    "    # YOUR CODE HERE\n",
    "    if type(n)!=int:\n",
    "        raise ValueError\n",
    "    elif n<1:\n",
    "        raise ValueError\n",
    "    else:\n",
    "        results = []\n",
    "        for value in range(1,n + 1):\n",
    "            result = (value - 2)**2-4\n",
    "            results.append(result)\n",
    "        return results"
   ]
  },
  {
   "cell_type": "markdown",
   "metadata": {
    "deletable": false,
    "editable": false,
    "nbgrader": {
     "cell_type": "markdown",
     "checksum": "084deacade26ea9053e6b6a998062d79",
     "grade": false,
     "grade_id": "cell-bf4f398369854f7a",
     "locked": true,
     "schema_version": 3,
     "solution": false,
     "task": false
    }
   },
   "source": [
    "Your function should print `[-3, -4, -3, 0, 5, 12, 21, 32, 45, 60]` for $n=10$. Check that it does:"
   ]
  },
  {
   "cell_type": "code",
   "execution_count": 3,
   "metadata": {
    "deletable": false,
    "editable": false,
    "nbgrader": {
     "cell_type": "code",
     "checksum": "0b12ce57360ff7f6652abb97b650e0f2",
     "grade": false,
     "grade_id": "cell-b481ae4b61de031c",
     "locked": true,
     "schema_version": 3,
     "solution": false,
     "task": false
    }
   },
   "outputs": [
    {
     "data": {
      "text/plain": [
       "[-3, -4, -3, 0, 5, 12, 21, 32, 45, 60]"
      ]
     },
     "execution_count": 3,
     "metadata": {},
     "output_type": "execute_result"
    }
   ],
   "source": [
    "parabola(10)"
   ]
  },
  {
   "cell_type": "code",
   "execution_count": 4,
   "metadata": {
    "deletable": false,
    "editable": false,
    "nbgrader": {
     "cell_type": "code",
     "checksum": "d4b76d4e6419189aee9e6feabc5c39ab",
     "grade": true,
     "grade_id": "correct_cubics",
     "locked": false,
     "points": 0.75,
     "schema_version": 3,
     "solution": false
    },
    "scrolled": true
   },
   "outputs": [],
   "source": [
    "\"\"\"Check that cubics returns the correct output for several inputs\"\"\"\n",
    "assert parabola(2) == [-3, -4]\n",
    "assert parabola(6) == [-3, -4, -3, 0, 5, 12]\n",
    "assert parabola(8) == [-3, -4, -3, 0, 5, 12, 21, 32]\n",
    "assert parabola(11) == [-3, -4, -3, 0, 5, 12, 21, 32, 45, 60, 77]"
   ]
  },
  {
   "cell_type": "code",
   "execution_count": 5,
   "metadata": {
    "deletable": false,
    "editable": false,
    "nbgrader": {
     "cell_type": "code",
     "checksum": "d77743de5744dc59328e81b8cdb35878",
     "grade": true,
     "grade_id": "cubics_invalid_input",
     "locked": false,
     "points": 0.25,
     "schema_version": 3,
     "solution": false
    }
   },
   "outputs": [],
   "source": [
    "\"\"\"Check that cubics raises an error for invalid inputs\"\"\"\n",
    "try:\n",
    "    parabola(0)\n",
    "except ValueError:\n",
    "    pass\n",
    "else:\n",
    "    raise AssertionError(\"did not raise\")\n",
    "\n",
    "try:\n",
    "    parabola(-10)\n",
    "except ValueError:\n",
    "    pass\n",
    "else:\n",
    "    raise AssertionError(\"did not raise\")"
   ]
  },
  {
   "cell_type": "markdown",
   "metadata": {
    "deletable": false,
    "editable": false,
    "nbgrader": {
     "cell_type": "markdown",
     "checksum": "5ae815e7d31f75ae4e3d64ec63005700",
     "grade": false,
     "grade_id": "cell-8b0e8ced6be3f1de",
     "locked": true,
     "schema_version": 3,
     "solution": false,
     "task": false
    }
   },
   "source": [
    "---\n",
    "\n",
    "## Part B (1 point)\n",
    "\n",
    "Using your `parabola` in Part A, write another function that computes the difference between the maximum and minimum of the returned list of `parabola`. Make sure your function call the `parabola` function -- it should NOT reimplement its functionality."
   ]
  },
  {
   "cell_type": "code",
   "execution_count": 10,
   "metadata": {
    "deletable": false,
    "nbgrader": {
     "cell_type": "code",
     "checksum": "3c65fc4edafa633d0b5be494be58b855",
     "grade": false,
     "grade_id": "sum_of_cubics",
     "locked": false,
     "schema_version": 3,
     "solution": true
    }
   },
   "outputs": [],
   "source": [
    "def diff_of_max_min(n):\n",
    "    \"\"\"Compute the difference between the maximum and minimum in the list.\"\"\"\n",
    "    # YOUR CODE HERE\n",
    "    a=parabola(n)\n",
    "    maxx=-2147483648\n",
    "    minn=2147483648\n",
    "    for i in range(len(a)):\n",
    "        if a[i]>maxx:\n",
    "            maxx=a[i]\n",
    "        if a[i]<minn:\n",
    "            minn=a[i]\n",
    "    return maxx-minn"
   ]
  },
  {
   "cell_type": "markdown",
   "metadata": {
    "deletable": false,
    "editable": false,
    "nbgrader": {
     "cell_type": "markdown",
     "checksum": "19250beaaa527234c1d159f241300f49",
     "grade": false,
     "grade_id": "cell-55e35955b506822b",
     "locked": true,
     "schema_version": 3,
     "solution": false,
     "task": false
    }
   },
   "source": [
    "The difference between the maximum and minimum when $n$ is 10 should be 64. Verify that this is the answer you get:"
   ]
  },
  {
   "cell_type": "code",
   "execution_count": 7,
   "metadata": {
    "deletable": false,
    "editable": false,
    "nbgrader": {
     "cell_type": "code",
     "checksum": "1b4b85d2ed6d11459041d7c66f85573e",
     "grade": false,
     "grade_id": "cell-028eb7af1346628e",
     "locked": true,
     "schema_version": 3,
     "solution": false,
     "task": false
    }
   },
   "outputs": [
    {
     "data": {
      "text/plain": [
       "64"
      ]
     },
     "execution_count": 7,
     "metadata": {},
     "output_type": "execute_result"
    }
   ],
   "source": [
    "diff_of_max_min(10)"
   ]
  },
  {
   "cell_type": "code",
   "execution_count": 8,
   "metadata": {
    "deletable": false,
    "editable": false,
    "nbgrader": {
     "cell_type": "code",
     "checksum": "e057bc97c83dadc6e6aa92e96a95932c",
     "grade": true,
     "grade_id": "correct_sum_of_cubics",
     "locked": false,
     "points": 0.5,
     "schema_version": 3,
     "solution": false
    }
   },
   "outputs": [],
   "source": [
    "\"\"\"Check that diff_of_max_min returns the correct answer for various inputs.\"\"\"\n",
    "assert diff_of_max_min(1) == 0\n",
    "assert diff_of_max_min(2) == 1\n",
    "assert diff_of_max_min(8) == 36\n",
    "assert diff_of_max_min(11) == 81"
   ]
  },
  {
   "cell_type": "code",
   "execution_count": 9,
   "metadata": {
    "deletable": false,
    "editable": false,
    "nbgrader": {
     "cell_type": "code",
     "checksum": "32a155bf5cbad3cec146b2ea05cef9c4",
     "grade": true,
     "grade_id": "sum_of_cubics_uses_cubics",
     "locked": false,
     "points": 0.5,
     "schema_version": 3,
     "solution": false
    }
   },
   "outputs": [],
   "source": [
    "\"\"\"Check that diff_of_max_min relies on parabola.\"\"\"\n",
    "orig_parabola = parabola\n",
    "del parabola\n",
    "try:\n",
    "    diff_of_max_min(1)\n",
    "except NameError:\n",
    "    pass\n",
    "else:\n",
    "    raise AssertionError(\"diff_of_max_min does not use parabola\")\n",
    "finally:\n",
    "    parabola = orig_parabola"
   ]
  }
 ],
 "metadata": {
  "kernelspec": {
   "display_name": "Python 3",
   "language": "python",
   "name": "python3"
  },
  "language_info": {
   "codemirror_mode": {
    "name": "ipython",
    "version": 3
   },
   "file_extension": ".py",
   "mimetype": "text/x-python",
   "name": "python",
   "nbconvert_exporter": "python",
   "pygments_lexer": "ipython3",
   "version": "3.6.9"
  }
 },
 "nbformat": 4,
 "nbformat_minor": 1
}
