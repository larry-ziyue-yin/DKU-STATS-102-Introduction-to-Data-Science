{
 "cells": [
  {
   "cell_type": "markdown",
   "metadata": {},
   "source": [
    "Before you turn this problem in, make sure everything runs as expected. First, **restart the kernel** (in the menubar, select Kernel$\\rightarrow$Restart) and then **run all cells** (in the menubar, select Cell$\\rightarrow$Run All).\n",
    "\n",
    "Make sure you fill in any place that says `YOUR CODE HERE` or \"YOUR ANSWER HERE\", as well as your name and collaborators below:"
   ]
  },
  {
   "cell_type": "code",
   "execution_count": 18,
   "metadata": {},
   "outputs": [],
   "source": [
    "NAME = \"Ziyue Yin\"\n",
    "COLLABORATORS = \"\""
   ]
  },
  {
   "cell_type": "markdown",
   "metadata": {},
   "source": [
    "---"
   ]
  },
  {
   "cell_type": "markdown",
   "metadata": {
    "deletable": false,
    "editable": false,
    "nbgrader": {
     "cell_type": "markdown",
     "checksum": "994cf57072a59fb682a6d0b4881d2a87",
     "grade": false,
     "grade_id": "cell-9f1f9ac6cd7b8166",
     "locked": true,
     "schema_version": 3,
     "solution": false
    }
   },
   "source": [
    "assignment 1, STATS102 Fall 2022 Session 1, Duke Kunshan University, due at Aug 25th 1:15PM beijing time\n",
    "![](dku.jpg)\n",
    "For this problem set, we'll be using the Jupyter notebook:\n",
    "![](jupyter.png) "
   ]
  },
  {
   "cell_type": "markdown",
   "metadata": {},
   "source": [
    "The term \"mileage\" often refers to distance per unit of fuel, such as miles per gallon (mpg) or litres per 100 kilometres (L/100 km). https://simple.wikipedia.org/wiki/Mileage"
   ]
  },
  {
   "cell_type": "code",
   "execution_count": 19,
   "metadata": {
    "deletable": false,
    "nbgrader": {
     "cell_type": "code",
     "checksum": "b0f194a36d07a6187f96ad0e9670efc6",
     "grade": false,
     "grade_id": "calculate_mileage",
     "locked": false,
     "schema_version": 3,
     "solution": true
    }
   },
   "outputs": [],
   "source": [
    "def calculate_mileage(distance,fuel):\n",
    "    \n",
    "    \"\"\"compute the mileage by dividing the travelled distance by the used fuel\n",
    "       if the distance is negative or the fuel is not positive, then please raise a ValueError.    \n",
    "    \"\"\"   \n",
    "   \n",
    "    # YOUR CODE HERE\n",
    "    #distance=input(\"distance?\")\n",
    "    #fuel=input(\"fuel?\")\n",
    "    Distance=float(distance)\n",
    "    Fuel=float(fuel)\n",
    "    if Distance<0 or Fuel <=0:\n",
    "        raise ValueError\n",
    "    else :\n",
    "        return distance/fuel"
   ]
  },
  {
   "cell_type": "code",
   "execution_count": 20,
   "metadata": {
    "deletable": false,
    "editable": false,
    "nbgrader": {
     "cell_type": "code",
     "checksum": "379f61d6c02bc6359fb95ae84d21d34d",
     "grade": true,
     "grade_id": "mileage_correct_input",
     "locked": true,
     "points": 1,
     "schema_version": 3,
     "solution": false
    }
   },
   "outputs": [],
   "source": [
    "\"\"\"Check that calculate_mileage function returns the correct output for several inputs (1 point)\"\"\"\n",
    "assert calculate_mileage(100,5) == 20\n",
    "assert calculate_mileage(50,4) == 12.5\n"
   ]
  },
  {
   "cell_type": "code",
   "execution_count": 21,
   "metadata": {
    "deletable": false,
    "editable": false,
    "nbgrader": {
     "cell_type": "code",
     "checksum": "af9a2541c56601abc72da6c08e8be039",
     "grade": true,
     "grade_id": "mileage_incorrect_input",
     "locked": true,
     "points": 1,
     "schema_version": 3,
     "solution": false
    }
   },
   "outputs": [],
   "source": [
    "\"\"\"Check that calculate_mileage function raises an error for invalid inputs (1 point)\"\"\"\n",
    "try:\n",
    "    calculate_mileage(-100,5)\n",
    "except ValueError:\n",
    "    pass\n",
    "else:\n",
    "    raise AssertionError(\"did not raise ValueError\")\n",
    "    \n",
    "try:\n",
    "    calculate_mileage(5,0)\n",
    "except ValueError:\n",
    "    pass\n",
    "else:\n",
    "    raise AssertionError(\"did not raise ValueError\")\n"
   ]
  }
 ],
 "metadata": {
  "kernelspec": {
   "display_name": "Python 3",
   "language": "python",
   "name": "python3"
  },
  "language_info": {
   "codemirror_mode": {
    "name": "ipython",
    "version": 3
   },
   "file_extension": ".py",
   "mimetype": "text/x-python",
   "name": "python",
   "nbconvert_exporter": "python",
   "pygments_lexer": "ipython3",
   "version": "3.6.9"
  }
 },
 "nbformat": 4,
 "nbformat_minor": 2
}
