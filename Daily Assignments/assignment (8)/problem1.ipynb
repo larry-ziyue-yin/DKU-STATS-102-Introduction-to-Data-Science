{
 "cells": [
  {
   "cell_type": "markdown",
   "metadata": {},
   "source": [
    "Before you turn this problem in, make sure everything runs as expected. First, **restart the kernel** (in the menubar, select Kernel$\\rightarrow$Restart) and then **run all cells** (in the menubar, select Cell$\\rightarrow$Run All).\n",
    "\n",
    "Make sure you fill in any place that says `YOUR CODE HERE` or \"YOUR ANSWER HERE\", as well as your name and collaborators below:"
   ]
  },
  {
   "cell_type": "code",
   "execution_count": null,
   "metadata": {},
   "outputs": [],
   "source": [
    "NAME = \"Ziyue Yins\"\n",
    "COLLABORATORS = \"\""
   ]
  },
  {
   "cell_type": "markdown",
   "metadata": {},
   "source": [
    "---"
   ]
  },
  {
   "cell_type": "markdown",
   "metadata": {
    "deletable": false,
    "editable": false,
    "nbgrader": {
     "cell_type": "markdown",
     "checksum": "eb657bc89534550ed3757554637744b1",
     "grade": false,
     "grade_id": "jupyter",
     "locked": true,
     "schema_version": 3,
     "solution": false
    }
   },
   "source": [
    "Problem 1 of Assignment 8, STATS102 Fall 2022 Session 1, Duke Kunshan University, Due at Sep 7th 1:15pm beijing time\n",
    "![](dku.jpg)\n",
    "For this problem set, we'll be using the Jupyter notebook and nbgrader:\n",
    "\n",
    "![](jupyter.png)"
   ]
  },
  {
   "cell_type": "markdown",
   "metadata": {
    "deletable": false,
    "editable": false,
    "nbgrader": {
     "cell_type": "markdown",
     "checksum": "1291a2271449507a70af3075c1f93b30",
     "grade": false,
     "grade_id": "cell-ce2dfdf2cd4901d4",
     "locked": true,
     "schema_version": 3,
     "solution": false,
     "task": false
    }
   },
   "source": [
    "# Problem 1\n",
    "Sort an 2D matrix by the nth column. For example:\n",
    "\n",
    "Input A:\n",
    "$$\n",
    " \\begin{bmatrix}\n",
    "   4 & 5 & 9 \\\\\n",
    "   2 & 7 & 5 \\\\\n",
    "   1 & 3 & 4 \\\\\n",
    " \\end{bmatrix}\n",
    "$$\n",
    "\n",
    "after sorting A by the 2nd column, output:\n",
    "$$\n",
    " \\begin{bmatrix}\n",
    "   1 & 3 & 4 \\\\\n",
    "   4 & 5 & 9 \\\\\n",
    "   2 & 7 & 5 \\\\\n",
    " \\end{bmatrix}\n",
    "$$"
   ]
  },
  {
   "cell_type": "code",
   "execution_count": 7,
   "metadata": {
    "deletable": false,
    "nbgrader": {
     "cell_type": "code",
     "checksum": "fb24551702ad1ff00ed56fa1c1bd9df8",
     "grade": false,
     "grade_id": "cell-45ef485b9a06219e",
     "locked": false,
     "schema_version": 3,
     "solution": true,
     "task": false
    }
   },
   "outputs": [],
   "source": [
    "import numpy as np\n",
    "\n",
    "def myfunction(A, n):\n",
    "    # YOUR CODE HERE\n",
    "    A=A[A[:n].argsort()]\n",
    "    return A"
   ]
  },
  {
   "cell_type": "code",
   "execution_count": 8,
   "metadata": {},
   "outputs": [
    {
     "data": {
      "text/plain": [
       "array([[[2, 1, 0],\n",
       "        [5, 4, 3],\n",
       "        [8, 7, 6]]])"
      ]
     },
     "execution_count": 8,
     "metadata": {},
     "output_type": "execute_result"
    }
   ],
   "source": [
    "A = np.arange(0,9)[::-1].reshape(3,3)\n",
    "myfunction(A, 1)"
   ]
  },
  {
   "cell_type": "code",
   "execution_count": 9,
   "metadata": {
    "deletable": false,
    "editable": false,
    "nbgrader": {
     "cell_type": "code",
     "checksum": "e06eba51789048f53c1d57242d5863bf",
     "grade": true,
     "grade_id": "cell-d5175c3e37339ebp",
     "locked": true,
     "points": 1,
     "schema_version": 3,
     "solution": false,
     "task": false
    }
   },
   "outputs": [],
   "source": [
    "import numpy as np\n",
    "\n",
    "A = np.arange(0,9)[::-1].reshape(3,3)\n",
    "assert (myfunction(A, 1) == np.array([[2, 1, 0],\n",
    "                                       [5, 4, 3],\n",
    "                                       [8, 7, 6]])).all()"
   ]
  },
  {
   "cell_type": "markdown",
   "metadata": {},
   "source": [
    "# Problem 2\n",
    "Assuming the Estimated Tuition and Fees for the 2019-2020 Academic Year for one ECE master program is shown as follows.\n",
    "\n",
    "\n",
    "please create and return the same DataFrame:\n",
    "\n",
    "![](ece.png)"
   ]
  },
  {
   "cell_type": "code",
   "execution_count": 61,
   "metadata": {
    "deletable": false,
    "nbgrader": {
     "cell_type": "code",
     "checksum": "e8fe411f2770f788c55136a98f7de3a9",
     "grade": false,
     "grade_id": "cell-1b5420aa0da1a75f",
     "locked": false,
     "schema_version": 3,
     "solution": true,
     "task": false
    }
   },
   "outputs": [],
   "source": [
    "import numpy as np\n",
    "import pandas as pd\n",
    "def myfunction():\n",
    "    # YOUR CODE HERE\n",
    "    df = pd.DataFrame(np.random.rand(3, 2),\n",
    "                  index=pd.MultiIndex.from_arrays([[1,2,2], ['DKU','DKU','Duke']]),\n",
    "                  columns=['International students','Domestic Students'])\n",
    "    df.index.names=['year','where']\n",
    "    df.iloc[0,0]='64500USD'\n",
    "    df.iloc[1,0]='64500USD'\n",
    "    df.iloc[2,0]='77250USD'\n",
    "    df.iloc[0,1]='237000RMB'\n",
    "    df.iloc[1,1]='237000RMB'\n",
    "    df.iloc[2,1]= '77250USD'\n",
    "    return df"
   ]
  },
  {
   "cell_type": "code",
   "execution_count": 62,
   "metadata": {
    "deletable": false,
    "editable": false,
    "nbgrader": {
     "cell_type": "code",
     "checksum": "76b3970130df839a1b6fc2c823d1dd6b",
     "grade": true,
     "grade_id": "cell-b3c32ae0c1ec1fa8",
     "locked": true,
     "points": 1,
     "schema_version": 3,
     "solution": false,
     "task": false
    }
   },
   "outputs": [],
   "source": [
    "#test 1 0.3pts\n",
    "import numpy as np\n",
    "import pandas as pd\n",
    "\n",
    "tuition=myfunction()\n",
    "\n",
    "assert len(tuition.index.levels)==2\n",
    "assert len(tuition.index.names)==2\n",
    "assert len(tuition.columns)==2\n",
    "assert tuition['International students'][1]['DKU']=='64500USD'\n",
    "assert tuition['Domestic Students'][2]['Duke']=='77250USD'"
   ]
  }
 ],
 "metadata": {
  "kernelspec": {
   "display_name": "Python 3",
   "language": "python",
   "name": "python3"
  },
  "language_info": {
   "codemirror_mode": {
    "name": "ipython",
    "version": 3
   },
   "file_extension": ".py",
   "mimetype": "text/x-python",
   "name": "python",
   "nbconvert_exporter": "python",
   "pygments_lexer": "ipython3",
   "version": "3.6.9"
  }
 },
 "nbformat": 4,
 "nbformat_minor": 1
}
