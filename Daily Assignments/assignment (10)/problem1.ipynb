{
 "cells": [
  {
   "cell_type": "markdown",
   "metadata": {},
   "source": [
    "Before you turn this problem in, make sure everything runs as expected. First, **restart the kernel** (in the menubar, select Kernel$\\rightarrow$Restart) and then **run all cells** (in the menubar, select Cell$\\rightarrow$Run All).\n",
    "\n",
    "Make sure you fill in any place that says `YOUR CODE HERE` or \"YOUR ANSWER HERE\", as well as your name and collaborators below:"
   ]
  },
  {
   "cell_type": "code",
   "execution_count": null,
   "metadata": {},
   "outputs": [],
   "source": [
    "NAME = \"Ziyue Yin\"\n",
    "COLLABORATORS = \"\""
   ]
  },
  {
   "cell_type": "markdown",
   "metadata": {},
   "source": [
    "---"
   ]
  },
  {
   "cell_type": "markdown",
   "metadata": {
    "deletable": false,
    "editable": false,
    "nbgrader": {
     "cell_type": "markdown",
     "checksum": "f9eccde015bc997cc351afedbf161c83",
     "grade": false,
     "grade_id": "jupyter",
     "locked": true,
     "schema_version": 3,
     "solution": false
    }
   },
   "source": [
    "Assignment 10, STATS102 Fall 2022 Session 1, Duke Kunshan University, Due at Sep 10th 1:15pm beijing time\n",
    "![](dku.jpg)\n",
    "For this problem set, we'll be using the Jupyter notebook and nbgrader:\n",
    "\n",
    "![](jupyter.png)"
   ]
  },
  {
   "cell_type": "markdown",
   "metadata": {
    "deletable": false,
    "editable": false,
    "nbgrader": {
     "cell_type": "markdown",
     "checksum": "3dea1e260e53c948e7fe8d8698492e5b",
     "grade": false,
     "grade_id": "cell-542b022beb07b3ef",
     "locked": true,
     "schema_version": 3,
     "solution": false
    }
   },
   "source": [
    "## Problem1\n",
    "Load the file (WorldCups.csv), and then return the following DataFrame sorted by the numbers in the 'Score' column. For each world cup, the winner gets 4 points, the runners-up gets 2 points, the third place gets 1 point.  ('Germany FR' needs to be converted to 'Germany' and count together)\n",
    "\n",
    "![](assignment9.png)"
   ]
  },
  {
   "cell_type": "code",
   "execution_count": 40,
   "metadata": {
    "deletable": false,
    "nbgrader": {
     "cell_type": "code",
     "checksum": "df229525b1956b2829c45249a57143eb",
     "grade": false,
     "grade_id": "mysin",
     "locked": false,
     "schema_version": 3,
     "solution": true
    }
   },
   "outputs": [],
   "source": [
    "import numpy as np\n",
    "import pandas as pd\n",
    "def myfunction():\n",
    "    # YOUR CODE HERE\n",
    "    df = pd.read_csv('WorldCups.csv')\n",
    "    df=df.replace('Germany FR','Germany')\n",
    "    df1=df['Winner'].value_counts()\n",
    "    df2=df['Runners-Up'].value_counts()\n",
    "    df3=df['Third'].value_counts()\n",
    "    DF=pd.DataFrame({'Winner': df1,'Runners-Up': df2,'Third':df3})\n",
    "    DF['Score']=DF['Winner'].replace(np.nan,0)*4+DF['Runners-Up'].replace(np.nan,0)*2+DF['Third'].replace(np.nan,0)\n",
    "    return DF.sort_values(by=['Score'],ascending=False)"
   ]
  },
  {
   "cell_type": "code",
   "execution_count": 39,
   "metadata": {
    "deletable": false,
    "editable": false,
    "nbgrader": {
     "cell_type": "code",
     "checksum": "5d5bff7000f322eb45cfed1b1cca1324",
     "grade": true,
     "grade_id": "cell-044b32eea7f84461",
     "locked": true,
     "points": 2,
     "schema_version": 3,
     "solution": false
    }
   },
   "outputs": [],
   "source": [
    "import numpy as np\n",
    "import pandas as pd\n",
    "res=myfunction()\n",
    "assert(res.shape==(19, 4))\n",
    "assert(res['Score'].values==np.array([28, 26, 21, 14,  8,  8,  7,  4,  4,  4,  4,  4,  2,  1,  1,  1,  1,\n",
    "        1,  1])).all()\n"
   ]
  }
 ],
 "metadata": {
  "kernelspec": {
   "display_name": "Python 3",
   "language": "python",
   "name": "python3"
  },
  "language_info": {
   "codemirror_mode": {
    "name": "ipython",
    "version": 3
   },
   "file_extension": ".py",
   "mimetype": "text/x-python",
   "name": "python",
   "nbconvert_exporter": "python",
   "pygments_lexer": "ipython3",
   "version": "3.6.9"
  }
 },
 "nbformat": 4,
 "nbformat_minor": 1
}
