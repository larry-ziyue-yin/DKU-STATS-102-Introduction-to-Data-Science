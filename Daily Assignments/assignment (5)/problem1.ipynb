{
 "cells": [
  {
   "cell_type": "markdown",
   "metadata": {},
   "source": [
    "Before you turn this problem in, make sure everything runs as expected. First, **restart the kernel** (in the menubar, select Kernel$\\rightarrow$Restart) and then **run all cells** (in the menubar, select Cell$\\rightarrow$Run All).\n",
    "\n",
    "Make sure you fill in any place that says `YOUR CODE HERE` or \"YOUR ANSWER HERE\", as well as your name and collaborators below:"
   ]
  },
  {
   "cell_type": "code",
   "execution_count": 1,
   "metadata": {},
   "outputs": [],
   "source": [
    "NAME = \"Ziyue Yin\"\n",
    "COLLABORATORS = \"\""
   ]
  },
  {
   "cell_type": "markdown",
   "metadata": {},
   "source": [
    "---"
   ]
  },
  {
   "cell_type": "markdown",
   "metadata": {
    "deletable": false,
    "editable": false,
    "nbgrader": {
     "cell_type": "markdown",
     "checksum": "d427f0b65aec9b9f5855e2b1e8abccab",
     "grade": false,
     "grade_id": "jupyter",
     "locked": true,
     "schema_version": 3,
     "solution": false
    }
   },
   "source": [
    "Problem 1 of Assignment 5, STATS102 Fall 2022 Session 1, Duke Kunshan University, Due at Sep 1st 1:15pm beijing time\n",
    "![](dku.jpg)\n",
    "For this problem set, we'll be using the Jupyter notebook and nbgrader:\n",
    "\n",
    "![](jupyter.png)"
   ]
  },
  {
   "cell_type": "markdown",
   "metadata": {
    "deletable": false,
    "editable": false,
    "nbgrader": {
     "cell_type": "markdown",
     "checksum": "92ce865c3550f5a4fc5b1131b1869297",
     "grade": false,
     "grade_id": "cell-d7218ffd720e10b9",
     "locked": true,
     "schema_version": 3,
     "solution": false,
     "task": false
    }
   },
   "source": [
    "# Problem1 (0.6 point)\n",
    "Given a string containing just the characters `'('`, `')'`, `'{'`, `'}'`, `'['` and `']'`, determine whether the input string is complete parenthesis combination. (Empty string is also valid.)\n",
    "\n",
    "Some correct cases:\n",
    "`{[()]}`, `[]{}()`, `[()]`, `{}` ..."
   ]
  },
  {
   "cell_type": "code",
   "execution_count": 2,
   "metadata": {
    "deletable": false,
    "nbgrader": {
     "cell_type": "code",
     "checksum": "15be66180de9b664377dc47adffaeb1b",
     "grade": false,
     "grade_id": "cell-f55edec9336761f9",
     "locked": false,
     "schema_version": 3,
     "solution": true,
     "task": false
    }
   },
   "outputs": [],
   "source": [
    "def isValid(s):\n",
    "    while '{}'in s or '[]'in s or '()' in s:\n",
    "        s=s.replace('[]','')\n",
    "        s=s.replace('()','')\n",
    "        s=s.replace('{}','')\n",
    "    return s==''"
   ]
  },
  {
   "cell_type": "code",
   "execution_count": 4,
   "metadata": {
    "deletable": false,
    "editable": false,
    "nbgrader": {
     "cell_type": "code",
     "checksum": "7d8995158a22aef808f7ddc5b40ed616",
     "grade": true,
     "grade_id": "cell-1eddbf23c0d24eb4",
     "locked": true,
     "points": 0.6,
     "schema_version": 3,
     "solution": false,
     "task": false
    }
   },
   "outputs": [],
   "source": [
    "\"\"\"Check that isValid function returns the correct output\"\"\"\n",
    "assert (isValid(\"[[[]]{}}\") == False)\n",
    "assert (isValid(\"[](){}{[]}()[[]]\") == True)\n",
    "assert (isValid(\"[{}]\") == True)\n",
    "assert (isValid(\"([)]\") == False)\n",
    "assert (isValid(\"((((())]\") == False)"
   ]
  },
  {
   "cell_type": "markdown",
   "metadata": {
    "deletable": false,
    "editable": false,
    "nbgrader": {
     "cell_type": "markdown",
     "checksum": "1470918f9dc15120884d77328fc2e17c",
     "grade": false,
     "grade_id": "cell-f6b51353da9e139b",
     "locked": true,
     "schema_version": 3,
     "solution": false,
     "task": false
    }
   },
   "source": [
    "# Problem2 (0.6 point)\n",
    "\n",
    "Given an array of integers where 1 ≤ a[i] ≤ n (n = size of array), some elements may appear twice. Find all the elements of [1, n] inclusive that do not appear in this array. (Return `[]`, when n < 1.)"
   ]
  },
  {
   "cell_type": "code",
   "execution_count": 5,
   "metadata": {
    "deletable": false,
    "nbgrader": {
     "cell_type": "code",
     "checksum": "19930c777570dac5aa6fa3481cad789d",
     "grade": false,
     "grade_id": "cell-6e14d84ed557fa4d",
     "locked": false,
     "schema_version": 3,
     "solution": true,
     "task": false
    }
   },
   "outputs": [],
   "source": [
    "def findDisappearedNumbers(nums):\n",
    "    # YOUR CODE HERE\n",
    "    n=len(nums)\n",
    "    alist=[]\n",
    "    if n<1:\n",
    "        return []\n",
    "    else:\n",
    "        for i in range(1,n+1):\n",
    "            if nums.count(i)==0:\n",
    "                alist.append(i)\n",
    "            else:\n",
    "                continue\n",
    "    return alist"
   ]
  },
  {
   "cell_type": "code",
   "execution_count": 6,
   "metadata": {
    "deletable": false,
    "editable": false,
    "nbgrader": {
     "cell_type": "code",
     "checksum": "0a0941798001313d273b679b65829a5b",
     "grade": true,
     "grade_id": "cell-4ccb27702e3e4b9d",
     "locked": true,
     "points": 0.6,
     "schema_version": 3,
     "solution": false,
     "task": false
    }
   },
   "outputs": [],
   "source": [
    "assert findDisappearedNumbers([4,3,2,7,8,2,3,1,5]) == [6, 9]\n",
    "assert findDisappearedNumbers([10,9,4,7,8,8,8,1,2,1,1,1,1]) == [3, 5, 6, 11, 12, 13]\n",
    "assert findDisappearedNumbers([6,7,8,1,2,3,3,3,3,10]) == [4, 5, 9]\n",
    "assert findDisappearedNumbers([]) == []"
   ]
  },
  {
   "cell_type": "markdown",
   "metadata": {
    "deletable": false,
    "editable": false,
    "nbgrader": {
     "cell_type": "markdown",
     "checksum": "cdac705a41ebfc34e5129c99965ab6b6",
     "grade": false,
     "grade_id": "cell-0d7eb7b9fe140199",
     "locked": true,
     "schema_version": 3,
     "solution": false,
     "task": false
    }
   },
   "source": [
    "# Problem 3 (0.8 point)\n",
    "\n",
    "Write a program to encode a string(only containing 26 letters) using symbols of international Morse code.\n",
    "\n",
    "Reference: https://en.wikipedia.org/wiki/Morse_code\n",
    "\n",
    "For your convienice, you can use the morse code of 26 letters below:\n",
    "\n",
    "[\".-\",\"-...\",\"-.-.\",\"-..\",\".\",\"..-.\",\"--.\",\"....\",\"..\",\".---\",\"-.-\",\".-..\",\"--\",\"-.\",\"---\",\".--.\",\"--.-\",\".-.\",\"...\",\"-\",\"..-\",\"...-\",\".--\",\"-..-\",\"-.--\",\"--..\"]"
   ]
  },
  {
   "cell_type": "code",
   "execution_count": 7,
   "metadata": {
    "deletable": false,
    "nbgrader": {
     "cell_type": "code",
     "checksum": "c731c4770951f5d908a47ee5f5736969",
     "grade": false,
     "grade_id": "cell-c033d11914475268",
     "locked": false,
     "schema_version": 3,
     "solution": true,
     "task": false
    }
   },
   "outputs": [],
   "source": [
    "def encodeString(ori_str):\n",
    "    # YOUR CODE HERE\n",
    "    alphabet=['A','B','C','D','E','F','G','H','I','J','K','L','M','N','O','P','Q','R','S','T','U','V','W','X','Y','Z']\n",
    "    mos=[\".-\",\"-...\",\"-.-.\",\"-..\",\".\",\"..-.\",\"--.\",\"....\",\"..\",\".---\",\"-.-\",\".-..\",\"--\",\"-.\",\"---\",\".--.\",\"--.-\",\".-.\",\"...\",\"-\",\"..-\",\"...-\",\".--\",\"-..-\",\"-.--\",\"--..\"]\n",
    "    d=dict(zip(alphabet,mos))\n",
    "    ans=''\n",
    "    for i in ori_str:\n",
    "        morse=d[i]\n",
    "        ans=ans+morse\n",
    "    return ans"
   ]
  },
  {
   "cell_type": "code",
   "execution_count": 8,
   "metadata": {
    "deletable": false,
    "editable": false,
    "nbgrader": {
     "cell_type": "code",
     "checksum": "c72c9804252a9826f3b67f0841eb3fc0",
     "grade": true,
     "grade_id": "cell-72c5997eaf98259b",
     "locked": true,
     "points": 0.8,
     "schema_version": 3,
     "solution": false,
     "task": false
    }
   },
   "outputs": [],
   "source": [
    "assert encodeString('CUL') == '-.-...-.-..'\n",
    "assert encodeString('GA') == '--..-'\n",
    "assert encodeString('SIG') == '.....--.'\n",
    "assert encodeString('TU') == '-..-'"
   ]
  }
 ],
 "metadata": {
  "kernelspec": {
   "display_name": "Python 3",
   "language": "python",
   "name": "python3"
  },
  "language_info": {
   "codemirror_mode": {
    "name": "ipython",
    "version": 3
   },
   "file_extension": ".py",
   "mimetype": "text/x-python",
   "name": "python",
   "nbconvert_exporter": "python",
   "pygments_lexer": "ipython3",
   "version": "3.6.9"
  }
 },
 "nbformat": 4,
 "nbformat_minor": 1
}
