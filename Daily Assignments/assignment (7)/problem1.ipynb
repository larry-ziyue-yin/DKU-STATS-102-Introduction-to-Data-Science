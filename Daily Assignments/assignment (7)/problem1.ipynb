{
 "cells": [
  {
   "cell_type": "markdown",
   "metadata": {},
   "source": [
    "Before you turn this problem in, make sure everything runs as expected. First, **restart the kernel** (in the menubar, select Kernel$\\rightarrow$Restart) and then **run all cells** (in the menubar, select Cell$\\rightarrow$Run All).\n",
    "\n",
    "Make sure you fill in any place that says `YOUR CODE HERE` or \"YOUR ANSWER HERE\", as well as your name and collaborators below:"
   ]
  },
  {
   "cell_type": "code",
   "execution_count": null,
   "metadata": {},
   "outputs": [],
   "source": [
    "NAME = \"Ziyue Yin\"\n",
    "COLLABORATORS = \"\""
   ]
  },
  {
   "cell_type": "markdown",
   "metadata": {},
   "source": [
    "---"
   ]
  },
  {
   "cell_type": "markdown",
   "metadata": {
    "deletable": false,
    "editable": false,
    "nbgrader": {
     "cell_type": "markdown",
     "checksum": "7d14cbc61a36afb3409266ad75b3e587",
     "grade": false,
     "grade_id": "jupyter",
     "locked": true,
     "schema_version": 3,
     "solution": false
    }
   },
   "source": [
    "Assignment 7, STATS102 Fall 2022 Session 1, Duke Kunshan University, Due at Sep 6th 1:15pm beijing time\n",
    "![](dku.jpg)\n",
    "For this problem set, we'll be using the Jupyter notebook and nbgrader:\n",
    "\n",
    "![](jupyter.png)"
   ]
  },
  {
   "cell_type": "markdown",
   "metadata": {
    "deletable": false,
    "editable": false,
    "nbgrader": {
     "cell_type": "markdown",
     "checksum": "376c741421d4e255abcfb098f992970c",
     "grade": false,
     "grade_id": "cell-542b022beb07b3ef",
     "locked": true,
     "schema_version": 3,
     "solution": false
    }
   },
   "source": [
    "## Problem1\n",
    "\n",
    "Given an input numpy array (2D matrix), perform mean substraction for each column and return the resulted one using broadcasting"
   ]
  },
  {
   "cell_type": "code",
   "execution_count": 37,
   "metadata": {
    "deletable": false,
    "nbgrader": {
     "cell_type": "code",
     "checksum": "4c1cc9664e3f53f23ee702bc0ac09752",
     "grade": false,
     "grade_id": "111",
     "locked": false,
     "schema_version": 3,
     "solution": true
    }
   },
   "outputs": [],
   "source": [
    "import numpy as np\n",
    "def mean_sub_col(A):\n",
    "    # YOUR CODE HERE\n",
    "    col_mean=A.mean(axis=0)\n",
    "    result=x-col_mean\n",
    "    return result"
   ]
  },
  {
   "cell_type": "code",
   "execution_count": 38,
   "metadata": {
    "deletable": false,
    "editable": false,
    "nbgrader": {
     "cell_type": "code",
     "checksum": "85442a66aa59ac6479b1f470de4b8d3d",
     "grade": true,
     "grade_id": "cell-414a358ab53a56e9",
     "locked": true,
     "points": 1,
     "schema_version": 3,
     "solution": false
    }
   },
   "outputs": [],
   "source": [
    "import numpy as np\n",
    "x=np.arange(12).reshape(3,4)\n",
    "assert (mean_sub_col(x)==np.array([[-4., -4., -4., -4.],\n",
    "       [ 0.,  0.,  0.,  0.],\n",
    "       [ 4.,  4.,  4.,  4.]])).all()"
   ]
  },
  {
   "cell_type": "markdown",
   "metadata": {
    "deletable": false,
    "editable": false,
    "nbgrader": {
     "cell_type": "markdown",
     "checksum": "d34429c3a954cc4ddda16df2807d4abf",
     "grade": false,
     "grade_id": "cell-2ca97c58b0ae73d4",
     "locked": true,
     "schema_version": 3,
     "solution": false
    }
   },
   "source": [
    "## Problem3\n",
    "for an input scalar variable x (\\\\( x \\in (0,2\\pi)\\\\)) and positive integer N, calculate and return \\\\( \\Sigma_{k=1}^{N} \\frac{(-1)^{k-1}x^{2k-1}}{(2k-1)!}\\\\), we will compare the results with \\\\( sin(x) \\\\) according to different N. Hint: np.arange np.sum np.multiply.accumulate"
   ]
  },
  {
   "cell_type": "code",
   "execution_count": 39,
   "metadata": {
    "deletable": false,
    "nbgrader": {
     "cell_type": "code",
     "checksum": "2a63eb9a37feb07e75aaccf24b21c7d1",
     "grade": false,
     "grade_id": "cell-165f4c3c5309d68b",
     "locked": false,
     "schema_version": 3,
     "solution": true
    }
   },
   "outputs": [],
   "source": [
    "import numpy as np\n",
    "def mysin(x,N):\n",
    "    # YOUR CODE HERE\n",
    "    k=np.arange(1,N+1)\n",
    "    n=0\n",
    "    for k in range (1,N+1):\n",
    "        m=((-1)**(k-1))*(x**(2*k-1))/np.math.factorial(2*k-1)\n",
    "        n=n+m\n",
    "    return n"
   ]
  },
  {
   "cell_type": "code",
   "execution_count": 40,
   "metadata": {
    "deletable": false,
    "editable": false,
    "nbgrader": {
     "cell_type": "code",
     "checksum": "790960055bec7393c22e70fa8bf6f97f",
     "grade": true,
     "grade_id": "cell-f8edd21d15182d29",
     "locked": true,
     "points": 1,
     "schema_version": 3,
     "solution": false
    }
   },
   "outputs": [],
   "source": [
    "assert(abs(mysin(np.pi/2,10)-1)<1e-5)\n",
    "assert(abs(mysin(np.pi/4,10)-np.sqrt(2)/2)<1e-5)\n",
    "assert(abs(mysin(np.pi*3/2,10)-(-1))<1e-5)"
   ]
  }
 ],
 "metadata": {
  "kernelspec": {
   "display_name": "Python 3",
   "language": "python",
   "name": "python3"
  },
  "language_info": {
   "codemirror_mode": {
    "name": "ipython",
    "version": 3
   },
   "file_extension": ".py",
   "mimetype": "text/x-python",
   "name": "python",
   "nbconvert_exporter": "python",
   "pygments_lexer": "ipython3",
   "version": "3.6.9"
  }
 },
 "nbformat": 4,
 "nbformat_minor": 1
}
