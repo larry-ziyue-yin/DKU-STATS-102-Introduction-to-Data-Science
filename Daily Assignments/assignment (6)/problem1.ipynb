{
 "cells": [
  {
   "cell_type": "markdown",
   "metadata": {},
   "source": [
    "Before you turn this problem in, make sure everything runs as expected. First, **restart the kernel** (in the menubar, select Kernel$\\rightarrow$Restart) and then **run all cells** (in the menubar, select Cell$\\rightarrow$Run All).\n",
    "\n",
    "Make sure you fill in any place that says `YOUR CODE HERE` or \"YOUR ANSWER HERE\", as well as your name and collaborators below:"
   ]
  },
  {
   "cell_type": "code",
   "execution_count": null,
   "metadata": {},
   "outputs": [],
   "source": [
    "NAME = \"Ziyue Yin\"\n",
    "COLLABORATORS = \"\""
   ]
  },
  {
   "cell_type": "markdown",
   "metadata": {},
   "source": [
    "---"
   ]
  },
  {
   "cell_type": "markdown",
   "metadata": {
    "deletable": false,
    "editable": false,
    "nbgrader": {
     "cell_type": "markdown",
     "checksum": "d7dcf969336a42e4ed81e626513ccec7",
     "grade": false,
     "grade_id": "jupyter",
     "locked": true,
     "schema_version": 3,
     "solution": false
    }
   },
   "source": [
    "Assignment 6, STATS102 Fall 2022 Session 1, Duke Kunshan University, Due at Sep 2nd 1:15pm beijing time\n",
    "![](dku.jpg)\n",
    "For this problem set, we'll be using the Jupyter notebook and nbgrader:\n",
    "\n",
    "![](jupyter.png)"
   ]
  },
  {
   "cell_type": "markdown",
   "metadata": {
    "deletable": false,
    "editable": false,
    "nbgrader": {
     "cell_type": "markdown",
     "checksum": "a7dcf5fe013ce18f6abaa3020795dc4d",
     "grade": false,
     "grade_id": "cell-d7218ffd720e10b9",
     "locked": true,
     "schema_version": 3,
     "solution": false,
     "task": false
    }
   },
   "source": [
    "# Problem1 (0.5 point)\n",
    "\n",
    "Given a string, find all possible positons of a substring in it.  \n",
    "\n",
    "Hint: string.find function can take a second or even a third input parameters.\n",
    "\n",
    "Docstring:\n",
    "S.find(sub[, start[, end]]) -> int\n",
    "\n",
    "Return the lowest index in S where substring sub is found,\n",
    "such that sub is contained within S[start:end].  Optional\n",
    "arguments start and end are interpreted as in slice notation.\n",
    "\n",
    "Return -1 on failure."
   ]
  },
  {
   "cell_type": "code",
   "execution_count": null,
   "metadata": {
    "deletable": false,
    "nbgrader": {
     "cell_type": "code",
     "checksum": "c15937eb624107c388e37c2739c95378",
     "grade": false,
     "grade_id": "cell-f55edec9336761f9",
     "locked": false,
     "schema_version": 3,
     "solution": true,
     "task": false
    }
   },
   "outputs": [],
   "source": [
    "def findSubstr(string, substr):\n",
    "    \n",
    "    # YOUR CODE HERE\n",
    "    n=len(substr)\n",
    "    alist=[]\n",
    "    for i in range(len(string)+1):\n",
    "        m=string.find(substr,i,i+n)\n",
    "        if m==-1:\n",
    "            continue\n",
    "        else:\n",
    "            alist.append(m)\n",
    "    return alist"
   ]
  },
  {
   "cell_type": "code",
   "execution_count": null,
   "metadata": {
    "deletable": false,
    "editable": false,
    "nbgrader": {
     "cell_type": "code",
     "checksum": "4a2e703dd7fd5449388d5cc925045999",
     "grade": true,
     "grade_id": "cell-1eddbf23c0d24eb4",
     "locked": true,
     "points": 0.5,
     "schema_version": 3,
     "solution": false,
     "task": false
    }
   },
   "outputs": [],
   "source": [
    "assert findSubstr('Hello', 'l')==[2, 3]\n",
    "assert findSubstr('I love python', 'o')==[3, 11]\n",
    "assert findSubstr('Banana', 'na')==[2, 4]\n",
    "assert findSubstr('Good job', 'o')==[1, 2, 6]"
   ]
  },
  {
   "cell_type": "markdown",
   "metadata": {
    "deletable": false,
    "editable": false,
    "nbgrader": {
     "cell_type": "markdown",
     "checksum": "46ba758b786962db02e249fa91b99422",
     "grade": false,
     "grade_id": "cell-f6b51353da9e139b",
     "locked": true,
     "schema_version": 3,
     "solution": false,
     "task": false
    }
   },
   "source": [
    "# Problem 2 (0.5 point)\n",
    "\n",
    "Write a program to encode the string by spliting it by the middle and reverse the two substrings."
   ]
  },
  {
   "cell_type": "code",
   "execution_count": null,
   "metadata": {
    "deletable": false,
    "nbgrader": {
     "cell_type": "code",
     "checksum": "0ca517db61a8e89ad6fd3315c909254d",
     "grade": false,
     "grade_id": "cell-6e14d84ed557fa4d",
     "locked": false,
     "schema_version": 3,
     "solution": true,
     "task": false
    }
   },
   "outputs": [],
   "source": [
    "def encodeString(ori_str):\n",
    "    # YOUR CODE HERE\n",
    "    try:\n",
    "        n=len(ori_str)\n",
    "        left=ori_str[:n//2]\n",
    "        right=ori_str[n//2:]\n",
    "        Left=left[::-1]\n",
    "        Right=right[::-1]\n",
    "        return Left+Right\n",
    "    except:\n",
    "        n=len(ori_str)\n",
    "        n%2!=0\n",
    "        pass"
   ]
  },
  {
   "cell_type": "code",
   "execution_count": null,
   "metadata": {
    "deletable": false,
    "editable": false,
    "nbgrader": {
     "cell_type": "code",
     "checksum": "050d4eafc1d3734f2020037eb909d138",
     "grade": true,
     "grade_id": "cell-4ccb27702e3e4b9d",
     "locked": true,
     "points": 0.5,
     "schema_version": 3,
     "solution": false,
     "task": false
    }
   },
   "outputs": [],
   "source": [
    "assert encodeString('AaAaBbBb') == 'aAaAbBbB'\n",
    "assert encodeString('This lines must be printed backwards and splitted in the middle.') \\\n",
    "    == 'wkcab detnirp eb tsum senil sihT.elddim eht ni dettilps dna sdra'\n",
    "assert encodeString(encodeString('This lines must be printed backwards and splitted in the middle.')) \\\n",
    "    == 'This lines must be printed backwards and splitted in the middle.'\n",
    "assert encodeString('This is a very secret message!') \\\n",
    "    == ' yrev a si sihT!egassem terces'\n",
    "assert encodeString(encodeString('This is a very secret message!')) \\\n",
    "    == 'This is a very secret message!'\n",
    "assert encodeString('Happy programming~') \\\n",
    "    == 'orp yppaH~gnimmarg'\n",
    "assert encodeString(encodeString('Happy programming~')) \\\n",
    "    == 'Happy programming~'"
   ]
  },
  {
   "cell_type": "markdown",
   "metadata": {
    "deletable": false,
    "editable": false,
    "nbgrader": {
     "cell_type": "markdown",
     "checksum": "8340cefb8520527ea3dc9104f2d64b74",
     "grade": false,
     "grade_id": "cell-be756f3d58c721ae",
     "locked": true,
     "schema_version": 3,
     "solution": false,
     "task": false
    }
   },
   "source": [
    "# Problem 3 (1 point)\n",
    "\n",
    "Create a $9*9$ matrix:\n",
    "$$\n",
    " \\begin{bmatrix}\n",
    "   1 & 0 & 3 & 0 & 5 & 0 & 7 & 0 & 9\\\\\n",
    "   0 & 2 & 0 & 4 & 0 & 6 & 0 & 8 & 0\\\\\n",
    "   11 & 0 & 13 & 0 & 15 & 0 & 17 & 0 & 19\\\\\n",
    "   0 & 10 & 0 & 12 & 0 & 14 & 0 & 16 & 0\\\\\n",
    "   21 & 0 & 23 & 0 & 25 & 0 & 27 & 0 & 29\\\\\n",
    "   0 & 18 & 0 & 20 & 0 & 22 & 0 & 24 & 0\\\\\n",
    "   31 & 0 & 33 & 0 & 35 & 0 & 37 & 0 & 39\\\\\n",
    "   0 & 26 & 0 & 28 & 0 & 30 & 0 & 32 & 0\\\\\n",
    "   41 & 0 & 43 & 0 & 45 & 0 & 47 & 0 & 49\\\n",
    "  \\end{bmatrix}\n",
    "$$\n",
    "\n",
    "write a function to output this numpy matrix"
   ]
  },
  {
   "cell_type": "code",
   "execution_count": 12,
   "metadata": {
    "deletable": false,
    "nbgrader": {
     "cell_type": "code",
     "checksum": "674bab171d8887e1534970352586869d",
     "grade": false,
     "grade_id": "cell-dd0f5a15a60d8cf2",
     "locked": false,
     "schema_version": 3,
     "solution": true,
     "task": false
    }
   },
   "outputs": [],
   "source": [
    "import numpy as np\n",
    "def createMatrix():\n",
    "    # YOUR CODE HERE\n",
    "    matrix=np.full((9,9),0)\n",
    "    matrix[0,0]=1\n",
    "    matrix[0,2]=3\n",
    "    matrix[0,4]=5\n",
    "    matrix[0,6]=7\n",
    "    matrix[0,8]=9\n",
    "    for m in range(2,9,2):\n",
    "        matrix[m,0]=matrix[m-2,0]+10\n",
    "        matrix[m,2]=matrix[m-2,2]+10\n",
    "        matrix[m,4]=matrix[m-2,4]+10\n",
    "        matrix[m,6]=matrix[m-2,6]+10\n",
    "        matrix[m,8]=matrix[m-2,8]+10\n",
    "    matrix[1,1]=2\n",
    "    matrix[1,3]=4\n",
    "    matrix[1,5]=6\n",
    "    matrix[1,7]=8\n",
    "    for n in range(3,9,2):\n",
    "        matrix[n,1]=matrix[n-2,1]+8\n",
    "        matrix[n,3]=matrix[n-2,3]+8\n",
    "        matrix[n,5]=matrix[n-2,5]+8\n",
    "        matrix[n,7]=matrix[n-2,7]+8\n",
    "    return matrix"
   ]
  },
  {
   "cell_type": "code",
   "execution_count": 13,
   "metadata": {
    "deletable": false,
    "editable": false,
    "nbgrader": {
     "cell_type": "code",
     "checksum": "c03bae26678a01c6029a9cbaea22c89a",
     "grade": true,
     "grade_id": "cell-8ad47c5cae4358fb",
     "locked": true,
     "points": 1,
     "schema_version": 3,
     "solution": false,
     "task": false
    }
   },
   "outputs": [],
   "source": [
    "import numpy as np\n",
    "\n",
    "assert (createMatrix() == np.array([[ 1,  0,  3,  0,  5,  0,  7,  0,  9],\n",
    "                                       [ 0,  2,  0,  4,  0,  6,  0,  8,  0],\n",
    "                                       [11,  0, 13,  0, 15,  0, 17,  0, 19],\n",
    "                                       [ 0, 10,  0, 12,  0, 14,  0, 16,  0],\n",
    "                                       [21,  0, 23,  0, 25,  0, 27,  0, 29],\n",
    "                                       [ 0, 18,  0, 20,  0, 22,  0, 24,  0],\n",
    "                                       [31,  0, 33,  0, 35,  0, 37,  0, 39],\n",
    "                                       [ 0, 26,  0, 28,  0, 30,  0, 32,  0],\n",
    "                                       [41,  0, 43,  0, 45,  0, 47,  0, 49]])).all()"
   ]
  }
 ],
 "metadata": {
  "kernelspec": {
   "display_name": "Python 3",
   "language": "python",
   "name": "python3"
  },
  "language_info": {
   "codemirror_mode": {
    "name": "ipython",
    "version": 3
   },
   "file_extension": ".py",
   "mimetype": "text/x-python",
   "name": "python",
   "nbconvert_exporter": "python",
   "pygments_lexer": "ipython3",
   "version": "3.6.9"
  }
 },
 "nbformat": 4,
 "nbformat_minor": 1
}
