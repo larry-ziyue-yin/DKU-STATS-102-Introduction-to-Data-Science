{
 "cells": [
  {
   "cell_type": "markdown",
   "metadata": {},
   "source": [
    "Before you turn this problem in, make sure everything runs as expected. First, **restart the kernel** (in the menubar, select Kernel$\\rightarrow$Restart) and then **run all cells** (in the menubar, select Cell$\\rightarrow$Run All).\n",
    "\n",
    "Make sure you fill in any place that says `YOUR CODE HERE` or \"YOUR ANSWER HERE\", as well as your name and collaborators below:"
   ]
  },
  {
   "cell_type": "code",
   "execution_count": null,
   "metadata": {},
   "outputs": [],
   "source": [
    "NAME = \"Ziyue Yin\"\n",
    "COLLABORATORS = \"\""
   ]
  },
  {
   "cell_type": "markdown",
   "metadata": {},
   "source": [
    "---"
   ]
  },
  {
   "cell_type": "markdown",
   "metadata": {
    "deletable": false,
    "editable": false,
    "nbgrader": {
     "cell_type": "markdown",
     "checksum": "dfdd537b2173ecdec0582ade11058b29",
     "grade": false,
     "grade_id": "cell-9f1f9ac6cd7b8166",
     "locked": true,
     "schema_version": 3,
     "solution": false
    }
   },
   "source": [
    "Weekly mini-project 1, STATS102 Fall 2022 Session 1, Duke Kunshan University, Due at Aug 29th 1:15pm Beijing time\n",
    "![](dku.jpg)\n",
    "For this problem set, we'll be using the Jupyter notebook:\n",
    "![](jupyter.png) "
   ]
  },
  {
   "cell_type": "markdown",
   "metadata": {
    "deletable": false,
    "editable": false,
    "nbgrader": {
     "cell_type": "markdown",
     "checksum": "fc0bf01174385b8c7bf3267565f92083",
     "grade": false,
     "grade_id": "cell-38c46d1897f33426",
     "locked": true,
     "schema_version": 3,
     "solution": false
    }
   },
   "source": [
    "# problem 1 (0.6 point) \n",
    "Given a list of integers, return indices of the two numbers such that they add up to a specific target.\n",
    "\n",
    "Indices should be in an increasing order\n",
    "\n",
    "You may assume that each input would have exactly one solution, and you may not use the same element twice."
   ]
  },
  {
   "cell_type": "code",
   "execution_count": 65,
   "metadata": {
    "deletable": false,
    "nbgrader": {
     "cell_type": "code",
     "checksum": "e39182ec00ea9af12aa66081a4aa1672",
     "grade": false,
     "grade_id": "TwoSum",
     "locked": false,
     "schema_version": 3,
     "solution": true
    }
   },
   "outputs": [],
   "source": [
    "def TwoSum(nums, target):\n",
    "    \"\"\"\n",
    "    :type nums: List[int]\n",
    "    :type target: int\n",
    "    :rtype: List[int]\n",
    "    \"\"\"\n",
    "    # YOUR CODE HERE\n",
    "    for i in range(len(nums)):\n",
    "        for j in range(i+1, len(nums)):\n",
    "            if nums[i] + nums[j] == target:\n",
    "                return [i, j]"
   ]
  },
  {
   "cell_type": "code",
   "execution_count": 66,
   "metadata": {
    "deletable": false,
    "editable": false,
    "nbgrader": {
     "cell_type": "code",
     "checksum": "7dc3861057facd41e715d304cec915bc",
     "grade": true,
     "grade_id": "TwoSum_test",
     "locked": true,
     "points": 0.6,
     "schema_version": 3,
     "solution": false
    }
   },
   "outputs": [],
   "source": [
    "'''this TwoSum function should pass the following tests'''\n",
    "assert (TwoSum([2, 7, 11, 15],9)==[0,1])\n",
    "assert (TwoSum([3,2,4],6)==[1,2])\n",
    "assert (TwoSum([0,4,3,0],0)==[0,3])\n",
    "assert (TwoSum([-1,-2,-3,-4,-5],-8)==[2,4])\n",
    "\n"
   ]
  },
  {
   "cell_type": "markdown",
   "metadata": {
    "deletable": false,
    "editable": false,
    "nbgrader": {
     "cell_type": "markdown",
     "checksum": "fc848542a861abd40d4c60a7bb03da9e",
     "grade": false,
     "grade_id": "cell-b9ded7066fd543aa",
     "locked": true,
     "schema_version": 3,
     "solution": false,
     "task": false
    }
   },
   "source": [
    "# problem 2 (0.6 point) \n",
    "Given a 32-bit signed integer, reverse digits of an integer.\n",
    "If the return number is outside this range \\\\( [-2^{31},2^{31}-1] \\\\), then return 0\n",
    "\n",
    "example:  input 12345  output 54321"
   ]
  },
  {
   "cell_type": "code",
   "execution_count": 67,
   "metadata": {},
   "outputs": [
    {
     "name": "stdout",
     "output_type": "stream",
     "text": [
      "402r82938r5y1724\n"
     ]
    }
   ],
   "source": [
    "a='4271y5r83928r204'\n",
    "print(a[::-1])"
   ]
  },
  {
   "cell_type": "code",
   "execution_count": 68,
   "metadata": {
    "deletable": false,
    "nbgrader": {
     "cell_type": "code",
     "checksum": "de605ded0820dcb35fe18c2d981184d5",
     "grade": false,
     "grade_id": "myreverse",
     "locked": false,
     "schema_version": 3,
     "solution": true
    }
   },
   "outputs": [],
   "source": [
    "def myreverse(x):\n",
    "    ''':type x: int\n",
    "       :rtype: int\n",
    "    '''\n",
    "    # YOUR CODE HERE\n",
    "    z=str(x)\n",
    "    if type(x)!= int:\n",
    "        return 0\n",
    "    elif -2**31>x or x>2**31:\n",
    "        return 0\n",
    "    elif z[0]=='-':\n",
    "        z=z[1:]\n",
    "        m=z[::-1]\n",
    "        n=int(m)\n",
    "        if -2**31>n or n>2**31:\n",
    "            return 0\n",
    "        else:\n",
    "            return -n\n",
    "    else:\n",
    "        y=z[::-1]\n",
    "        if y[0]=='0':\n",
    "            o=int(y[1:])\n",
    "            if -2**31>o or o>2**31:\n",
    "                return 0\n",
    "            else:\n",
    "                return o\n",
    "        else:\n",
    "            p=int(y[:])\n",
    "            if -2**31>p or p>2**31:\n",
    "                return 0\n",
    "            else:\n",
    "                return p"
   ]
  },
  {
   "cell_type": "code",
   "execution_count": 69,
   "metadata": {
    "deletable": false,
    "editable": false,
    "nbgrader": {
     "cell_type": "code",
     "checksum": "7903c7663f38a5a86ec159fc50fd85c5",
     "grade": true,
     "grade_id": "myreverse_test",
     "locked": true,
     "points": 0.6,
     "schema_version": 3,
     "solution": false
    }
   },
   "outputs": [],
   "source": [
    "assert(myreverse(120)==21)\n",
    "assert(myreverse(123)==321)\n",
    "assert(myreverse(-123)==-321)\n",
    "assert(myreverse(1534236469)==0)"
   ]
  },
  {
   "cell_type": "markdown",
   "metadata": {
    "deletable": false,
    "editable": false,
    "nbgrader": {
     "cell_type": "markdown",
     "checksum": "8f9d103cfea2433023f35901f9e997be",
     "grade": false,
     "grade_id": "cell-673cd33fbd2d88fd",
     "locked": true,
     "schema_version": 3,
     "solution": false,
     "task": false
    }
   },
   "source": [
    "# Problem 3 (0.6 point) \n",
    "Write a function to find the longest common prefix string amongst a list of strings.\n",
    "\n",
    "If there is no common prefix, return an empty string ''.\n",
    "\n",
    "example: input ['what','where','who']     output 'wh'"
   ]
  },
  {
   "cell_type": "code",
   "execution_count": 70,
   "metadata": {
    "deletable": false,
    "nbgrader": {
     "cell_type": "code",
     "checksum": "b20c14deba6d1cbd413e5f07b0540a62",
     "grade": false,
     "grade_id": "longestCommonPrefix",
     "locked": false,
     "schema_version": 3,
     "solution": true
    }
   },
   "outputs": [],
   "source": [
    "def longestCommonPrefix(strs):\n",
    "    \"\"\"\n",
    "    :type strs: List[str]\n",
    "    :rtype: str\n",
    "    \"\"\"\n",
    "    # YOUR CODE HERE\n",
    "    result = strs[0]\n",
    "    for i, v in enumerate(strs[1:]):\n",
    "        while not v.startswith(result):\n",
    "            result = result[:-1]\n",
    "            if not result:\n",
    "                return \"\"\n",
    "    return result"
   ]
  },
  {
   "cell_type": "code",
   "execution_count": 71,
   "metadata": {
    "deletable": false,
    "editable": false,
    "nbgrader": {
     "cell_type": "code",
     "checksum": "f94cbd64aad04be0419f6c07e986c0b1",
     "grade": true,
     "grade_id": "longestCommonPrefix_test",
     "locked": true,
     "points": 0.6,
     "schema_version": 3,
     "solution": false
    }
   },
   "outputs": [],
   "source": [
    "assert longestCommonPrefix([\"flower\",\"flow\",\"flight\"])=='fl'\n",
    "assert longestCommonPrefix(['what','where','who'] )=='wh'"
   ]
  },
  {
   "cell_type": "markdown",
   "metadata": {
    "deletable": false,
    "editable": false,
    "nbgrader": {
     "cell_type": "markdown",
     "checksum": "de362fc0ca97eec2d99fd6c21250eefb",
     "grade": false,
     "grade_id": "cell-02e4ce6d6f44a65e",
     "locked": true,
     "schema_version": 3,
     "solution": false,
     "task": false
    }
   },
   "source": [
    "# Problem 4 (0.6 point) \n",
    "Find the median of an integer list (don't directly call the system built-in function)."
   ]
  },
  {
   "cell_type": "code",
   "execution_count": 96,
   "metadata": {
    "deletable": false,
    "nbgrader": {
     "cell_type": "code",
     "checksum": "f038c082e99469273e2c93fa3782e827",
     "grade": false,
     "grade_id": "cell-87d12d67d86866ab",
     "locked": false,
     "schema_version": 3,
     "solution": true,
     "task": false
    }
   },
   "outputs": [],
   "source": [
    "def myMedian(int_list):\n",
    "    \"\"\"\n",
    "    :type int_list: List[int]\n",
    "    :rtype: float\n",
    "    \"\"\"\n",
    "    # YOUR CODE HERE\n",
    "    for i in range(len(int_list)):\n",
    "        for j in range(len(int_list)-i-1):\n",
    "            if int_list[j]>int_list[j+1]:\n",
    "                int_list[j],int_list[j+1]=int_list[j+1],int_list[j]\n",
    "    a=int_list\n",
    "    if len(a)==1:\n",
    "        return a[0]\n",
    "    if len(a)%2==0:\n",
    "        m=((a[int(len(a)/2-1)])+(a[int(len(a)/2)]))/2\n",
    "        return m\n",
    "    else:\n",
    "        n=a[int((len(a)-1)/2)]\n",
    "        return n"
   ]
  },
  {
   "cell_type": "code",
   "execution_count": 95,
   "metadata": {
    "deletable": false,
    "editable": false,
    "nbgrader": {
     "cell_type": "code",
     "checksum": "9a40c034c97f18290941bf1b6cf13514",
     "grade": true,
     "grade_id": "cell-54d5a6421110bfda",
     "locked": true,
     "points": 0.6,
     "schema_version": 3,
     "solution": false,
     "task": false
    }
   },
   "outputs": [],
   "source": [
    "assert myMedian([1,2,3,4]) == 2.5\n",
    "assert myMedian([9,7,8]) == 8\n",
    "assert myMedian([10]) == 10\n",
    "assert myMedian([-1,2,-3,4]) == 0.5"
   ]
  },
  {
   "cell_type": "markdown",
   "metadata": {
    "deletable": false,
    "editable": false,
    "nbgrader": {
     "cell_type": "markdown",
     "checksum": "78567929e5ccfb91f1ecf33ff61277e6",
     "grade": false,
     "grade_id": "cell-627d44d37a74388a",
     "locked": true,
     "schema_version": 3,
     "solution": false,
     "task": false
    }
   },
   "source": [
    "# Problem 5 (0.6 point) \n",
    "\n",
    "Given a list of characters letters containing only lowercase letters and a target letter, write a function to find the smallest element in the list that is larger than the given target."
   ]
  },
  {
   "cell_type": "code",
   "execution_count": 89,
   "metadata": {
    "deletable": false,
    "nbgrader": {
     "cell_type": "code",
     "checksum": "380da1fa16838afd2290fcd3b8f9a604",
     "grade": false,
     "grade_id": "cell-2bc93ebbf1d591fe",
     "locked": false,
     "schema_version": 3,
     "solution": true,
     "task": false
    }
   },
   "outputs": [],
   "source": [
    "def findLetter(letters, target):\n",
    "    \"\"\"\n",
    "    :type letters: List[str]\n",
    "    :type target: str\n",
    "    :rtype: str\n",
    "    \"\"\"\n",
    "# YOUR CODE HERE\n",
    "    m=[]\n",
    "    for i in letters:\n",
    "        if i > target:\n",
    "            m.append(i)\n",
    "        else:\n",
    "            continue\n",
    "    n=sorted(m)\n",
    "    return n[0]"
   ]
  },
  {
   "cell_type": "code",
   "execution_count": 91,
   "metadata": {
    "deletable": false,
    "editable": false,
    "nbgrader": {
     "cell_type": "code",
     "checksum": "53f34cacbebe95ae62b47d38db5386de",
     "grade": true,
     "grade_id": "cell-e00f009e6ec3b5c1",
     "locked": true,
     "points": 0.6,
     "schema_version": 3,
     "solution": false,
     "task": false
    }
   },
   "outputs": [],
   "source": [
    "'''this findLetter function should pass the following tests'''\n",
    "assert (findLetter(['a', 'b', 'c', 'd'],'a')=='b')\n",
    "assert (findLetter(['g','i','j'],'h')=='i')\n",
    "assert (findLetter(['c','c','p','o'],'c')=='o')\n",
    "assert (findLetter(['d','c','f','k','g'],'a')=='c')"
   ]
  },
  {
   "cell_type": "markdown",
   "metadata": {
    "deletable": false,
    "editable": false,
    "nbgrader": {
     "cell_type": "markdown",
     "checksum": "300d58b8311120160594f90badcced0a",
     "grade": false,
     "grade_id": "cell-4573b7b356befc93",
     "locked": true,
     "schema_version": 3,
     "solution": false
    }
   },
   "source": [
    "congratulations! Have a nice weekend!"
   ]
  }
 ],
 "metadata": {
  "kernelspec": {
   "display_name": "Python 3",
   "language": "python",
   "name": "python3"
  },
  "language_info": {
   "codemirror_mode": {
    "name": "ipython",
    "version": 3
   },
   "file_extension": ".py",
   "mimetype": "text/x-python",
   "name": "python",
   "nbconvert_exporter": "python",
   "pygments_lexer": "ipython3",
   "version": "3.6.9"
  }
 },
 "nbformat": 4,
 "nbformat_minor": 2
}
