{
 "cells": [
  {
   "cell_type": "markdown",
   "metadata": {},
   "source": [
    "Before you turn this problem in, make sure everything runs as expected. First, **restart the kernel** (in the menubar, select Kernel$\\rightarrow$Restart) and then **run all cells** (in the menubar, select Cell$\\rightarrow$Run All).\n",
    "\n",
    "Make sure you fill in any place that says `YOUR CODE HERE` or \"YOUR ANSWER HERE\", as well as your name and collaborators below:"
   ]
  },
  {
   "cell_type": "code",
   "execution_count": 1,
   "metadata": {},
   "outputs": [],
   "source": [
    "NAME = \"Ziyue Yin\"\n",
    "COLLABORATORS = \"\""
   ]
  },
  {
   "cell_type": "markdown",
   "metadata": {},
   "source": [
    "---"
   ]
  },
  {
   "cell_type": "markdown",
   "metadata": {
    "deletable": false,
    "editable": false,
    "nbgrader": {
     "cell_type": "markdown",
     "checksum": "9168a837d0002d4e0738de26275600bc",
     "grade": false,
     "grade_id": "cell-9f1f9ac6cd7b8166",
     "locked": true,
     "schema_version": 3,
     "solution": false
    }
   },
   "source": [
    "Weekly mini-project 2, STATS102 Fall 2022 Session 1, Duke Kunshan University, Due at Sep 5th 1:15pm beijing time\n",
    "![](dku.jpg)\n",
    "For this problem set, we'll be using the Jupyter notebook:\n",
    "![](jupyter.png) "
   ]
  },
  {
   "cell_type": "markdown",
   "metadata": {
    "deletable": false,
    "editable": false,
    "nbgrader": {
     "cell_type": "markdown",
     "checksum": "d721986953adf8bffb1ee3ebb51a3650",
     "grade": false,
     "grade_id": "cell-38c46d1897f33426",
     "locked": true,
     "schema_version": 3,
     "solution": false
    }
   },
   "source": [
    "# problem 1 (0.5 point) \n",
    "There are 13 lamps on the table. Starting from 1, we turn off the lamp at every 5th, when the count reach 13, start from 1 again. Write a function that return the order of lamps being turned off. In this case, the return list would be [5, 10, 2, 8, 1, 9, 4, 13, 12, 3, 7, 11, 6]. Note that the turn-off lamps would not count again."
   ]
  },
  {
   "cell_type": "code",
   "execution_count": 2,
   "metadata": {
    "deletable": false,
    "nbgrader": {
     "cell_type": "code",
     "checksum": "36e996f496754cd4bebc76ce7607a8f1",
     "grade": false,
     "grade_id": "cell-06952d5f38104138",
     "locked": false,
     "schema_version": 3,
     "solution": true
    }
   },
   "outputs": [],
   "source": [
    "def turn_off_order():\n",
    "    # YOUR CODE HERE\n",
    "    lst=[13]+[i for i in range(1,13)]\n",
    "    ans=[]\n",
    "    index=0\n",
    "    for i in range(13):\n",
    "        index=(index+5)%(13-i)\n",
    "        ans.append(lst[index])\n",
    "        del lst[index]\n",
    "        index-=1\n",
    "    return ans"
   ]
  },
  {
   "cell_type": "code",
   "execution_count": 3,
   "metadata": {
    "deletable": false,
    "editable": false,
    "nbgrader": {
     "cell_type": "code",
     "checksum": "51a8bd4e6b850c0b3d2b689fb438390b",
     "grade": true,
     "grade_id": "cell-bf13653d315bd398",
     "locked": true,
     "points": 0.5,
     "schema_version": 3,
     "solution": false
    }
   },
   "outputs": [],
   "source": [
    "assert turn_off_order() == [5, 10, 2, 8, 1, 9, 4, 13, 12, 3, 7, 11, 6]"
   ]
  },
  {
   "cell_type": "markdown",
   "metadata": {
    "deletable": false,
    "editable": false,
    "nbgrader": {
     "cell_type": "markdown",
     "checksum": "0b0ede2c076d14ab04c72c19fc33c469",
     "grade": false,
     "grade_id": "cell-b44fda9abf6d3588",
     "locked": true,
     "schema_version": 3,
     "solution": false
    }
   },
   "source": [
    "# problem 2 (0.4 point) \n",
    "According to problem 1, what if we have different number of lamps, and start at a lamp other than the first lamp. Even more, when we turn off the lamp at every kth. Write a function that aquire 3 numbers, represented the number of lamps, start from which lamp, when to turn off a lamp, and return the turn-off order."
   ]
  },
  {
   "cell_type": "code",
   "execution_count": 4,
   "metadata": {
    "deletable": false,
    "nbgrader": {
     "cell_type": "code",
     "checksum": "b6c3a606fdc20ef7aeb77190354dec8f",
     "grade": false,
     "grade_id": "cell-b47caf9d62efd4e1",
     "locked": false,
     "schema_version": 3,
     "solution": true
    }
   },
   "outputs": [],
   "source": [
    "def turn_off_order_upgrade(lamps_num, start, k):\n",
    "    ''' lamps_num : the number of lamps\n",
    "       start: the start lamp\n",
    "       k: turn off the lamp at every k-th lamp\n",
    "    '''\n",
    "    # YOUR CODE HERE\n",
    "    lst=[lamps_num]+[i for i in range(1,lamps_num)]\n",
    "    ans=[]\n",
    "    index=start-1\n",
    "    for i in range(lamps_num):\n",
    "        index=(index+k)%(lamps_num-i)\n",
    "        ans.append(lst[index])\n",
    "        del lst[index]\n",
    "        index-=1\n",
    "    return ans"
   ]
  },
  {
   "cell_type": "code",
   "execution_count": 5,
   "metadata": {
    "deletable": false,
    "editable": false,
    "nbgrader": {
     "cell_type": "code",
     "checksum": "e44726eb1a9f8086b1cca313de9c3767",
     "grade": true,
     "grade_id": "cell-aac34bc3384ca811",
     "locked": true,
     "points": 0.4,
     "schema_version": 3,
     "solution": false
    }
   },
   "outputs": [],
   "source": [
    "assert turn_off_order_upgrade(13, 2, 6) == [7, 13, 6, 1, 9, 4, 2, 12, 3, 8, 5, 11, 10]\n",
    "assert turn_off_order_upgrade(13, 1, 5) == [5, 10, 2, 8, 1, 9, 4, 13, 12, 3, 7, 11, 6]\n",
    "assert turn_off_order_upgrade(23, 12, 4) == [15, 19, 23, 4, 8, 12, 17, 22, 5, 10, 16, 1, 7, 14, 2, 11, 21, 13, 6, 3, 9, 20, 18]"
   ]
  },
  {
   "cell_type": "markdown",
   "metadata": {
    "deletable": false,
    "editable": false,
    "nbgrader": {
     "cell_type": "markdown",
     "checksum": "81daa16ec30103be6fbf4b8f682717c9",
     "grade": false,
     "grade_id": "cell-895ff9ee18aa27f4",
     "locked": true,
     "schema_version": 3,
     "solution": false,
     "task": false
    }
   },
   "source": [
    "# Problem 3 (0.3 point) \n",
    "\n",
    "Find the minimum value of each row for a given 2D matrix."
   ]
  },
  {
   "cell_type": "code",
   "execution_count": 6,
   "metadata": {
    "deletable": false,
    "nbgrader": {
     "cell_type": "code",
     "checksum": "3c617fa94234d128f9f555a992af9cc7",
     "grade": false,
     "grade_id": "cell-413652036a3b4661",
     "locked": false,
     "schema_version": 3,
     "solution": true,
     "task": false
    }
   },
   "outputs": [],
   "source": [
    "import numpy as np\n",
    "\n",
    "def findMin(mat):\n",
    "    # YOUR CODE HERE\n",
    "    return np.min(mat, axis=1)"
   ]
  },
  {
   "cell_type": "code",
   "execution_count": 7,
   "metadata": {
    "deletable": false,
    "editable": false,
    "nbgrader": {
     "cell_type": "code",
     "checksum": "45ef653c51f33e1482adc9454474d839",
     "grade": true,
     "grade_id": "cell-4851a061070d469d",
     "locked": true,
     "points": 0.3,
     "schema_version": 3,
     "solution": false,
     "task": false
    }
   },
   "outputs": [],
   "source": [
    "import numpy as np\n",
    "\n",
    "a = np.arange(1,10).reshape((3,3))\n",
    "assert (findMin(a) == np.array([1, 4, 7])).all\n",
    "\n",
    "b = np.linspace(0, 10, 21).reshape((7,3))\n",
    "assert (findMin(b) == np.array([0., 1.5, 3., 4.5, 6., 7.5, 9.])).all()\n",
    "\n",
    "c = np.linspace(0, 10, 20).reshape((4,5))\n",
    "assert ~(findMin(c) == np.array([0., 2.63157895, 5.26315789, 7.89473684])).all()"
   ]
  },
  {
   "cell_type": "markdown",
   "metadata": {
    "deletable": false,
    "editable": false,
    "nbgrader": {
     "cell_type": "markdown",
     "checksum": "55e851f81cd724ca730c0d41fb6b9fd9",
     "grade": false,
     "grade_id": "cell-6c5e72ce8280f059",
     "locked": true,
     "schema_version": 3,
     "solution": false,
     "task": false
    }
   },
   "source": [
    "# Problem 4 (0.3 point)\n",
    "\n",
    "Given two 2D matrices, write a function to judge whether they have the same shape."
   ]
  },
  {
   "cell_type": "code",
   "execution_count": 8,
   "metadata": {
    "deletable": false,
    "nbgrader": {
     "cell_type": "code",
     "checksum": "a29e5a1bccc94232e45b28f2aa9a5e6a",
     "grade": false,
     "grade_id": "cell-6da4d6fe553f2c3a",
     "locked": false,
     "schema_version": 3,
     "solution": true,
     "task": false
    }
   },
   "outputs": [],
   "source": [
    "import numpy as np\n",
    "\n",
    "def judgeShape(A, B):\n",
    "    # YOUR CODE HERE\n",
    "    (r1,c1)=A.shape\n",
    "    (r2,c2)=B.shape\n",
    "    return r1==r2 and c1==c2"
   ]
  },
  {
   "cell_type": "code",
   "execution_count": 9,
   "metadata": {
    "deletable": false,
    "editable": false,
    "nbgrader": {
     "cell_type": "code",
     "checksum": "9cde3b23449348aa7b423447bed9a52f",
     "grade": true,
     "grade_id": "cell-4b461a8e76c611b7",
     "locked": true,
     "points": 0.3,
     "schema_version": 3,
     "solution": false,
     "task": false
    }
   },
   "outputs": [],
   "source": [
    "import numpy as np\n",
    "\n",
    "A1 = np.arange(25).reshape(5,5)\n",
    "B1 = np.arange(20).reshape(4,5)\n",
    "assert judgeShape(A1, B1) == False\n",
    "\n",
    "A2 = np.arange(40).reshape(8,5)\n",
    "B2 = np.arange(8).reshape(8,1)\n",
    "assert judgeShape(A2, B2) == False\n",
    "\n",
    "A3 = np.arange(25).reshape(5,5)\n",
    "B3 = np.arange(0,50,2).reshape(5,5)\n",
    "assert judgeShape(A3, B3) == True"
   ]
  },
  {
   "cell_type": "markdown",
   "metadata": {
    "deletable": false,
    "editable": false,
    "nbgrader": {
     "cell_type": "markdown",
     "checksum": "234d67af38be0a6c0610bc93711473f7",
     "grade": false,
     "grade_id": "cell-27454763dbdd8085",
     "locked": true,
     "schema_version": 3,
     "solution": false,
     "task": false
    }
   },
   "source": [
    "# Problem5 (0.4 point)\n",
    "\n",
    "Given a list `strList` of strings made only from lowercase letters, return a list of all characters that show up in all strings within the list (no duplicates).\n",
    "\n",
    "The answer is in ascending sorted order."
   ]
  },
  {
   "cell_type": "code",
   "execution_count": 10,
   "metadata": {
    "deletable": false,
    "nbgrader": {
     "cell_type": "code",
     "checksum": "f8c242b922c1d0c5c222f052a27a77df",
     "grade": false,
     "grade_id": "cell-82e2f5928a22758d",
     "locked": false,
     "schema_version": 3,
     "solution": true,
     "task": false
    }
   },
   "outputs": [],
   "source": [
    "def commonChars(strList):\n",
    "    # YOUR CODE HERE\n",
    "    longest=strList[0]\n",
    "    for i in range(len(strList)):\n",
    "        if len(strList[i])>len(longest):\n",
    "            longest=strList[i]\n",
    "        else:\n",
    "            continue\n",
    "    alist=[]\n",
    "    for j in strList:\n",
    "        if j==longest:\n",
    "            continue\n",
    "        else:\n",
    "            alist.append(j)\n",
    "    n=len(alist)\n",
    "    blist=[]\n",
    "    for k in range(len(longest)):\n",
    "        for l in range(n):\n",
    "            if longest[k] not in alist[l]:\n",
    "                break\n",
    "            elif l<n-1:\n",
    "                continue\n",
    "            elif l==n-1:\n",
    "                blist.append(longest[k])\n",
    "    clist=sorted(list(set(blist)))\n",
    "    return clist"
   ]
  },
  {
   "cell_type": "code",
   "execution_count": 11,
   "metadata": {},
   "outputs": [
    {
     "data": {
      "text/plain": [
       "['c', 'o']"
      ]
     },
     "execution_count": 11,
     "metadata": {},
     "output_type": "execute_result"
    }
   ],
   "source": [
    "commonChars(['cool','lock','cook'])"
   ]
  },
  {
   "cell_type": "code",
   "execution_count": 12,
   "metadata": {},
   "outputs": [
    {
     "data": {
      "text/plain": [
       "['a']"
      ]
     },
     "execution_count": 12,
     "metadata": {},
     "output_type": "execute_result"
    }
   ],
   "source": [
    "commonChars(['apple','banana','peach']) "
   ]
  },
  {
   "cell_type": "code",
   "execution_count": 13,
   "metadata": {},
   "outputs": [
    {
     "data": {
      "text/plain": [
       "['k', 'o']"
      ]
     },
     "execution_count": 13,
     "metadata": {},
     "output_type": "execute_result"
    }
   ],
   "source": [
    "commonChars(['book','cook','look'])"
   ]
  },
  {
   "cell_type": "code",
   "execution_count": 14,
   "metadata": {
    "deletable": false,
    "editable": false,
    "nbgrader": {
     "cell_type": "code",
     "checksum": "26f99d7ca817cb2d8709f9b43c5f9a7f",
     "grade": true,
     "grade_id": "cell-447d90122b0aaf79",
     "locked": true,
     "points": 0.4,
     "schema_version": 3,
     "solution": false,
     "task": false
    }
   },
   "outputs": [],
   "source": [
    "assert commonChars(['bella','label','roller']) == ['e','l']\n",
    "assert commonChars(['cool','lock','cook']) == ['c', 'o']\n",
    "assert commonChars(['apple','banana','peach']) == ['a']\n",
    "assert commonChars(['book','cook','look']) == ['k', 'o']"
   ]
  },
  {
   "cell_type": "markdown",
   "metadata": {
    "deletable": false,
    "editable": false,
    "nbgrader": {
     "cell_type": "markdown",
     "checksum": "65428d5eb1d5f56c8d62840c26ace43b",
     "grade": false,
     "grade_id": "cell-5e3e967521d20da1",
     "locked": true,
     "schema_version": 3,
     "solution": false,
     "task": false
    }
   },
   "source": [
    "# Problem6 (0.4 point)\n",
    "\n",
    "Find the product of the maximum and minimum numbers occuring in `regex_sum_320982.txt` and `regex_sum_42.txt`.\n",
    "\n",
    "（modified from Python for everyone regular expression assignments）"
   ]
  },
  {
   "cell_type": "code",
   "execution_count": 15,
   "metadata": {
    "deletable": false,
    "nbgrader": {
     "cell_type": "code",
     "checksum": "0faf1b814052b8ab09079c6bef272fb5",
     "grade": false,
     "grade_id": "cell-1cb5eb02bead76e2",
     "locked": false,
     "schema_version": 3,
     "solution": true,
     "task": false
    }
   },
   "outputs": [],
   "source": [
    "import re\n",
    "def find_product(file):\n",
    "    f=open(file)\n",
    "    alist=[]\n",
    "    for line in f.readlines():\n",
    "        numbers=re.findall(r\"\\d+\\.?\\d*\",line)\n",
    "        if numbers==[]:\n",
    "            continue\n",
    "        else:\n",
    "            if len(numbers)>1:\n",
    "                for i in range(len(numbers)):\n",
    "                    alist.append(int(numbers[i]))\n",
    "            else:\n",
    "                alist.append(int(numbers[0]))\n",
    "        m=sorted(alist)\n",
    "        r=m[::-1]\n",
    "    return int(r[0])*int(m[0])"
   ]
  },
  {
   "cell_type": "code",
   "execution_count": 16,
   "metadata": {},
   "outputs": [
    {
     "data": {
      "text/plain": [
       "29385"
      ]
     },
     "execution_count": 16,
     "metadata": {},
     "output_type": "execute_result"
    }
   ],
   "source": [
    "find_product('regex_sum_42.txt')"
   ]
  },
  {
   "cell_type": "code",
   "execution_count": 17,
   "metadata": {},
   "outputs": [
    {
     "data": {
      "text/plain": [
       "29682"
      ]
     },
     "execution_count": 17,
     "metadata": {},
     "output_type": "execute_result"
    }
   ],
   "source": [
    "find_product('regex_sum_320982.txt')"
   ]
  },
  {
   "cell_type": "code",
   "execution_count": 18,
   "metadata": {
    "deletable": false,
    "editable": false,
    "nbgrader": {
     "cell_type": "code",
     "checksum": "20e22a060d87b3c7365f29200771c8ba",
     "grade": true,
     "grade_id": "cell-82183aa329825131",
     "locked": true,
     "points": 0.4,
     "schema_version": 3,
     "solution": false,
     "task": false
    },
    "scrolled": true
   },
   "outputs": [],
   "source": [
    "assert find_product('regex_sum_42.txt') == 29385\n",
    "assert find_product('regex_sum_320982.txt') == 29682"
   ]
  },
  {
   "cell_type": "markdown",
   "metadata": {
    "deletable": false,
    "editable": false,
    "nbgrader": {
     "cell_type": "markdown",
     "checksum": "ef028ab5b40dedf874d19cc02e5991c2",
     "grade": false,
     "grade_id": "cell-6285b8854e244db2",
     "locked": true,
     "schema_version": 3,
     "solution": false,
     "task": false
    }
   },
   "source": [
    "# Problem 7 (0.3 point)\n",
    "\n",
    "A shift on a string consists of taking the string and moving the leftmost character to the rightmost position. For example, if Str(A) = `abcde`, then it will be `bcdea` after one shift on it.\n",
    "\n",
    "Given two strings: A and B, please write a function to judge whether A can become B after some number of shifts on A."
   ]
  },
  {
   "cell_type": "code",
   "execution_count": 19,
   "metadata": {
    "deletable": false,
    "nbgrader": {
     "cell_type": "code",
     "checksum": "b4af09799dafc4dbc17f165d596d2669",
     "grade": false,
     "grade_id": "cell-d9d13bb04a63a0ec",
     "locked": false,
     "schema_version": 3,
     "solution": true,
     "task": false
    }
   },
   "outputs": [],
   "source": [
    "def str_shift(A, B):\n",
    "    # YOUR CODE HERE\n",
    "    if len(A)!=len(B):\n",
    "        return False\n",
    "    else:\n",
    "        n=len(A)\n",
    "        m=0\n",
    "        while m<n:\n",
    "            A=A[1:]+A[0]\n",
    "            if A==B:\n",
    "                m=m+1\n",
    "                return True\n",
    "            elif A!=B:\n",
    "                m=m+1\n",
    "                continue\n",
    "        while m==n:\n",
    "            if A==B:\n",
    "                return True\n",
    "            else:\n",
    "                return False"
   ]
  },
  {
   "cell_type": "code",
   "execution_count": 20,
   "metadata": {},
   "outputs": [
    {
     "data": {
      "text/plain": [
       "False"
      ]
     },
     "execution_count": 20,
     "metadata": {},
     "output_type": "execute_result"
    }
   ],
   "source": [
    "str_shift('ab','a')"
   ]
  },
  {
   "cell_type": "code",
   "execution_count": 21,
   "metadata": {},
   "outputs": [
    {
     "data": {
      "text/plain": [
       "True"
      ]
     },
     "execution_count": 21,
     "metadata": {},
     "output_type": "execute_result"
    }
   ],
   "source": [
    "str_shift('aeiou','ouaei')"
   ]
  },
  {
   "cell_type": "code",
   "execution_count": 22,
   "metadata": {},
   "outputs": [
    {
     "data": {
      "text/plain": [
       "True"
      ]
     },
     "execution_count": 22,
     "metadata": {},
     "output_type": "execute_result"
    }
   ],
   "source": [
    "str_shift('bdffff','ffffbd')"
   ]
  },
  {
   "cell_type": "code",
   "execution_count": 23,
   "metadata": {
    "deletable": false,
    "editable": false,
    "nbgrader": {
     "cell_type": "code",
     "checksum": "7cc2360d3c84eca5370107d2395a85d1",
     "grade": true,
     "grade_id": "cell-de462268a22cf6cd",
     "locked": true,
     "points": 0.3,
     "schema_version": 3,
     "solution": false,
     "task": false
    }
   },
   "outputs": [],
   "source": [
    "# assert str_shift('aa','a') == False\n",
    "assert str_shift('ab','a') == False\n",
    "assert str_shift('aeiou','ouaei') == True\n",
    "assert str_shift('bdffff','ffffbd') == True"
   ]
  },
  {
   "cell_type": "markdown",
   "metadata": {
    "deletable": false,
    "editable": false,
    "nbgrader": {
     "cell_type": "markdown",
     "checksum": "b17dc73b24cb99e72c159f2af5fc6fd3",
     "grade": false,
     "grade_id": "cell-edac64c123bd84ee",
     "locked": true,
     "schema_version": 3,
     "solution": false,
     "task": false
    }
   },
   "source": [
    "# Problem 8 (0.4 point)\n",
    "\n",
    "\n",
    "Insert three zeros between each two adjacent numbers in the array $[1, 2, 3, 4, 5, 6]$, such that the returned matrix is \n",
    "$[1, 0, 0, 0, 2, 0, 0, 0, 3, 0, 0, 0, 4, 0, 0, 0, 5, 0, 0, 0, 6]$."
   ]
  },
  {
   "cell_type": "code",
   "execution_count": 24,
   "metadata": {
    "deletable": false,
    "nbgrader": {
     "cell_type": "code",
     "checksum": "ae3e9ec22a2abd5dbf26f324f08f283a",
     "grade": false,
     "grade_id": "cell-0b95d1b83eb37a8c",
     "locked": false,
     "schema_version": 3,
     "solution": true,
     "task": false
    }
   },
   "outputs": [],
   "source": [
    "import numpy as np\n",
    "\n",
    "def insertZeros(mat):\n",
    "    # YOUR CODE HERE\n",
    "    p=3\n",
    "    new_nums = np.zeros(len(mat) + (len(mat)-1)*(p),dtype=int)\n",
    "    new_nums[::p+1] = mat\n",
    "    return new_nums"
   ]
  },
  {
   "cell_type": "code",
   "execution_count": 25,
   "metadata": {},
   "outputs": [
    {
     "data": {
      "text/plain": [
       "array([1, 0, 0, 0, 2, 0, 0, 0, 3, 0, 0, 0, 4, 0, 0, 0, 5, 0, 0, 0, 6])"
      ]
     },
     "execution_count": 25,
     "metadata": {},
     "output_type": "execute_result"
    }
   ],
   "source": [
    "a = np.arange(1,7)\n",
    "insertZeros(a)"
   ]
  },
  {
   "cell_type": "code",
   "execution_count": 26,
   "metadata": {
    "deletable": false,
    "editable": false,
    "nbgrader": {
     "cell_type": "code",
     "checksum": "1f8ea52d568fce3a655cd70d2c15d69a",
     "grade": true,
     "grade_id": "cell-9f5764dd7239884e",
     "locked": true,
     "points": 0.4,
     "schema_version": 3,
     "solution": false,
     "task": false
    }
   },
   "outputs": [],
   "source": [
    "import numpy as np\n",
    "\n",
    "a = np.arange(1,7)\n",
    "\n",
    "assert (insertZeros(a) == np.array([1, 0, 0, 0, 2, 0, 0, 0, 3, 0, 0, 0, 4, 0, 0, 0, 5, 0, 0, 0, 6])).all()"
   ]
  }
 ],
 "metadata": {
  "kernelspec": {
   "display_name": "Python 3",
   "language": "python",
   "name": "python3"
  },
  "language_info": {
   "codemirror_mode": {
    "name": "ipython",
    "version": 3
   },
   "file_extension": ".py",
   "mimetype": "text/x-python",
   "name": "python",
   "nbconvert_exporter": "python",
   "pygments_lexer": "ipython3",
   "version": "3.6.9"
  }
 },
 "nbformat": 4,
 "nbformat_minor": 2
}
